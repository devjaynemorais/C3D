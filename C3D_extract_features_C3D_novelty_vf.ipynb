{
  "nbformat": 4,
  "nbformat_minor": 0,
  "metadata": {
    "accelerator": "GPU",
    "colab": {
      "name": "C3D_extract_features_C3D_novelty_vf.ipynb",
      "provenance": [],
      "collapsed_sections": []
    },
    "kernelspec": {
      "display_name": "Python 3",
      "language": "python",
      "name": "python3"
    },
    "language_info": {
      "codemirror_mode": {
        "name": "ipython",
        "version": 3
      },
      "file_extension": ".py",
      "mimetype": "text/x-python",
      "name": "python",
      "nbconvert_exporter": "python",
      "pygments_lexer": "ipython3",
      "version": "3.6.3"
    }
  },
  "cells": [
    {
      "cell_type": "markdown",
      "metadata": {
        "colab_type": "text",
        "id": "X402TuW0P_TL"
      },
      "source": [
        "Cheque a versão do sistema operacional e se o cuda está presente no diretório\n",
        "\n",
        "O colab deve estar em modo GPU\n",
        "\n",
        "É importante que tenha a pasta do projeto C3D disponível em: [link text](https://github.com/devjaynemorais/C3D/) contida no seu Drive pessoal."
      ]
    },
    {
      "cell_type": "code",
      "metadata": {
        "colab_type": "code",
        "id": "VATvYH7lJAD7",
        "outputId": "2222cb75-39f6-47ff-854f-3b37bfceb0a6",
        "colab": {
          "base_uri": "https://localhost:8080/",
          "height": 143
        }
      },
      "source": [
        "# check Utubtu version\n",
        "!lsb_release -a\n",
        "# by default, CUDA is enabled under GPU mode of Google Colab\n",
        "!ls /usr/local"
      ],
      "execution_count": 0,
      "outputs": [
        {
          "output_type": "stream",
          "text": [
            "No LSB modules are available.\n",
            "Distributor ID:\tUbuntu\n",
            "Description:\tUbuntu 18.04.3 LTS\n",
            "Release:\t18.04\n",
            "Codename:\tbionic\n",
            "bin   cuda-10.0  etc\tinclude  LICENSE.txt  sbin\t share\txgboost\n",
            "cuda  cuda-10.1  games\tlib\t man\t      setup.cfg  src\n"
          ],
          "name": "stdout"
        }
      ]
    },
    {
      "cell_type": "markdown",
      "metadata": {
        "id": "-Vn33N-pcfL_",
        "colab_type": "text"
      },
      "source": [
        "A saída esperada deve ser semelhante a:\n",
        "\n",
        "`No LSB modules are available.\n",
        "Distributor ID:\tUbuntu\n",
        "Description:\tUbuntu 18.04.3 LTS\n",
        "Release:\t18.04\n",
        "Codename:\tbionic\n",
        "bin   cuda-10.0  etc\tinclude  LICENSE.txt  sbin\t share\txgboost\n",
        "cuda  cuda-10.1  games\tlib\t man\t      setup.cfg  src`"
      ]
    },
    {
      "cell_type": "code",
      "metadata": {
        "colab_type": "code",
        "id": "LC_lWLT_LjCo",
        "outputId": "68fed9f3-5ea4-463a-86bd-a438f0b175e5",
        "colab": {
          "base_uri": "https://localhost:8080/",
          "height": 35
        }
      },
      "source": [
        "# optional\n",
        "from google.colab import drive\n",
        "drive.mount('/content/gdrive')"
      ],
      "execution_count": 0,
      "outputs": [
        {
          "output_type": "stream",
          "text": [
            "Drive already mounted at /content/gdrive; to attempt to forcibly remount, call drive.mount(\"/content/gdrive\", force_remount=True).\n"
          ],
          "name": "stdout"
        }
      ]
    },
    {
      "cell_type": "markdown",
      "metadata": {
        "colab_type": "text",
        "id": "exdUCY5QwaYU"
      },
      "source": [
        "# Note\n",
        "\n",
        "\n",
        "```\n",
        "As of the CUDA 8 release, gcc 5.3 is fully supported on Ubuntu 16.06 and Fedora 23.\n",
        "As of the CUDA 9 release, gcc 6 is fully supported on Ubuntu 16.04, Ubuntu 17.04 and Fedora 25.\n",
        "The CUDA 9.2 release adds support for gcc 7\n",
        "```\n",
        "\n"
      ]
    },
    {
      "cell_type": "code",
      "metadata": {
        "colab_type": "code",
        "id": "tDAr9wyRdqPp",
        "outputId": "150575cb-f77e-412e-d02b-2c5b801dea05",
        "colab": {
          "base_uri": "https://localhost:8080/",
          "height": 431
        }
      },
      "source": [
        "# make g++, nvcc and boost work together (compatible). \n",
        "# Better install gcc before anything else\n",
        "# update-alternatives --install [link] [name] [path] [priority]\n",
        "\n",
        "!sudo apt update\n",
        "!sudo apt install g++-5\n",
        "!sudo update-alternatives --remove-all gcc \n",
        "!sudo update-alternatives --remove-all g++\n",
        "\n",
        "!sudo update-alternatives --install /usr/bin/gcc gcc /usr/bin/gcc-5 20\n",
        "!sudo update-alternatives --install /usr/bin/g++ g++ /usr/bin/g++-5 20\n",
        "\n",
        "!sudo update-alternatives --install /usr/bin/cc cc /usr/bin/gcc 30\n",
        "!sudo update-alternatives --set cc /usr/bin/gcc\n",
        "\n",
        "!sudo update-alternatives --install /usr/bin/c++ c++ /usr/bin/g++ 30\n",
        "!sudo update-alternatives --set c++ /usr/bin/g++"
      ],
      "execution_count": 0,
      "outputs": [
        {
          "output_type": "stream",
          "text": [
            "\u001b[33m\r0% [Working]\u001b[0m\r            \rHit:1 http://ppa.launchpad.net/graphics-drivers/ppa/ubuntu bionic InRelease\n",
            "\u001b[33m\r0% [Connecting to archive.ubuntu.com (91.189.88.142)] [Waiting for headers] [Co\u001b[0m\r                                                                               \rGet:2 http://security.ubuntu.com/ubuntu bionic-security InRelease [88.7 kB]\n",
            "\u001b[33m\r0% [Waiting for headers] [2 InRelease 5,483 B/88.7 kB 6%] [Connected to cloud.r\u001b[0m\u001b[33m\r0% [1 InRelease gpgv 21.3 kB] [Waiting for headers] [2 InRelease 8,379 B/88.7 k\u001b[0m\r                                                                               \rHit:3 http://archive.ubuntu.com/ubuntu bionic InRelease\n",
            "\u001b[33m\r0% [1 InRelease gpgv 21.3 kB] [Waiting for headers] [2 InRelease 11.3 kB/88.7 k\u001b[0m\r                                                                               \rHit:4 http://ppa.launchpad.net/marutter/c2d4u3.5/ubuntu bionic InRelease\n",
            "\u001b[33m\r0% [1 InRelease gpgv 21.3 kB] [Waiting for headers] [2 InRelease 14.2 kB/88.7 k\u001b[0m\r                                                                               \rGet:5 http://archive.ubuntu.com/ubuntu bionic-updates InRelease [88.7 kB]\n",
            "\u001b[33m\r0% [1 InRelease gpgv 21.3 kB] [5 InRelease 2,604 B/88.7 kB 3%] [2 InRelease 22.\u001b[0m\r                                                                               \rHit:6 https://cloud.r-project.org/bin/linux/ubuntu bionic-cran35/ InRelease\n",
            "\u001b[33m\r0% [1 InRelease gpgv 21.3 kB] [5 InRelease 15.6 kB/88.7 kB 18%] [2 InRelease 34\u001b[0m\u001b[33m\r0% [1 InRelease gpgv 21.3 kB] [5 InRelease 60.5 kB/88.7 kB 68%] [Waiting for he\u001b[0m\u001b[33m\r                                                                               \r0% [1 InRelease gpgv 21.3 kB] [Waiting for headers] [Waiting for headers]\u001b[0m\r                                                                         \rGet:7 http://archive.ubuntu.com/ubuntu bionic-backports InRelease [74.6 kB]\n",
            "\u001b[33m\r0% [1 InRelease gpgv 21.3 kB] [7 InRelease 9,844 B/74.6 kB 13%] [Waiting for he\u001b[0m\u001b[33m\r                                                                               \r0% [1 InRelease gpgv 21.3 kB] [Waiting for headers]\u001b[0m\u001b[33m\r                                                   \r0% [Waiting for headers]\u001b[0m\u001b[33m\r0% [3 InRelease gpgv 242 kB] [Waiting for headers]\u001b[0m\r                                                  \rIgn:8 https://developer.download.nvidia.com/compute/cuda/repos/ubuntu1804/x86_64  InRelease\n",
            "\u001b[33m\r                                                  \r0% [3 InRelease gpgv 242 kB]\u001b[0m\u001b[33m\r                            \r0% [Waiting for headers]\u001b[0m\u001b[33m\r0% [4 InRelease gpgv 15.4 kB] [Waiting for headers]\u001b[0m\u001b[33m\r                                                   \r0% [Waiting for headers]\u001b[0m\u001b[33m\r0% [6 InRelease gpgv 3,626 B] [Waiting for headers]\u001b[0m\r                                                   \rIgn:9 https://developer.download.nvidia.com/compute/machine-learning/repos/ubuntu1804/x86_64  InRelease\n",
            "\u001b[33m\r                                                   \r0% [6 InRelease gpgv 3,626 B]\u001b[0m\u001b[33m\r                             \r0% [Waiting for headers]\u001b[0m\u001b[33m\r0% [2 InRelease gpgv 88.7 kB] [Waiting for headers]\u001b[0m\r                                                   \rHit:10 https://developer.download.nvidia.com/compute/cuda/repos/ubuntu1804/x86_64  Release\n",
            "Hit:11 https://developer.download.nvidia.com/compute/machine-learning/repos/ubuntu1804/x86_64  Release\n",
            "Fetched 252 kB in 1s (355 kB/s)\n",
            "Reading package lists... Done\n",
            "Building dependency tree       \n",
            "Reading state information... Done\n",
            "91 packages can be upgraded. Run 'apt list --upgradable' to see them.\n",
            "Reading package lists... Done\n",
            "Building dependency tree       \n",
            "Reading state information... Done\n",
            "g++-5 is already the newest version (5.5.0-12ubuntu1).\n",
            "0 upgraded, 0 newly installed, 0 to remove and 91 not upgraded.\n",
            "update-alternatives: using /usr/bin/gcc-5 to provide /usr/bin/gcc (gcc) in auto mode\n",
            "update-alternatives: using /usr/bin/g++-5 to provide /usr/bin/g++ (g++) in auto mode\n"
          ],
          "name": "stdout"
        }
      ]
    },
    {
      "cell_type": "code",
      "metadata": {
        "colab_type": "code",
        "id": "yFPKFk1BNpgp",
        "outputId": "f7b1e880-8868-4361-e908-2cd48419a0ee",
        "colab": {
          "base_uri": "https://localhost:8080/",
          "height": 557
        }
      },
      "source": [
        "!sudo apt-get install -f\n",
        "\n",
        "# install dependencies\n",
        "\n",
        "!sudo apt-get install -y libprotobuf-dev libleveldb-dev libsnappy-dev libhdf5-serial-dev protobuf-compiler\n",
        "!sudo apt-get install libatlas-base-dev\n",
        "!sudo apt-get install -y --no-install-recommends libboost-all-dev\n",
        "!sudo apt-get install -y libgflags-dev libgoogle-glog-dev liblmdb-dev"
      ],
      "execution_count": 0,
      "outputs": [
        {
          "output_type": "stream",
          "text": [
            "Reading package lists... Done\n",
            "Building dependency tree       \n",
            "Reading state information... Done\n",
            "0 upgraded, 0 newly installed, 0 to remove and 91 not upgraded.\n",
            "Reading package lists... Done\n",
            "Building dependency tree       \n",
            "Reading state information... Done\n",
            "libleveldb-dev is already the newest version (1.20-2).\n",
            "libprotobuf-dev is already the newest version (3.0.0-9.1ubuntu1).\n",
            "libsnappy-dev is already the newest version (1.1.7-1).\n",
            "libhdf5-serial-dev is already the newest version (1.10.0-patch1+docs-4).\n",
            "protobuf-compiler is already the newest version (3.0.0-9.1ubuntu1).\n",
            "0 upgraded, 0 newly installed, 0 to remove and 91 not upgraded.\n",
            "Reading package lists... Done\n",
            "Building dependency tree       \n",
            "Reading state information... Done\n",
            "libatlas-base-dev is already the newest version (3.10.3-5).\n",
            "0 upgraded, 0 newly installed, 0 to remove and 91 not upgraded.\n",
            "Reading package lists... Done\n",
            "Building dependency tree       \n",
            "Reading state information... Done\n",
            "libboost-all-dev is already the newest version (1.65.1.0ubuntu1).\n",
            "0 upgraded, 0 newly installed, 0 to remove and 91 not upgraded.\n",
            "Reading package lists... Done\n",
            "Building dependency tree       \n",
            "Reading state information... Done\n",
            "libgflags-dev is already the newest version (2.2.1-1).\n",
            "libgoogle-glog-dev is already the newest version (0.3.5-1).\n",
            "liblmdb-dev is already the newest version (0.9.21-1ubuntu0.1).\n",
            "0 upgraded, 0 newly installed, 0 to remove and 91 not upgraded.\n"
          ],
          "name": "stdout"
        }
      ]
    },
    {
      "cell_type": "markdown",
      "metadata": {
        "colab_type": "text",
        "id": "HgJqGdHC5Tkv"
      },
      "source": [
        "# Note\n",
        "```\n",
        "CUDA, OPENCV\n",
        "• BLAS (Basic Linear Algebra Subprograms): operations like matrix\n",
        "multiplication, matrix addition, both implementation for CPU(cBLAS) and\n",
        "GPU(cuBLAS). provided by MKL(INTEL), ATLAS, openBLAS, etc.\n",
        "• Boost: a c++ library. > Use some of its math functions and shared_pointer.\n",
        "• glog,gflags provide logging & command line utilities. > Essential for\n",
        "debugging.\n",
        "• leveldb, lmdb: database io for your program. > Need to know this for\n",
        "preparing your own data.\n",
        "• protobuf: an efficient and flexible way to define data structure. > Need to\n",
        "know this for defining new layer\n",
        "```\n",
        "\n"
      ]
    },
    {
      "cell_type": "markdown",
      "metadata": {
        "colab_type": "text",
        "id": "5dXwxRYuQuMy"
      },
      "source": [
        "Faça o clone da seguinte repositório. Atenção, para manter essa versão do notebook do Colab estável foi criado o branch `C3DVF-Colab`, em caso de alteração após 19/11/2019 no branch `master`,"
      ]
    },
    {
      "cell_type": "code",
      "metadata": {
        "colab_type": "code",
        "id": "ekk5SWHHTK4E",
        "outputId": "89f7e161-cc6f-4dd2-80b7-00845a5e3d48",
        "colab": {
          "base_uri": "https://localhost:8080/",
          "height": 179
        }
      },
      "source": [
        "%cd /content/gdrive/My\\ Drive/\n",
        "!git clone https://github.com/devjaynemorais/C3D.git"
      ],
      "execution_count": 0,
      "outputs": [
        {
          "output_type": "stream",
          "text": [
            "/content/gdrive/My Drive\n",
            "Cloning into 'C3D'...\n",
            "remote: Enumerating objects: 31, done.\u001b[K\n",
            "remote: Counting objects: 100% (31/31), done.\u001b[K\n",
            "remote: Compressing objects: 100% (31/31), done.\u001b[K\n",
            "remote: Total 1782 (delta 16), reused 0 (delta 0), pack-reused 1751\u001b[K\n",
            "Receiving objects: 100% (1782/1782), 38.51 MiB | 15.61 MiB/s, done.\n",
            "Resolving deltas: 100% (620/620), done.\n",
            "Checking out files: 100% (1256/1256), done.\n"
          ],
          "name": "stdout"
        }
      ]
    },
    {
      "cell_type": "code",
      "metadata": {
        "colab_type": "code",
        "id": "7i4juGg3ncuD",
        "outputId": "3ca5988b-e6af-4115-d382-d1f4f4f42b48",
        "colab": {
          "base_uri": "https://localhost:8080/",
          "height": 89
        }
      },
      "source": [
        "%cd /content/gdrive/My\\ Drive/C3D/C3D-v1.0/\n",
        "!ls"
      ],
      "execution_count": 0,
      "outputs": [
        {
          "output_type": "stream",
          "text": [
            "/content/gdrive/My Drive/C3D/C3D-v1.0\n",
            "caffe.cloc\t docs\t   INSTALL.md\t    Makefile.config.example  scripts\n",
            "CONTRIBUTORS.md  examples  Makefile\t    matlab\t\t     src\n",
            "data\t\t include   Makefile.config  python\t\t     tools\n"
          ],
          "name": "stdout"
        }
      ]
    },
    {
      "cell_type": "markdown",
      "metadata": {
        "id": "HP9EAehpcqfO",
        "colab_type": "text"
      },
      "source": [
        "Saída esperada:\n",
        "\n",
        "`/content/gdrive/My Drive/C3D/C3D-v1.0\n",
        "caffe.cloc\t examples    Makefile.config\t\t\t      python\n",
        "CONTRIBUTORS.md  include     Makefile.config.example\t\t      scripts\n",
        "data\t\t INSTALL.md  matlab\t\t\t\t      src\n",
        "docs\t\t Makefile    output_novelty_features_c3d_extract.zip  tools`"
      ]
    },
    {
      "cell_type": "markdown",
      "metadata": {
        "colab_type": "text",
        "id": "ggfJ-s_2aovH"
      },
      "source": [
        "Atualizando as bibliotecas de vínculo dinâmico\n"
      ]
    },
    {
      "cell_type": "code",
      "metadata": {
        "colab_type": "code",
        "id": "otDnwt0nuHkb",
        "outputId": "66f216aa-f296-4522-ccc4-b2b0791c5165",
        "colab": {
          "base_uri": "https://localhost:8080/",
          "height": 53
        }
      },
      "source": [
        "!sudo ldconfig /usr/local/cuda/lib64"
      ],
      "execution_count": 0,
      "outputs": [
        {
          "output_type": "stream",
          "text": [
            "/sbin/ldconfig.real: /usr/local/lib/python3.6/dist-packages/ideep4py/lib/libmkldnn.so.0 is not a symbolic link\n",
            "\n"
          ],
          "name": "stdout"
        }
      ]
    },
    {
      "cell_type": "markdown",
      "metadata": {
        "id": "FDadzbO_cUB2",
        "colab_type": "text"
      },
      "source": [
        "A saída esperada deve ser:\n",
        "\n",
        "`/sbin/ldconfig.real: /usr/local/lib/python3.6/dist-packages/ideep4py/lib/libmkldnn.so.0 is not a symbolic link`"
      ]
    },
    {
      "cell_type": "code",
      "metadata": {
        "colab_type": "code",
        "id": "bhoO9KzsuMED",
        "outputId": "e09b0b35-8a62-498d-cc3f-8b2cd733bcc9",
        "colab": {
          "base_uri": "https://localhost:8080/",
          "height": 107
        }
      },
      "source": [
        "!sudo apt-get install nvidia-modprobe\n"
      ],
      "execution_count": 0,
      "outputs": [
        {
          "output_type": "stream",
          "text": [
            "Reading package lists... Done\n",
            "Building dependency tree       \n",
            "Reading state information... Done\n",
            "nvidia-modprobe is already the newest version (440.64.00-0ubuntu1).\n",
            "0 upgraded, 0 newly installed, 0 to remove and 91 not upgraded.\n"
          ],
          "name": "stdout"
        }
      ]
    },
    {
      "cell_type": "code",
      "metadata": {
        "colab_type": "code",
        "id": "wso5_AIF3qPR",
        "outputId": "6af7fabe-1870-48a8-ebc2-f00e3b9299c2",
        "colab": {
          "base_uri": "https://localhost:8080/",
          "height": 217
        }
      },
      "source": [
        "!pip show protobuf"
      ],
      "execution_count": 0,
      "outputs": [
        {
          "output_type": "stream",
          "text": [
            "Name: protobuf\n",
            "Version: 3.10.0\n",
            "Summary: Protocol Buffers\n",
            "Home-page: https://developers.google.com/protocol-buffers/\n",
            "Author: None\n",
            "Author-email: None\n",
            "License: 3-Clause BSD License\n",
            "Location: /usr/local/lib/python3.6/dist-packages\n",
            "Requires: six, setuptools\n",
            "Required-by: tensorflow, tensorflow-metadata, tensorflow-hub, tensorflow-datasets, tensorboard, googleapis-common-protos, google-cloud-bigquery, google-api-core, chainer\n"
          ],
          "name": "stdout"
        }
      ]
    },
    {
      "cell_type": "markdown",
      "metadata": {
        "colab_type": "text",
        "id": "CQHA8iNqI9o4"
      },
      "source": [
        "Observe o modelo da Placa de vídeo utilizada para alterar a variável `CUDA_ARCH` no arquivo `C3D/C3D-v1.0/Makefile.config`. Em caso de dúvidas sobre qual parâmetro utilizar para a variável, consulte: [Cuda-GPUs](https://developer.nvidia.com/cuda-gpus).\n",
        "\n",
        "Para este notebook, a placa de vídeo é a Tesla K80. Portanto, adicionaremos a linha `-gencode arch=compute_37,code=sm_37 \\` na variável `CUDA_ARCH` presente no arquivo.\n",
        "\n"
      ]
    },
    {
      "cell_type": "code",
      "metadata": {
        "colab_type": "code",
        "id": "a9YRFauZ65Wn",
        "outputId": "a9d31854-15c7-4fbb-89a2-fec8ed856083",
        "colab": {
          "base_uri": "https://localhost:8080/",
          "height": 323
        }
      },
      "source": [
        "!nvidia-smi"
      ],
      "execution_count": 0,
      "outputs": [
        {
          "output_type": "stream",
          "text": [
            "Sun Apr 26 22:31:43 2020       \n",
            "+-----------------------------------------------------------------------------+\n",
            "| NVIDIA-SMI 440.64.00    Driver Version: 418.67       CUDA Version: 10.1     |\n",
            "|-------------------------------+----------------------+----------------------+\n",
            "| GPU  Name        Persistence-M| Bus-Id        Disp.A | Volatile Uncorr. ECC |\n",
            "| Fan  Temp  Perf  Pwr:Usage/Cap|         Memory-Usage | GPU-Util  Compute M. |\n",
            "|===============================+======================+======================|\n",
            "|   0  Tesla P4            Off  | 00000000:00:04.0 Off |                    0 |\n",
            "| N/A   37C    P8     7W /  75W |      0MiB /  7611MiB |      0%      Default |\n",
            "+-------------------------------+----------------------+----------------------+\n",
            "                                                                               \n",
            "+-----------------------------------------------------------------------------+\n",
            "| Processes:                                                       GPU Memory |\n",
            "|  GPU       PID   Type   Process name                             Usage      |\n",
            "|=============================================================================|\n",
            "|  No running processes found                                                 |\n",
            "+-----------------------------------------------------------------------------+\n"
          ],
          "name": "stdout"
        }
      ]
    },
    {
      "cell_type": "markdown",
      "metadata": {
        "id": "8bro1uSHcyIk",
        "colab_type": "text"
      },
      "source": [
        "A saída esperada deve ser semelhante a:\n",
        "\n",
        "`Sun Apr 26 22:31:43 2020       \n",
        "+-----------------------------------------------------------------------------+\n",
        "| NVIDIA-SMI 440.64.00    Driver Version: 418.67       CUDA Version: 10.1     |\n",
        "|-------------------------------+----------------------+----------------------+\n",
        "| GPU  Name        Persistence-M| Bus-Id        Disp.A | Volatile Uncorr. ECC |\n",
        "| Fan  Temp  Perf  Pwr:Usage/Cap|         Memory-Usage | GPU-Util  Compute M. |\n",
        "|===============================+======================+======================|\n",
        "|   0  Tesla P4            Off  | 00000000:00:04.0 Off |                    0 |\n",
        "| N/A   37C    P8     7W /  75W |      0MiB /  7611MiB |      0%      Default |\n",
        "+-------------------------------+----------------------+----------------------+\n",
        "                                                                               \n",
        "+-----------------------------------------------------------------------------+\n",
        "| Processes:                                                       GPU Memory |\n",
        "|  GPU       PID   Type   Process name                             Usage      |\n",
        "|=============================================================================|\n",
        "|  No running processes found                                                 |\n",
        "+-----------------------------------------------------------------------------+`"
      ]
    },
    {
      "cell_type": "code",
      "metadata": {
        "colab_type": "code",
        "id": "NCAHEsq066Oa",
        "outputId": "96d7cd07-e7e9-4870-c798-4779d2d25636",
        "colab": {
          "base_uri": "https://localhost:8080/",
          "height": 35
        }
      },
      "source": [
        "!cat /usr/local/cuda/version.txt"
      ],
      "execution_count": 0,
      "outputs": [
        {
          "output_type": "stream",
          "text": [
            "CUDA Version 10.1.243\n"
          ],
          "name": "stdout"
        }
      ]
    },
    {
      "cell_type": "markdown",
      "metadata": {
        "colab_type": "text",
        "id": "C8U55JMzb7cG"
      },
      "source": [
        "Vá até o arquivo `/content/gdrive/My\\ Drive/C3D/C3D-v1.0/Makefile.config` no Drive e abra-o com um editor de texto e adicione a linha correspondente a variável do `CUDA_ARCH` de acordo com a versão correta da laca de vídeo disponibilizada pelo Google Colaboratory: Ex.: `-gencode arch=compute_61,code=sm_61` na variável `CUDA_ARCH`."
      ]
    },
    {
      "cell_type": "markdown",
      "metadata": {
        "id": "4UgCtiZzojIa",
        "colab_type": "text"
      },
      "source": [
        "[Como neste exemplo para uma Testa P4](https://drive.google.com/open?id=1XO-FY0S3WW3QMIR7n9V403oRUe_uOB3h)"
      ]
    },
    {
      "cell_type": "markdown",
      "metadata": {
        "id": "0zPnOyv2p2J1",
        "colab_type": "text"
      },
      "source": [
        "Confira se o Makefile.config mudou!\n",
        "\n",
        "**Obs.:** Às vezes o arquivo editado demora a ser atualizado aqui no notebook, sugiro atualizar a página e apenas prosseguir quando o arquivo exibir a atualização realizada.\n",
        "\n"
      ]
    },
    {
      "cell_type": "code",
      "metadata": {
        "colab_type": "code",
        "id": "w--F-73P6_zo",
        "colab": {
          "base_uri": "https://localhost:8080/",
          "height": 1000
        },
        "outputId": "992766d2-e6a7-408e-852a-4c99ad556b54"
      },
      "source": [
        "!cat /content/gdrive/My\\ Drive/C3D/C3D-v1.0/Makefile.config"
      ],
      "execution_count": 17,
      "outputs": [
        {
          "output_type": "stream",
          "text": [
            "## Refer to http://caffe.berkeleyvision.org/installation.html\n",
            "# Contributions simplifying and improving our build system are welcome!\n",
            "# C3D_V1.0\n",
            "\n",
            "# CUDA directory contains bin/ and lib/ directories that we need.\n",
            "CUDA_DIR := /usr/local/cuda\n",
            "\n",
            "# CUDA architecture setting: going with all of them (up to CUDA 5.5 compatible).\n",
            "# For the latest architecture, you need to install CUDA >= 6.0 and uncomment\n",
            "# the *_50 lines below.\n",
            "# DoLongBien, CUDA 9.2 ERROR nvcc fatal   : Unsupported gpu architecture 'compute_20'\n",
            "# CUDA architecture setting: going with all of them.\n",
            "# For CUDA < 6.0, comment the *_50 through *_61 lines for compatibility.\n",
            "# For CUDA < 8.0, comment the *_60 and *_61 lines for compatibility.\n",
            "# For CUDA >= 9.0, comment the *_20 and *_21 lines for compatibility.\n",
            "CUDA_ARCH := \t-gencode arch=compute_30,code=sm_30 \\\n",
            "\t\t-gencode arch=compute_35,code=sm_35 \\\n",
            "\t\t-gencode=arch=compute_50,code=sm_50 \\\n",
            "\t\t-gencode=arch=compute_61,code=compute_61\n",
            "\n",
            "# Uncomment if your OpenCV version >= 3.0\n",
            " OPENCV_VERSION := 3\n",
            "\n",
            "# BLAS choice:\n",
            "# atlas for ATLAS (default)\n",
            "# mkl for MKL\n",
            "# open for OpenBlas\n",
            "BLAS := atlas\n",
            "# Custom (MKL/ATLAS/OpenBLAS) include and lib directories.\n",
            "# Leave commented to accept the defaults for your choice of BLAS\n",
            "# (which should work)!\n",
            "# BLAS_INCLUDE := /path/to/your/blas\n",
            "# BLAS_LIB := /path/to/your/blas\n",
            "\n",
            "# This is required only if you will compile the matlab interface.\n",
            "# MATLAB directory should contain the mex binary in /bin.\n",
            "# MATLAB_DIR := /usr/local\n",
            "# MATLAB_DIR := /Applications/MATLAB_R2012b.app\n",
            "\n",
            "# NOTE: this is required only if you will compile the python interface.\n",
            "# We need to be able to find Python.h and numpy/arrayobject.h.\n",
            "PYTHON_INCLUDE := /usr/local/include/python2.7 \\\n",
            "\t\t/usr/local/lib/python2.7/dist-packages/numpy/core/include\n",
            "# Anaconda Python distribution is quite popular. Include path:\n",
            "# PYTHON_INCLUDE := $(HOME)/anaconda/include \\\n",
            "\t\t# $(HOME)/anaconda/include/python2.7 \\\n",
            "\t\t# $(HOME)/anaconda/lib/python2.7/site-packages/numpy/core/include\n",
            "\n",
            "# We need to be able to find libpythonX.X.so or .dylib.\n",
            "PYTHON_LIB := /usr/local/lib\n",
            "# PYTHON_LIB := $(HOME)/anaconda/lib\n",
            "\n",
            "# Whatever else you find you need goes here.\n",
            "INCLUDE_DIRS := $(PYTHON_INCLUDE) /usr/local/include /usr/include/hdf5/serial/\n",
            "LIBRARY_DIRS := $(PYTHON_LIB) /usr/local/lib /usr/lib /usr/lib/x86_64-linux-gnu/hdf5/serial \n",
            "\n",
            "BUILD_DIR := build\n",
            "DISTRIBUTE_DIR := distribute\n",
            "\n",
            "# Uncomment for debugging.\n",
            "# DEBUG := 1\n",
            "\n",
            "# The ID of the GPU that 'make runtest' will use to run unit tests.\n",
            "TEST_GPUID := 0\n"
          ],
          "name": "stdout"
        }
      ]
    },
    {
      "cell_type": "markdown",
      "metadata": {
        "colab_type": "text",
        "id": "20Fta-I4cIFI"
      },
      "source": [
        "## Compilação"
      ]
    },
    {
      "cell_type": "code",
      "metadata": {
        "colab_type": "code",
        "id": "nZboRTCccmN0",
        "outputId": "27aaa08e-471c-4936-9c6a-268480a0d527",
        "colab": {
          "base_uri": "https://localhost:8080/",
          "height": 1000
        }
      },
      "source": [
        "# compile\n",
        "\n",
        "%cd /content/gdrive/My\\ Drive/C3D/C3D-v1.0/\n",
        "!make clean\n",
        "!make all -j$(nproc)"
      ],
      "execution_count": 18,
      "outputs": [
        {
          "output_type": "stream",
          "text": [
            "/content/gdrive/My Drive/C3D/C3D-v1.0\n",
            "protoc --proto_path=src --cpp_out=build/src src/caffe/proto/caffe.proto\n",
            "protoc --proto_path=src --cpp_out=build/src src/caffe/proto/caffe_pretty_print.proto\n",
            "[libprotobuf WARNING google/protobuf/compiler/parser.cc:547] No syntax specified for the proto file: caffe/proto/caffe.proto. Please use 'syntax = \"proto2\";' or 'syntax = \"proto3\";' to specify a syntax version. (Defaulted to proto2 syntax.)\n",
            "[libprotobuf WARNING google/protobuf/compiler/parser.cc:547] No syntax specified for the proto file: caffe/proto/caffe_pretty_print.proto. Please use 'syntax = \"proto2\";' or 'syntax = \"proto3\";' to specify a syntax version. (Defaulted to proto2 syntax.)\n",
            "[libprotobuf WARNING google/protobuf/compiler/parser.cc:547] No syntax specified for the proto file: caffe/proto/caffe.proto. Please use 'syntax = \"proto2\";' or 'syntax = \"proto3\";' to specify a syntax version. (Defaulted to proto2 syntax.)\n",
            "\n",
            "/usr/local/cuda/bin/nvcc -ccbin=/usr/bin/g++ -Xcompiler -fPIC -DNDEBUG -O2 -I/usr/local/include/python2.7 -I/usr/local/lib/python2.7/dist-packages/numpy/core/include -I/usr/local/include -I/usr/include/hdf5/serial/ -Ibuild/src -I./src -I./include -I/usr/local/cuda/include -gencode arch=compute_30,code=sm_30 -gencode arch=compute_35,code=sm_35 -gencode=arch=compute_50,code=sm_50 -gencode=arch=compute_61,code=compute_61 -c src/caffe/util/im2col.cu -o build/src/caffe/util/im2col.cuo\n",
            "\n",
            "/usr/local/cuda/bin/nvcc -ccbin=/usr/bin/g++ -Xcompiler -fPIC -DNDEBUG -O2 -I/usr/local/include/python2.7 -I/usr/local/lib/python2.7/dist-packages/numpy/core/include -I/usr/local/include -I/usr/include/hdf5/serial/ -Ibuild/src -I./src -I./include -I/usr/local/cuda/include -gencode arch=compute_30,code=sm_30 -gencode arch=compute_35,code=sm_35 -gencode=arch=compute_50,code=sm_50 -gencode=arch=compute_61,code=compute_61 -c src/caffe/util/math_functions.cu -o build/src/caffe/util/math_functions.cuo\n",
            "In file included from \u001b[01m\u001b[Ksrc/caffe/util/math_functions.cu:3:0\u001b[m\u001b[K:\n",
            "\u001b[01m\u001b[K/usr/local/cuda/include/math_functions.h:54:2:\u001b[m\u001b[K \u001b[01;35m\u001b[Kwarning: \u001b[m\u001b[K#warning \"math_functions.h is an internal header file and must not be used directly.  This file will be removed in a future CUDA release.  Please use cuda_runtime_api.h or cuda_runtime.h instead.\" [-Wcpp]\n",
            " #warning \"math_functions.h is an internal header file and must not be used directly.  This file will be removed in a future CUDA release.  Please use cuda_runtime_api.h or cuda_runtime.h instead.\"\n",
            "\u001b[01;32m\u001b[K  ^\u001b[m\u001b[K\n",
            "In file included from \u001b[01m\u001b[Ksrc/caffe/util/math_functions.cu:3:0\u001b[m\u001b[K:\n",
            "\u001b[01m\u001b[K/usr/local/cuda/include/math_functions.h:54:2:\u001b[m\u001b[K \u001b[01;35m\u001b[Kwarning: \u001b[m\u001b[K#warning \"math_functions.h is an internal header file and must not be used directly.  This file will be removed in a future CUDA release.  Please use cuda_runtime_api.h or cuda_runtime.h instead.\" [-Wcpp]\n",
            " #warning \"math_functions.h is an internal header file and must not be used directly.  This file will be removed in a future CUDA release.  Please use cuda_runtime_api.h or cuda_runtime.h instead.\"\n",
            "\u001b[01;32m\u001b[K  ^\u001b[m\u001b[K\n",
            "\n",
            "/usr/local/cuda/bin/nvcc -ccbin=/usr/bin/g++ -Xcompiler -fPIC -DNDEBUG -O2 -I/usr/local/include/python2.7 -I/usr/local/lib/python2.7/dist-packages/numpy/core/include -I/usr/local/include -I/usr/include/hdf5/serial/ -Ibuild/src -I./src -I./include -I/usr/local/cuda/include -gencode arch=compute_30,code=sm_30 -gencode arch=compute_35,code=sm_35 -gencode=arch=compute_50,code=sm_50 -gencode=arch=compute_61,code=compute_61 -c src/caffe/util/vol2col.cu -o build/src/caffe/util/vol2col.cuo\n",
            "In file included from \u001b[01m\u001b[Ksrc/caffe/util/math_functions.cu:3:0\u001b[m\u001b[K:\n",
            "\u001b[01m\u001b[K/usr/local/cuda/include/math_functions.h:54:2:\u001b[m\u001b[K \u001b[01;35m\u001b[Kwarning: \u001b[m\u001b[K#warning \"math_functions.h is an internal header file and must not be used directly.  This file will be removed in a future CUDA release.  Please use cuda_runtime_api.h or cuda_runtime.h instead.\" [-Wcpp]\n",
            " #warning \"math_functions.h is an internal header file and must not be used directly.  This file will be removed in a future CUDA release.  Please use cuda_runtime_api.h or cuda_runtime.h instead.\"\n",
            "\u001b[01;32m\u001b[K  ^\u001b[m\u001b[K\n",
            "In file included from \u001b[01m\u001b[Ksrc/caffe/util/math_functions.cu:3:0\u001b[m\u001b[K:\n",
            "\u001b[01m\u001b[K/usr/local/cuda/include/math_functions.h:54:2:\u001b[m\u001b[K \u001b[01;35m\u001b[Kwarning: \u001b[m\u001b[K#warning \"math_functions.h is an internal header file and must not be used directly.  This file will be removed in a future CUDA release.  Please use cuda_runtime_api.h or cuda_runtime.h instead.\" [-Wcpp]\n",
            " #warning \"math_functions.h is an internal header file and must not be used directly.  This file will be removed in a future CUDA release.  Please use cuda_runtime_api.h or cuda_runtime.h instead.\"\n",
            "\u001b[01;32m\u001b[K  ^\u001b[m\u001b[K\n",
            "\n",
            "/usr/bin/g++ tools/blob_proto_to_blob_binary.cpp -pthread -fPIC -DNDEBUG -O2 -I/usr/local/include/python2.7 -I/usr/local/lib/python2.7/dist-packages/numpy/core/include -I/usr/local/include -I/usr/include/hdf5/serial/ -Ibuild/src -I./src -I./include -I/usr/local/cuda/include -c -o build/tools/blob_proto_to_blob_binary.o -L/usr/local/lib -L/usr/local/lib -L/usr/lib -L/usr/lib/x86_64-linux-gnu/hdf5/serial -L/usr/local/cuda/lib64 -L/usr/local/cuda/lib -lcudart -lcublas -lcurand -lpthread -lglog -lprotobuf -lleveldb -lsnappy -lboost_system -lhdf5_hl -lhdf5 -lopencv_core -lopencv_highgui -lopencv_imgproc -lopencv_imgcodecs -lopencv_videoio -lcblas -latlas\n",
            "In file included from \u001b[01m\u001b[Ksrc/caffe/util/math_functions.cu:3:0\u001b[m\u001b[K:\n",
            "\u001b[01m\u001b[K/usr/local/cuda/include/math_functions.h:54:2:\u001b[m\u001b[K \u001b[01;35m\u001b[Kwarning: \u001b[m\u001b[K#warning \"math_functions.h is an internal header file and must not be used directly.  This file will be removed in a future CUDA release.  Please use cuda_runtime_api.h or cuda_runtime.h instead.\" [-Wcpp]\n",
            " #warning \"math_functions.h is an internal header file and must not be used directly.  This file will be removed in a future CUDA release.  Please use cuda_runtime_api.h or cuda_runtime.h instead.\"\n",
            "\u001b[01;32m\u001b[K  ^\u001b[m\u001b[K\n",
            "\n",
            "/usr/bin/g++ tools/compute_image_mean.cpp -pthread -fPIC -DNDEBUG -O2 -I/usr/local/include/python2.7 -I/usr/local/lib/python2.7/dist-packages/numpy/core/include -I/usr/local/include -I/usr/include/hdf5/serial/ -Ibuild/src -I./src -I./include -I/usr/local/cuda/include -c -o build/tools/compute_image_mean.o -L/usr/local/lib -L/usr/local/lib -L/usr/lib -L/usr/lib/x86_64-linux-gnu/hdf5/serial -L/usr/local/cuda/lib64 -L/usr/local/cuda/lib -lcudart -lcublas -lcurand -lpthread -lglog -lprotobuf -lleveldb -lsnappy -lboost_system -lhdf5_hl -lhdf5 -lopencv_core -lopencv_highgui -lopencv_imgproc -lopencv_imgcodecs -lopencv_videoio -lcblas -latlas\n",
            "\n",
            "/usr/bin/g++ tools/compute_image_mean_from_list.cpp -pthread -fPIC -DNDEBUG -O2 -I/usr/local/include/python2.7 -I/usr/local/lib/python2.7/dist-packages/numpy/core/include -I/usr/local/include -I/usr/include/hdf5/serial/ -Ibuild/src -I./src -I./include -I/usr/local/cuda/include -c -o build/tools/compute_image_mean_from_list.o -L/usr/local/lib -L/usr/local/lib -L/usr/lib -L/usr/lib/x86_64-linux-gnu/hdf5/serial -L/usr/local/cuda/lib64 -L/usr/local/cuda/lib -lcudart -lcublas -lcurand -lpthread -lglog -lprotobuf -lleveldb -lsnappy -lboost_system -lhdf5_hl -lhdf5 -lopencv_core -lopencv_highgui -lopencv_imgproc -lopencv_imgcodecs -lopencv_videoio -lcblas -latlas\n",
            "\n",
            "/usr/bin/g++ tools/compute_volume_mean.cpp -pthread -fPIC -DNDEBUG -O2 -I/usr/local/include/python2.7 -I/usr/local/lib/python2.7/dist-packages/numpy/core/include -I/usr/local/include -I/usr/include/hdf5/serial/ -Ibuild/src -I./src -I./include -I/usr/local/cuda/include -c -o build/tools/compute_volume_mean.o -L/usr/local/lib -L/usr/local/lib -L/usr/lib -L/usr/lib/x86_64-linux-gnu/hdf5/serial -L/usr/local/cuda/lib64 -L/usr/local/cuda/lib -lcudart -lcublas -lcurand -lpthread -lglog -lprotobuf -lleveldb -lsnappy -lboost_system -lhdf5_hl -lhdf5 -lopencv_core -lopencv_highgui -lopencv_imgproc -lopencv_imgcodecs -lopencv_videoio -lcblas -latlas\n",
            "\n",
            "/usr/bin/g++ tools/compute_volume_mean_from_list.cpp -pthread -fPIC -DNDEBUG -O2 -I/usr/local/include/python2.7 -I/usr/local/lib/python2.7/dist-packages/numpy/core/include -I/usr/local/include -I/usr/include/hdf5/serial/ -Ibuild/src -I./src -I./include -I/usr/local/cuda/include -c -o build/tools/compute_volume_mean_from_list.o -L/usr/local/lib -L/usr/local/lib -L/usr/lib -L/usr/lib/x86_64-linux-gnu/hdf5/serial -L/usr/local/cuda/lib64 -L/usr/local/cuda/lib -lcudart -lcublas -lcurand -lpthread -lglog -lprotobuf -lleveldb -lsnappy -lboost_system -lhdf5_hl -lhdf5 -lopencv_core -lopencv_highgui -lopencv_imgproc -lopencv_imgcodecs -lopencv_videoio -lcblas -latlas\n",
            "\n",
            "/usr/bin/g++ tools/compute_volume_mean_from_list_videos.cpp -pthread -fPIC -DNDEBUG -O2 -I/usr/local/include/python2.7 -I/usr/local/lib/python2.7/dist-packages/numpy/core/include -I/usr/local/include -I/usr/include/hdf5/serial/ -Ibuild/src -I./src -I./include -I/usr/local/cuda/include -c -o build/tools/compute_volume_mean_from_list_videos.o -L/usr/local/lib -L/usr/local/lib -L/usr/lib -L/usr/lib/x86_64-linux-gnu/hdf5/serial -L/usr/local/cuda/lib64 -L/usr/local/cuda/lib -lcudart -lcublas -lcurand -lpthread -lglog -lprotobuf -lleveldb -lsnappy -lboost_system -lhdf5_hl -lhdf5 -lopencv_core -lopencv_highgui -lopencv_imgproc -lopencv_imgcodecs -lopencv_videoio -lcblas -latlas\n",
            "\n",
            "/usr/bin/g++ tools/convert_imageset.cpp -pthread -fPIC -DNDEBUG -O2 -I/usr/local/include/python2.7 -I/usr/local/lib/python2.7/dist-packages/numpy/core/include -I/usr/local/include -I/usr/include/hdf5/serial/ -Ibuild/src -I./src -I./include -I/usr/local/cuda/include -c -o build/tools/convert_imageset.o -L/usr/local/lib -L/usr/local/lib -L/usr/lib -L/usr/lib/x86_64-linux-gnu/hdf5/serial -L/usr/local/cuda/lib64 -L/usr/local/cuda/lib -lcudart -lcublas -lcurand -lpthread -lglog -lprotobuf -lleveldb -lsnappy -lboost_system -lhdf5_hl -lhdf5 -lopencv_core -lopencv_highgui -lopencv_imgproc -lopencv_imgcodecs -lopencv_videoio -lcblas -latlas\n",
            "\n",
            "/usr/bin/g++ tools/device_query.cpp -pthread -fPIC -DNDEBUG -O2 -I/usr/local/include/python2.7 -I/usr/local/lib/python2.7/dist-packages/numpy/core/include -I/usr/local/include -I/usr/include/hdf5/serial/ -Ibuild/src -I./src -I./include -I/usr/local/cuda/include -c -o build/tools/device_query.o -L/usr/local/lib -L/usr/local/lib -L/usr/lib -L/usr/lib/x86_64-linux-gnu/hdf5/serial -L/usr/local/cuda/lib64 -L/usr/local/cuda/lib -lcudart -lcublas -lcurand -lpthread -lglog -lprotobuf -lleveldb -lsnappy -lboost_system -lhdf5_hl -lhdf5 -lopencv_core -lopencv_highgui -lopencv_imgproc -lopencv_imgcodecs -lopencv_videoio -lcblas -latlas\n",
            "\n",
            "/usr/bin/g++ tools/dump_network.cpp -pthread -fPIC -DNDEBUG -O2 -I/usr/local/include/python2.7 -I/usr/local/lib/python2.7/dist-packages/numpy/core/include -I/usr/local/include -I/usr/include/hdf5/serial/ -Ibuild/src -I./src -I./include -I/usr/local/cuda/include -c -o build/tools/dump_network.o -L/usr/local/lib -L/usr/local/lib -L/usr/lib -L/usr/lib/x86_64-linux-gnu/hdf5/serial -L/usr/local/cuda/lib64 -L/usr/local/cuda/lib -lcudart -lcublas -lcurand -lpthread -lglog -lprotobuf -lleveldb -lsnappy -lboost_system -lhdf5_hl -lhdf5 -lopencv_core -lopencv_highgui -lopencv_imgproc -lopencv_imgcodecs -lopencv_videoio -lcblas -latlas\n",
            "\n",
            "/usr/bin/g++ tools/extract_all_learned_filters.cpp -pthread -fPIC -DNDEBUG -O2 -I/usr/local/include/python2.7 -I/usr/local/lib/python2.7/dist-packages/numpy/core/include -I/usr/local/include -I/usr/include/hdf5/serial/ -Ibuild/src -I./src -I./include -I/usr/local/cuda/include -c -o build/tools/extract_all_learned_filters.o -L/usr/local/lib -L/usr/local/lib -L/usr/lib -L/usr/lib/x86_64-linux-gnu/hdf5/serial -L/usr/local/cuda/lib64 -L/usr/local/cuda/lib -lcudart -lcublas -lcurand -lpthread -lglog -lprotobuf -lleveldb -lsnappy -lboost_system -lhdf5_hl -lhdf5 -lopencv_core -lopencv_highgui -lopencv_imgproc -lopencv_imgcodecs -lopencv_videoio -lcblas -latlas\n",
            "\n",
            "/usr/bin/g++ tools/extract_features.cpp -pthread -fPIC -DNDEBUG -O2 -I/usr/local/include/python2.7 -I/usr/local/lib/python2.7/dist-packages/numpy/core/include -I/usr/local/include -I/usr/include/hdf5/serial/ -Ibuild/src -I./src -I./include -I/usr/local/cuda/include -c -o build/tools/extract_features.o -L/usr/local/lib -L/usr/local/lib -L/usr/lib -L/usr/lib/x86_64-linux-gnu/hdf5/serial -L/usr/local/cuda/lib64 -L/usr/local/cuda/lib -lcudart -lcublas -lcurand -lpthread -lglog -lprotobuf -lleveldb -lsnappy -lboost_system -lhdf5_hl -lhdf5 -lopencv_core -lopencv_highgui -lopencv_imgproc -lopencv_imgcodecs -lopencv_videoio -lcblas -latlas\n",
            "\n",
            "/usr/bin/g++ tools/extract_image_features.cpp -pthread -fPIC -DNDEBUG -O2 -I/usr/local/include/python2.7 -I/usr/local/lib/python2.7/dist-packages/numpy/core/include -I/usr/local/include -I/usr/include/hdf5/serial/ -Ibuild/src -I./src -I./include -I/usr/local/cuda/include -c -o build/tools/extract_image_features.o -L/usr/local/lib -L/usr/local/lib -L/usr/lib -L/usr/lib/x86_64-linux-gnu/hdf5/serial -L/usr/local/cuda/lib64 -L/usr/local/cuda/lib -lcudart -lcublas -lcurand -lpthread -lglog -lprotobuf -lleveldb -lsnappy -lboost_system -lhdf5_hl -lhdf5 -lopencv_core -lopencv_highgui -lopencv_imgproc -lopencv_imgcodecs -lopencv_videoio -lcblas -latlas\n",
            "\n",
            "/usr/bin/g++ tools/extract_learned_filters.cpp -pthread -fPIC -DNDEBUG -O2 -I/usr/local/include/python2.7 -I/usr/local/lib/python2.7/dist-packages/numpy/core/include -I/usr/local/include -I/usr/include/hdf5/serial/ -Ibuild/src -I./src -I./include -I/usr/local/cuda/include -c -o build/tools/extract_learned_filters.o -L/usr/local/lib -L/usr/local/lib -L/usr/lib -L/usr/lib/x86_64-linux-gnu/hdf5/serial -L/usr/local/cuda/lib64 -L/usr/local/cuda/lib -lcudart -lcublas -lcurand -lpthread -lglog -lprotobuf -lleveldb -lsnappy -lboost_system -lhdf5_hl -lhdf5 -lopencv_core -lopencv_highgui -lopencv_imgproc -lopencv_imgcodecs -lopencv_videoio -lcblas -latlas\n",
            "\n",
            "/usr/bin/g++ tools/finetune_net.cpp -pthread -fPIC -DNDEBUG -O2 -I/usr/local/include/python2.7 -I/usr/local/lib/python2.7/dist-packages/numpy/core/include -I/usr/local/include -I/usr/include/hdf5/serial/ -Ibuild/src -I./src -I./include -I/usr/local/cuda/include -c -o build/tools/finetune_net.o -L/usr/local/lib -L/usr/local/lib -L/usr/lib -L/usr/lib/x86_64-linux-gnu/hdf5/serial -L/usr/local/cuda/lib64 -L/usr/local/cuda/lib -lcudart -lcublas -lcurand -lpthread -lglog -lprotobuf -lleveldb -lsnappy -lboost_system -lhdf5_hl -lhdf5 -lopencv_core -lopencv_highgui -lopencv_imgproc -lopencv_imgcodecs -lopencv_videoio -lcblas -latlas\n",
            "\n",
            "/usr/bin/g++ tools/net_speed_benchmark.cpp -pthread -fPIC -DNDEBUG -O2 -I/usr/local/include/python2.7 -I/usr/local/lib/python2.7/dist-packages/numpy/core/include -I/usr/local/include -I/usr/include/hdf5/serial/ -Ibuild/src -I./src -I./include -I/usr/local/cuda/include -c -o build/tools/net_speed_benchmark.o -L/usr/local/lib -L/usr/local/lib -L/usr/lib -L/usr/lib/x86_64-linux-gnu/hdf5/serial -L/usr/local/cuda/lib64 -L/usr/local/cuda/lib -lcudart -lcublas -lcurand -lpthread -lglog -lprotobuf -lleveldb -lsnappy -lboost_system -lhdf5_hl -lhdf5 -lopencv_core -lopencv_highgui -lopencv_imgproc -lopencv_imgcodecs -lopencv_videoio -lcblas -latlas\n",
            "\n",
            "/usr/bin/g++ tools/test_net.cpp -pthread -fPIC -DNDEBUG -O2 -I/usr/local/include/python2.7 -I/usr/local/lib/python2.7/dist-packages/numpy/core/include -I/usr/local/include -I/usr/include/hdf5/serial/ -Ibuild/src -I./src -I./include -I/usr/local/cuda/include -c -o build/tools/test_net.o -L/usr/local/lib -L/usr/local/lib -L/usr/lib -L/usr/lib/x86_64-linux-gnu/hdf5/serial -L/usr/local/cuda/lib64 -L/usr/local/cuda/lib -lcudart -lcublas -lcurand -lpthread -lglog -lprotobuf -lleveldb -lsnappy -lboost_system -lhdf5_hl -lhdf5 -lopencv_core -lopencv_highgui -lopencv_imgproc -lopencv_imgcodecs -lopencv_videoio -lcblas -latlas\n",
            "\n",
            "/usr/bin/g++ tools/train_net.cpp -pthread -fPIC -DNDEBUG -O2 -I/usr/local/include/python2.7 -I/usr/local/lib/python2.7/dist-packages/numpy/core/include -I/usr/local/include -I/usr/include/hdf5/serial/ -Ibuild/src -I./src -I./include -I/usr/local/cuda/include -c -o build/tools/train_net.o -L/usr/local/lib -L/usr/local/lib -L/usr/lib -L/usr/lib/x86_64-linux-gnu/hdf5/serial -L/usr/local/cuda/lib64 -L/usr/local/cuda/lib -lcudart -lcublas -lcurand -lpthread -lglog -lprotobuf -lleveldb -lsnappy -lboost_system -lhdf5_hl -lhdf5 -lopencv_core -lopencv_highgui -lopencv_imgproc -lopencv_imgcodecs -lopencv_videoio -lcblas -latlas\n",
            "\n",
            "/usr/bin/g++ tools/upgrade_net_proto_binary.cpp -pthread -fPIC -DNDEBUG -O2 -I/usr/local/include/python2.7 -I/usr/local/lib/python2.7/dist-packages/numpy/core/include -I/usr/local/include -I/usr/include/hdf5/serial/ -Ibuild/src -I./src -I./include -I/usr/local/cuda/include -c -o build/tools/upgrade_net_proto_binary.o -L/usr/local/lib -L/usr/local/lib -L/usr/lib -L/usr/lib/x86_64-linux-gnu/hdf5/serial -L/usr/local/cuda/lib64 -L/usr/local/cuda/lib -lcudart -lcublas -lcurand -lpthread -lglog -lprotobuf -lleveldb -lsnappy -lboost_system -lhdf5_hl -lhdf5 -lopencv_core -lopencv_highgui -lopencv_imgproc -lopencv_imgcodecs -lopencv_videoio -lcblas -latlas\n",
            "\n",
            "/usr/bin/g++ tools/upgrade_net_proto_text.cpp -pthread -fPIC -DNDEBUG -O2 -I/usr/local/include/python2.7 -I/usr/local/lib/python2.7/dist-packages/numpy/core/include -I/usr/local/include -I/usr/include/hdf5/serial/ -Ibuild/src -I./src -I./include -I/usr/local/cuda/include -c -o build/tools/upgrade_net_proto_text.o -L/usr/local/lib -L/usr/local/lib -L/usr/lib -L/usr/lib/x86_64-linux-gnu/hdf5/serial -L/usr/local/cuda/lib64 -L/usr/local/cuda/lib -lcudart -lcublas -lcurand -lpthread -lglog -lprotobuf -lleveldb -lsnappy -lboost_system -lhdf5_hl -lhdf5 -lopencv_core -lopencv_highgui -lopencv_imgproc -lopencv_imgcodecs -lopencv_videoio -lcblas -latlas\n",
            "\n",
            "/usr/bin/g++ examples/cifar10/convert_cifar_data.cpp -pthread -fPIC -DNDEBUG -O2 -I/usr/local/include/python2.7 -I/usr/local/lib/python2.7/dist-packages/numpy/core/include -I/usr/local/include -I/usr/include/hdf5/serial/ -Ibuild/src -I./src -I./include -I/usr/local/cuda/include -c -o build/examples/cifar10/convert_cifar_data.o -L/usr/local/lib -L/usr/local/lib -L/usr/lib -L/usr/lib/x86_64-linux-gnu/hdf5/serial -L/usr/local/cuda/lib64 -L/usr/local/cuda/lib -lcudart -lcublas -lcurand -lpthread -lglog -lprotobuf -lleveldb -lsnappy -lboost_system -lhdf5_hl -lhdf5 -lopencv_core -lopencv_highgui -lopencv_imgproc -lopencv_imgcodecs -lopencv_videoio -lcblas -latlas\n",
            "\n",
            "/usr/bin/g++ examples/mnist/convert_mnist_data.cpp -pthread -fPIC -DNDEBUG -O2 -I/usr/local/include/python2.7 -I/usr/local/lib/python2.7/dist-packages/numpy/core/include -I/usr/local/include -I/usr/include/hdf5/serial/ -Ibuild/src -I./src -I./include -I/usr/local/cuda/include -c -o build/examples/mnist/convert_mnist_data.o -L/usr/local/lib -L/usr/local/lib -L/usr/lib -L/usr/lib/x86_64-linux-gnu/hdf5/serial -L/usr/local/cuda/lib64 -L/usr/local/cuda/lib -lcudart -lcublas -lcurand -lpthread -lglog -lprotobuf -lleveldb -lsnappy -lboost_system -lhdf5_hl -lhdf5 -lopencv_core -lopencv_highgui -lopencv_imgproc -lopencv_imgcodecs -lopencv_videoio -lcblas -latlas\n",
            "\n",
            "/usr/bin/g++ build/src/caffe/proto/caffe.pb.cc -pthread -fPIC -DNDEBUG -O2 -I/usr/local/include/python2.7 -I/usr/local/lib/python2.7/dist-packages/numpy/core/include -I/usr/local/include -I/usr/include/hdf5/serial/ -Ibuild/src -I./src -I./include -I/usr/local/cuda/include -c -o build/src/caffe/proto/caffe.pb.o\n",
            "\n",
            "/usr/bin/g++ build/src/caffe/proto/caffe_pretty_print.pb.cc -pthread -fPIC -DNDEBUG -O2 -I/usr/local/include/python2.7 -I/usr/local/lib/python2.7/dist-packages/numpy/core/include -I/usr/local/include -I/usr/include/hdf5/serial/ -Ibuild/src -I./src -I./include -I/usr/local/cuda/include -c -o build/src/caffe/proto/caffe_pretty_print.pb.o\n",
            "\n",
            "/usr/bin/g++ src/caffe/blob.cpp -pthread -fPIC -DNDEBUG -O2 -I/usr/local/include/python2.7 -I/usr/local/lib/python2.7/dist-packages/numpy/core/include -I/usr/local/include -I/usr/include/hdf5/serial/ -Ibuild/src -I./src -I./include -I/usr/local/cuda/include -c -o build/src/caffe/blob.o\n",
            "\n",
            "/usr/bin/g++ src/caffe/common.cpp -pthread -fPIC -DNDEBUG -O2 -I/usr/local/include/python2.7 -I/usr/local/lib/python2.7/dist-packages/numpy/core/include -I/usr/local/include -I/usr/include/hdf5/serial/ -Ibuild/src -I./src -I./include -I/usr/local/cuda/include -c -o build/src/caffe/common.o\n",
            "\n",
            "/usr/bin/g++ src/caffe/layer_factory.cpp -pthread -fPIC -DNDEBUG -O2 -I/usr/local/include/python2.7 -I/usr/local/lib/python2.7/dist-packages/numpy/core/include -I/usr/local/include -I/usr/include/hdf5/serial/ -Ibuild/src -I./src -I./include -I/usr/local/cuda/include -c -o build/src/caffe/layer_factory.o\n",
            "\n",
            "/usr/bin/g++ src/caffe/layers/accuracy_layer.cpp -pthread -fPIC -DNDEBUG -O2 -I/usr/local/include/python2.7 -I/usr/local/lib/python2.7/dist-packages/numpy/core/include -I/usr/local/include -I/usr/include/hdf5/serial/ -Ibuild/src -I./src -I./include -I/usr/local/cuda/include -c -o build/src/caffe/layers/accuracy_layer.o\n",
            "\n",
            "/usr/bin/g++ src/caffe/layers/bnll_layer.cpp -pthread -fPIC -DNDEBUG -O2 -I/usr/local/include/python2.7 -I/usr/local/lib/python2.7/dist-packages/numpy/core/include -I/usr/local/include -I/usr/include/hdf5/serial/ -Ibuild/src -I./src -I./include -I/usr/local/cuda/include -c -o build/src/caffe/layers/bnll_layer.o\n",
            "\n",
            "/usr/bin/g++ src/caffe/layers/concat_layer.cpp -pthread -fPIC -DNDEBUG -O2 -I/usr/local/include/python2.7 -I/usr/local/lib/python2.7/dist-packages/numpy/core/include -I/usr/local/include -I/usr/include/hdf5/serial/ -Ibuild/src -I./src -I./include -I/usr/local/cuda/include -c -o build/src/caffe/layers/concat_layer.o\n",
            "\n",
            "/usr/bin/g++ src/caffe/layers/conv_layer.cpp -pthread -fPIC -DNDEBUG -O2 -I/usr/local/include/python2.7 -I/usr/local/lib/python2.7/dist-packages/numpy/core/include -I/usr/local/include -I/usr/include/hdf5/serial/ -Ibuild/src -I./src -I./include -I/usr/local/cuda/include -c -o build/src/caffe/layers/conv_layer.o\n",
            "\n",
            "/usr/bin/g++ src/caffe/layers/convolution3d_layer.cpp -pthread -fPIC -DNDEBUG -O2 -I/usr/local/include/python2.7 -I/usr/local/lib/python2.7/dist-packages/numpy/core/include -I/usr/local/include -I/usr/include/hdf5/serial/ -Ibuild/src -I./src -I./include -I/usr/local/cuda/include -c -o build/src/caffe/layers/convolution3d_layer.o\n",
            "\n",
            "/usr/bin/g++ src/caffe/layers/data_layer.cpp -pthread -fPIC -DNDEBUG -O2 -I/usr/local/include/python2.7 -I/usr/local/lib/python2.7/dist-packages/numpy/core/include -I/usr/local/include -I/usr/include/hdf5/serial/ -Ibuild/src -I./src -I./include -I/usr/local/cuda/include -c -o build/src/caffe/layers/data_layer.o\n",
            "\n",
            "/usr/bin/g++ src/caffe/layers/deconvolution3d_layer.cpp -pthread -fPIC -DNDEBUG -O2 -I/usr/local/include/python2.7 -I/usr/local/lib/python2.7/dist-packages/numpy/core/include -I/usr/local/include -I/usr/include/hdf5/serial/ -Ibuild/src -I./src -I./include -I/usr/local/cuda/include -c -o build/src/caffe/layers/deconvolution3d_layer.o\n",
            "\n",
            "/usr/bin/g++ src/caffe/layers/down_sampling_layer.cpp -pthread -fPIC -DNDEBUG -O2 -I/usr/local/include/python2.7 -I/usr/local/lib/python2.7/dist-packages/numpy/core/include -I/usr/local/include -I/usr/include/hdf5/serial/ -Ibuild/src -I./src -I./include -I/usr/local/cuda/include -c -o build/src/caffe/layers/down_sampling_layer.o\n",
            "\n",
            "/usr/bin/g++ src/caffe/layers/dropout_layer.cpp -pthread -fPIC -DNDEBUG -O2 -I/usr/local/include/python2.7 -I/usr/local/lib/python2.7/dist-packages/numpy/core/include -I/usr/local/include -I/usr/include/hdf5/serial/ -Ibuild/src -I./src -I./include -I/usr/local/cuda/include -c -o build/src/caffe/layers/dropout_layer.o\n",
            "\n",
            "/usr/bin/g++ src/caffe/layers/eltwise_product_layer.cpp -pthread -fPIC -DNDEBUG -O2 -I/usr/local/include/python2.7 -I/usr/local/lib/python2.7/dist-packages/numpy/core/include -I/usr/local/include -I/usr/include/hdf5/serial/ -Ibuild/src -I./src -I./include -I/usr/local/cuda/include -c -o build/src/caffe/layers/eltwise_product_layer.o\n",
            "\n",
            "/usr/bin/g++ src/caffe/layers/euclidean_loss_layer.cpp -pthread -fPIC -DNDEBUG -O2 -I/usr/local/include/python2.7 -I/usr/local/lib/python2.7/dist-packages/numpy/core/include -I/usr/local/include -I/usr/include/hdf5/serial/ -Ibuild/src -I./src -I./include -I/usr/local/cuda/include -c -o build/src/caffe/layers/euclidean_loss_layer.o\n",
            "\n",
            "/usr/bin/g++ src/caffe/layers/flatten_layer.cpp -pthread -fPIC -DNDEBUG -O2 -I/usr/local/include/python2.7 -I/usr/local/lib/python2.7/dist-packages/numpy/core/include -I/usr/local/include -I/usr/include/hdf5/serial/ -Ibuild/src -I./src -I./include -I/usr/local/cuda/include -c -o build/src/caffe/layers/flatten_layer.o\n",
            "\n",
            "/usr/bin/g++ src/caffe/layers/hdf5_data_layer.cpp -pthread -fPIC -DNDEBUG -O2 -I/usr/local/include/python2.7 -I/usr/local/lib/python2.7/dist-packages/numpy/core/include -I/usr/local/include -I/usr/include/hdf5/serial/ -Ibuild/src -I./src -I./include -I/usr/local/cuda/include -c -o build/src/caffe/layers/hdf5_data_layer.o\n",
            "\n",
            "/usr/bin/g++ src/caffe/layers/hdf5_output_layer.cpp -pthread -fPIC -DNDEBUG -O2 -I/usr/local/include/python2.7 -I/usr/local/lib/python2.7/dist-packages/numpy/core/include -I/usr/local/include -I/usr/include/hdf5/serial/ -Ibuild/src -I./src -I./include -I/usr/local/cuda/include -c -o build/src/caffe/layers/hdf5_output_layer.o\n",
            "\n",
            "/usr/bin/g++ src/caffe/layers/hinge_loss_layer.cpp -pthread -fPIC -DNDEBUG -O2 -I/usr/local/include/python2.7 -I/usr/local/lib/python2.7/dist-packages/numpy/core/include -I/usr/local/include -I/usr/include/hdf5/serial/ -Ibuild/src -I./src -I./include -I/usr/local/cuda/include -c -o build/src/caffe/layers/hinge_loss_layer.o\n",
            "\n",
            "/usr/bin/g++ src/caffe/layers/im2col_layer.cpp -pthread -fPIC -DNDEBUG -O2 -I/usr/local/include/python2.7 -I/usr/local/lib/python2.7/dist-packages/numpy/core/include -I/usr/local/include -I/usr/include/hdf5/serial/ -Ibuild/src -I./src -I./include -I/usr/local/cuda/include -c -o build/src/caffe/layers/im2col_layer.o\n",
            "\n",
            "/usr/bin/g++ src/caffe/layers/image_data_layer.cpp -pthread -fPIC -DNDEBUG -O2 -I/usr/local/include/python2.7 -I/usr/local/lib/python2.7/dist-packages/numpy/core/include -I/usr/local/include -I/usr/include/hdf5/serial/ -Ibuild/src -I./src -I./include -I/usr/local/cuda/include -c -o build/src/caffe/layers/image_data_layer.o\n",
            "\n",
            "/usr/bin/g++ src/caffe/layers/infogain_loss_layer.cpp -pthread -fPIC -DNDEBUG -O2 -I/usr/local/include/python2.7 -I/usr/local/lib/python2.7/dist-packages/numpy/core/include -I/usr/local/include -I/usr/include/hdf5/serial/ -Ibuild/src -I./src -I./include -I/usr/local/cuda/include -c -o build/src/caffe/layers/infogain_loss_layer.o\n",
            "\n",
            "/usr/bin/g++ src/caffe/layers/inner_product_layer.cpp -pthread -fPIC -DNDEBUG -O2 -I/usr/local/include/python2.7 -I/usr/local/lib/python2.7/dist-packages/numpy/core/include -I/usr/local/include -I/usr/include/hdf5/serial/ -Ibuild/src -I./src -I./include -I/usr/local/cuda/include -c -o build/src/caffe/layers/inner_product_layer.o\n",
            "\n",
            "/usr/bin/g++ src/caffe/layers/loss_layer.cpp -pthread -fPIC -DNDEBUG -O2 -I/usr/local/include/python2.7 -I/usr/local/lib/python2.7/dist-packages/numpy/core/include -I/usr/local/include -I/usr/include/hdf5/serial/ -Ibuild/src -I./src -I./include -I/usr/local/cuda/include -c -o build/src/caffe/layers/loss_layer.o\n",
            "\n",
            "/usr/bin/g++ src/caffe/layers/lrn_layer.cpp -pthread -fPIC -DNDEBUG -O2 -I/usr/local/include/python2.7 -I/usr/local/lib/python2.7/dist-packages/numpy/core/include -I/usr/local/include -I/usr/include/hdf5/serial/ -Ibuild/src -I./src -I./include -I/usr/local/cuda/include -c -o build/src/caffe/layers/lrn_layer.o\n",
            "\n",
            "/usr/bin/g++ src/caffe/layers/memory_data_layer.cpp -pthread -fPIC -DNDEBUG -O2 -I/usr/local/include/python2.7 -I/usr/local/lib/python2.7/dist-packages/numpy/core/include -I/usr/local/include -I/usr/include/hdf5/serial/ -Ibuild/src -I./src -I./include -I/usr/local/cuda/include -c -o build/src/caffe/layers/memory_data_layer.o\n",
            "\n",
            "/usr/bin/g++ src/caffe/layers/multinomial_logistic_loss_layer.cpp -pthread -fPIC -DNDEBUG -O2 -I/usr/local/include/python2.7 -I/usr/local/lib/python2.7/dist-packages/numpy/core/include -I/usr/local/include -I/usr/include/hdf5/serial/ -Ibuild/src -I./src -I./include -I/usr/local/cuda/include -c -o build/src/caffe/layers/multinomial_logistic_loss_layer.o\n",
            "\n",
            "/usr/bin/g++ src/caffe/layers/neuron_layer.cpp -pthread -fPIC -DNDEBUG -O2 -I/usr/local/include/python2.7 -I/usr/local/lib/python2.7/dist-packages/numpy/core/include -I/usr/local/include -I/usr/include/hdf5/serial/ -Ibuild/src -I./src -I./include -I/usr/local/cuda/include -c -o build/src/caffe/layers/neuron_layer.o\n",
            "\n",
            "/usr/bin/g++ src/caffe/layers/pool3d_layer.cpp -pthread -fPIC -DNDEBUG -O2 -I/usr/local/include/python2.7 -I/usr/local/lib/python2.7/dist-packages/numpy/core/include -I/usr/local/include -I/usr/include/hdf5/serial/ -Ibuild/src -I./src -I./include -I/usr/local/cuda/include -c -o build/src/caffe/layers/pool3d_layer.o\n",
            "\n",
            "/usr/bin/g++ src/caffe/layers/pooling_layer.cpp -pthread -fPIC -DNDEBUG -O2 -I/usr/local/include/python2.7 -I/usr/local/lib/python2.7/dist-packages/numpy/core/include -I/usr/local/include -I/usr/include/hdf5/serial/ -Ibuild/src -I./src -I./include -I/usr/local/cuda/include -c -o build/src/caffe/layers/pooling_layer.o\n",
            "\n",
            "/usr/bin/g++ src/caffe/layers/power_layer.cpp -pthread -fPIC -DNDEBUG -O2 -I/usr/local/include/python2.7 -I/usr/local/lib/python2.7/dist-packages/numpy/core/include -I/usr/local/include -I/usr/include/hdf5/serial/ -Ibuild/src -I./src -I./include -I/usr/local/cuda/include -c -o build/src/caffe/layers/power_layer.o\n",
            "\n",
            "/usr/bin/g++ src/caffe/layers/relu_layer.cpp -pthread -fPIC -DNDEBUG -O2 -I/usr/local/include/python2.7 -I/usr/local/lib/python2.7/dist-packages/numpy/core/include -I/usr/local/include -I/usr/include/hdf5/serial/ -Ibuild/src -I./src -I./include -I/usr/local/cuda/include -c -o build/src/caffe/layers/relu_layer.o\n",
            "\n",
            "/usr/bin/g++ src/caffe/layers/sigmoid_cross_entropy_loss_layer.cpp -pthread -fPIC -DNDEBUG -O2 -I/usr/local/include/python2.7 -I/usr/local/lib/python2.7/dist-packages/numpy/core/include -I/usr/local/include -I/usr/include/hdf5/serial/ -Ibuild/src -I./src -I./include -I/usr/local/cuda/include -c -o build/src/caffe/layers/sigmoid_cross_entropy_loss_layer.o\n",
            "\n",
            "/usr/bin/g++ src/caffe/layers/sigmoid_layer.cpp -pthread -fPIC -DNDEBUG -O2 -I/usr/local/include/python2.7 -I/usr/local/lib/python2.7/dist-packages/numpy/core/include -I/usr/local/include -I/usr/include/hdf5/serial/ -Ibuild/src -I./src -I./include -I/usr/local/cuda/include -c -o build/src/caffe/layers/sigmoid_layer.o\n",
            "\n",
            "/usr/bin/g++ src/caffe/layers/softmax_layer.cpp -pthread -fPIC -DNDEBUG -O2 -I/usr/local/include/python2.7 -I/usr/local/lib/python2.7/dist-packages/numpy/core/include -I/usr/local/include -I/usr/include/hdf5/serial/ -Ibuild/src -I./src -I./include -I/usr/local/cuda/include -c -o build/src/caffe/layers/softmax_layer.o\n",
            "\n",
            "/usr/bin/g++ src/caffe/layers/softmax_loss_layer.cpp -pthread -fPIC -DNDEBUG -O2 -I/usr/local/include/python2.7 -I/usr/local/lib/python2.7/dist-packages/numpy/core/include -I/usr/local/include -I/usr/include/hdf5/serial/ -Ibuild/src -I./src -I./include -I/usr/local/cuda/include -c -o build/src/caffe/layers/softmax_loss_layer.o\n",
            "\n",
            "/usr/bin/g++ src/caffe/layers/split_layer.cpp -pthread -fPIC -DNDEBUG -O2 -I/usr/local/include/python2.7 -I/usr/local/lib/python2.7/dist-packages/numpy/core/include -I/usr/local/include -I/usr/include/hdf5/serial/ -Ibuild/src -I./src -I./include -I/usr/local/cuda/include -c -o build/src/caffe/layers/split_layer.o\n",
            "\n",
            "/usr/bin/g++ src/caffe/layers/tanh_layer.cpp -pthread -fPIC -DNDEBUG -O2 -I/usr/local/include/python2.7 -I/usr/local/lib/python2.7/dist-packages/numpy/core/include -I/usr/local/include -I/usr/include/hdf5/serial/ -Ibuild/src -I./src -I./include -I/usr/local/cuda/include -c -o build/src/caffe/layers/tanh_layer.o\n",
            "\n",
            "/usr/bin/g++ src/caffe/layers/video_data_layer.cpp -pthread -fPIC -DNDEBUG -O2 -I/usr/local/include/python2.7 -I/usr/local/lib/python2.7/dist-packages/numpy/core/include -I/usr/local/include -I/usr/include/hdf5/serial/ -Ibuild/src -I./src -I./include -I/usr/local/cuda/include -c -o build/src/caffe/layers/video_data_layer.o\n",
            "\n",
            "/usr/bin/g++ src/caffe/layers/video_segmentation_data_layer.cpp -pthread -fPIC -DNDEBUG -O2 -I/usr/local/include/python2.7 -I/usr/local/lib/python2.7/dist-packages/numpy/core/include -I/usr/local/include -I/usr/include/hdf5/serial/ -Ibuild/src -I./src -I./include -I/usr/local/cuda/include -c -o build/src/caffe/layers/video_segmentation_data_layer.o\n",
            "\n",
            "/usr/bin/g++ src/caffe/layers/video_with_voxel_truth_data_layer.cpp -pthread -fPIC -DNDEBUG -O2 -I/usr/local/include/python2.7 -I/usr/local/lib/python2.7/dist-packages/numpy/core/include -I/usr/local/include -I/usr/include/hdf5/serial/ -Ibuild/src -I./src -I./include -I/usr/local/cuda/include -c -o build/src/caffe/layers/video_with_voxel_truth_data_layer.o\n",
            "\n",
            "/usr/bin/g++ src/caffe/layers/volume_data_layer.cpp -pthread -fPIC -DNDEBUG -O2 -I/usr/local/include/python2.7 -I/usr/local/lib/python2.7/dist-packages/numpy/core/include -I/usr/local/include -I/usr/include/hdf5/serial/ -Ibuild/src -I./src -I./include -I/usr/local/cuda/include -c -o build/src/caffe/layers/volume_data_layer.o\n",
            "\n",
            "/usr/bin/g++ src/caffe/layers/voxel_custom_loss_layer.cpp -pthread -fPIC -DNDEBUG -O2 -I/usr/local/include/python2.7 -I/usr/local/lib/python2.7/dist-packages/numpy/core/include -I/usr/local/include -I/usr/include/hdf5/serial/ -Ibuild/src -I./src -I./include -I/usr/local/cuda/include -c -o build/src/caffe/layers/voxel_custom_loss_layer.o\n",
            "\n",
            "/usr/bin/g++ src/caffe/layers/voxel_wise_softmax_layer.cpp -pthread -fPIC -DNDEBUG -O2 -I/usr/local/include/python2.7 -I/usr/local/lib/python2.7/dist-packages/numpy/core/include -I/usr/local/include -I/usr/include/hdf5/serial/ -Ibuild/src -I./src -I./include -I/usr/local/cuda/include -c -o build/src/caffe/layers/voxel_wise_softmax_layer.o\n",
            "\n",
            "/usr/bin/g++ src/caffe/layers/voxel_wise_softmax_loss_layer.cpp -pthread -fPIC -DNDEBUG -O2 -I/usr/local/include/python2.7 -I/usr/local/lib/python2.7/dist-packages/numpy/core/include -I/usr/local/include -I/usr/include/hdf5/serial/ -Ibuild/src -I./src -I./include -I/usr/local/cuda/include -c -o build/src/caffe/layers/voxel_wise_softmax_loss_layer.o\n",
            "\n",
            "/usr/bin/g++ src/caffe/layers/window_data_layer.cpp -pthread -fPIC -DNDEBUG -O2 -I/usr/local/include/python2.7 -I/usr/local/lib/python2.7/dist-packages/numpy/core/include -I/usr/local/include -I/usr/include/hdf5/serial/ -Ibuild/src -I./src -I./include -I/usr/local/cuda/include -c -o build/src/caffe/layers/window_data_layer.o\n",
            "\n",
            "/usr/bin/g++ src/caffe/net.cpp -pthread -fPIC -DNDEBUG -O2 -I/usr/local/include/python2.7 -I/usr/local/lib/python2.7/dist-packages/numpy/core/include -I/usr/local/include -I/usr/include/hdf5/serial/ -Ibuild/src -I./src -I./include -I/usr/local/cuda/include -c -o build/src/caffe/net.o\n",
            "\n",
            "/usr/bin/g++ src/caffe/solver.cpp -pthread -fPIC -DNDEBUG -O2 -I/usr/local/include/python2.7 -I/usr/local/lib/python2.7/dist-packages/numpy/core/include -I/usr/local/include -I/usr/include/hdf5/serial/ -Ibuild/src -I./src -I./include -I/usr/local/cuda/include -c -o build/src/caffe/solver.o\n",
            "\n",
            "/usr/bin/g++ src/caffe/syncedmem.cpp -pthread -fPIC -DNDEBUG -O2 -I/usr/local/include/python2.7 -I/usr/local/lib/python2.7/dist-packages/numpy/core/include -I/usr/local/include -I/usr/include/hdf5/serial/ -Ibuild/src -I./src -I./include -I/usr/local/cuda/include -c -o build/src/caffe/syncedmem.o\n",
            "\n",
            "/usr/bin/g++ src/caffe/util/benchmark.cpp -pthread -fPIC -DNDEBUG -O2 -I/usr/local/include/python2.7 -I/usr/local/lib/python2.7/dist-packages/numpy/core/include -I/usr/local/include -I/usr/include/hdf5/serial/ -Ibuild/src -I./src -I./include -I/usr/local/cuda/include -c -o build/src/caffe/util/benchmark.o\n",
            "\n",
            "/usr/bin/g++ src/caffe/util/im2col.cpp -pthread -fPIC -DNDEBUG -O2 -I/usr/local/include/python2.7 -I/usr/local/lib/python2.7/dist-packages/numpy/core/include -I/usr/local/include -I/usr/include/hdf5/serial/ -Ibuild/src -I./src -I./include -I/usr/local/cuda/include -c -o build/src/caffe/util/im2col.o\n",
            "\n",
            "/usr/bin/g++ src/caffe/util/image_io.cpp -pthread -fPIC -DNDEBUG -O2 -I/usr/local/include/python2.7 -I/usr/local/lib/python2.7/dist-packages/numpy/core/include -I/usr/local/include -I/usr/include/hdf5/serial/ -Ibuild/src -I./src -I./include -I/usr/local/cuda/include -c -o build/src/caffe/util/image_io.o\n",
            "\u001b[01m\u001b[Ksrc/caffe/util/image_io.cpp:\u001b[m\u001b[K In function ‘\u001b[01m\u001b[Kbool caffe::load_blob_from_binary(std::__cxx11::string, caffe::Blob<Dtype>*) [with Dtype = float; std::__cxx11::string = std::__cxx11::basic_string<char>]\u001b[m\u001b[K’:\n",
            "\u001b[01m\u001b[Ksrc/caffe/util/image_io.cpp:234:30:\u001b[m\u001b[K \u001b[01;35m\u001b[Kwarning: \u001b[m\u001b[Kignoring return value of ‘\u001b[01m\u001b[Ksize_t fread(void*, size_t, size_t, FILE*)\u001b[m\u001b[K’, declared with attribute warn_unused_result [-Wunused-result]\n",
            "  fread(&n, sizeof(int), 1, f);\n",
            "\u001b[01;32m\u001b[K                              ^\u001b[m\u001b[K\n",
            "\u001b[01m\u001b[Ksrc/caffe/util/image_io.cpp:235:30:\u001b[m\u001b[K \u001b[01;35m\u001b[Kwarning: \u001b[m\u001b[Kignoring return value of ‘\u001b[01m\u001b[Ksize_t fread(void*, size_t, size_t, FILE*)\u001b[m\u001b[K’, declared with attribute warn_unused_result [-Wunused-result]\n",
            "  fread(&c, sizeof(int), 1, f);\n",
            "\u001b[01;32m\u001b[K                              ^\u001b[m\u001b[K\n",
            "\u001b[01m\u001b[Ksrc/caffe/util/image_io.cpp:236:30:\u001b[m\u001b[K \u001b[01;35m\u001b[Kwarning: \u001b[m\u001b[Kignoring return value of ‘\u001b[01m\u001b[Ksize_t fread(void*, size_t, size_t, FILE*)\u001b[m\u001b[K’, declared with attribute warn_unused_result [-Wunused-result]\n",
            "  fread(&l, sizeof(int), 1, f);\n",
            "\u001b[01;32m\u001b[K                              ^\u001b[m\u001b[K\n",
            "\u001b[01m\u001b[Ksrc/caffe/util/image_io.cpp:237:30:\u001b[m\u001b[K \u001b[01;35m\u001b[Kwarning: \u001b[m\u001b[Kignoring return value of ‘\u001b[01m\u001b[Ksize_t fread(void*, size_t, size_t, FILE*)\u001b[m\u001b[K’, declared with attribute warn_unused_result [-Wunused-result]\n",
            "  fread(&h, sizeof(int), 1, f);\n",
            "\u001b[01;32m\u001b[K                              ^\u001b[m\u001b[K\n",
            "\u001b[01m\u001b[Ksrc/caffe/util/image_io.cpp:238:30:\u001b[m\u001b[K \u001b[01;35m\u001b[Kwarning: \u001b[m\u001b[Kignoring return value of ‘\u001b[01m\u001b[Ksize_t fread(void*, size_t, size_t, FILE*)\u001b[m\u001b[K’, declared with attribute warn_unused_result [-Wunused-result]\n",
            "  fread(&w, sizeof(int), 1, f);\n",
            "\u001b[01;32m\u001b[K                              ^\u001b[m\u001b[K\n",
            "\u001b[01m\u001b[Ksrc/caffe/util/image_io.cpp:242:50:\u001b[m\u001b[K \u001b[01;35m\u001b[Kwarning: \u001b[m\u001b[Kignoring return value of ‘\u001b[01m\u001b[Ksize_t fread(void*, size_t, size_t, FILE*)\u001b[m\u001b[K’, declared with attribute warn_unused_result [-Wunused-result]\n",
            "  fread(buff, sizeof(float), n * c * l * h * w, f);\n",
            "\u001b[01;32m\u001b[K                                                  ^\u001b[m\u001b[K\n",
            "\u001b[01m\u001b[Ksrc/caffe/util/image_io.cpp:\u001b[m\u001b[K In function ‘\u001b[01m\u001b[Kbool caffe::load_blob_from_binary(std::__cxx11::string, caffe::Blob<Dtype>*) [with Dtype = double; std::__cxx11::string = std::__cxx11::basic_string<char>]\u001b[m\u001b[K’:\n",
            "\u001b[01m\u001b[Ksrc/caffe/util/image_io.cpp:255:30:\u001b[m\u001b[K \u001b[01;35m\u001b[Kwarning: \u001b[m\u001b[Kignoring return value of ‘\u001b[01m\u001b[Ksize_t fread(void*, size_t, size_t, FILE*)\u001b[m\u001b[K’, declared with attribute warn_unused_result [-Wunused-result]\n",
            "  fread(&n, sizeof(int), 1, f);\n",
            "\u001b[01;32m\u001b[K                              ^\u001b[m\u001b[K\n",
            "\u001b[01m\u001b[Ksrc/caffe/util/image_io.cpp:256:30:\u001b[m\u001b[K \u001b[01;35m\u001b[Kwarning: \u001b[m\u001b[Kignoring return value of ‘\u001b[01m\u001b[Ksize_t fread(void*, size_t, size_t, FILE*)\u001b[m\u001b[K’, declared with attribute warn_unused_result [-Wunused-result]\n",
            "  fread(&c, sizeof(int), 1, f);\n",
            "\u001b[01;32m\u001b[K                              ^\u001b[m\u001b[K\n",
            "\u001b[01m\u001b[Ksrc/caffe/util/image_io.cpp:257:30:\u001b[m\u001b[K \u001b[01;35m\u001b[Kwarning: \u001b[m\u001b[Kignoring return value of ‘\u001b[01m\u001b[Ksize_t fread(void*, size_t, size_t, FILE*)\u001b[m\u001b[K’, declared with attribute warn_unused_result [-Wunused-result]\n",
            "  fread(&l, sizeof(int), 1, f);\n",
            "\u001b[01;32m\u001b[K                              ^\u001b[m\u001b[K\n",
            "\u001b[01m\u001b[Ksrc/caffe/util/image_io.cpp:258:30:\u001b[m\u001b[K \u001b[01;35m\u001b[Kwarning: \u001b[m\u001b[Kignoring return value of ‘\u001b[01m\u001b[Ksize_t fread(void*, size_t, size_t, FILE*)\u001b[m\u001b[K’, declared with attribute warn_unused_result [-Wunused-result]\n",
            "  fread(&h, sizeof(int), 1, f);\n",
            "\u001b[01;32m\u001b[K                              ^\u001b[m\u001b[K\n",
            "\u001b[01m\u001b[Ksrc/caffe/util/image_io.cpp:259:30:\u001b[m\u001b[K \u001b[01;35m\u001b[Kwarning: \u001b[m\u001b[Kignoring return value of ‘\u001b[01m\u001b[Ksize_t fread(void*, size_t, size_t, FILE*)\u001b[m\u001b[K’, declared with attribute warn_unused_result [-Wunused-result]\n",
            "  fread(&w, sizeof(int), 1, f);\n",
            "\u001b[01;32m\u001b[K                              ^\u001b[m\u001b[K\n",
            "\u001b[01m\u001b[Ksrc/caffe/util/image_io.cpp:263:51:\u001b[m\u001b[K \u001b[01;35m\u001b[Kwarning: \u001b[m\u001b[Kignoring return value of ‘\u001b[01m\u001b[Ksize_t fread(void*, size_t, size_t, FILE*)\u001b[m\u001b[K’, declared with attribute warn_unused_result [-Wunused-result]\n",
            "  fread(buff, sizeof(double), n * c * l * h * w, f);\n",
            "\u001b[01;32m\u001b[K                                                   ^\u001b[m\u001b[K\n",
            "\u001b[01m\u001b[Ksrc/caffe/util/image_io.cpp:\u001b[m\u001b[K In function ‘\u001b[01m\u001b[Kbool caffe::load_blob_from_uint8_binary(std::__cxx11::string, caffe::Blob<Dtype>*) [with Dtype = float; std::__cxx11::string = std::__cxx11::basic_string<char>]\u001b[m\u001b[K’:\n",
            "\u001b[01m\u001b[Ksrc/caffe/util/image_io.cpp:276:30:\u001b[m\u001b[K \u001b[01;35m\u001b[Kwarning: \u001b[m\u001b[Kignoring return value of ‘\u001b[01m\u001b[Ksize_t fread(void*, size_t, size_t, FILE*)\u001b[m\u001b[K’, declared with attribute warn_unused_result [-Wunused-result]\n",
            "  fread(&n, sizeof(int), 1, f);\n",
            "\u001b[01;32m\u001b[K                              ^\u001b[m\u001b[K\n",
            "\u001b[01m\u001b[Ksrc/caffe/util/image_io.cpp:277:30:\u001b[m\u001b[K \u001b[01;35m\u001b[Kwarning: \u001b[m\u001b[Kignoring return value of ‘\u001b[01m\u001b[Ksize_t fread(void*, size_t, size_t, FILE*)\u001b[m\u001b[K’, declared with attribute warn_unused_result [-Wunused-result]\n",
            "  fread(&c, sizeof(int), 1, f);\n",
            "\u001b[01;32m\u001b[K                              ^\u001b[m\u001b[K\n",
            "\u001b[01m\u001b[Ksrc/caffe/util/image_io.cpp:278:30:\u001b[m\u001b[K \u001b[01;35m\u001b[Kwarning: \u001b[m\u001b[Kignoring return value of ‘\u001b[01m\u001b[Ksize_t fread(void*, size_t, size_t, FILE*)\u001b[m\u001b[K’, declared with attribute warn_unused_result [-Wunused-result]\n",
            "  fread(&l, sizeof(int), 1, f);\n",
            "\u001b[01;32m\u001b[K                              ^\u001b[m\u001b[K\n",
            "\u001b[01m\u001b[Ksrc/caffe/util/image_io.cpp:279:30:\u001b[m\u001b[K \u001b[01;35m\u001b[Kwarning: \u001b[m\u001b[Kignoring return value of ‘\u001b[01m\u001b[Ksize_t fread(void*, size_t, size_t, FILE*)\u001b[m\u001b[K’, declared with attribute warn_unused_result [-Wunused-result]\n",
            "  fread(&h, sizeof(int), 1, f);\n",
            "\u001b[01;32m\u001b[K                              ^\u001b[m\u001b[K\n",
            "\u001b[01m\u001b[Ksrc/caffe/util/image_io.cpp:280:30:\u001b[m\u001b[K \u001b[01;35m\u001b[Kwarning: \u001b[m\u001b[Kignoring return value of ‘\u001b[01m\u001b[Ksize_t fread(void*, size_t, size_t, FILE*)\u001b[m\u001b[K’, declared with attribute warn_unused_result [-Wunused-result]\n",
            "  fread(&w, sizeof(int), 1, f);\n",
            "\u001b[01;32m\u001b[K                              ^\u001b[m\u001b[K\n",
            "\u001b[01m\u001b[Ksrc/caffe/util/image_io.cpp:287:51:\u001b[m\u001b[K \u001b[01;35m\u001b[Kwarning: \u001b[m\u001b[Kignoring return value of ‘\u001b[01m\u001b[Ksize_t fread(void*, size_t, size_t, FILE*)\u001b[m\u001b[K’, declared with attribute warn_unused_result [-Wunused-result]\n",
            "  fread(temp_buff, sizeof(unsigned char), count, f);\n",
            "\u001b[01;32m\u001b[K                                                   ^\u001b[m\u001b[K\n",
            "\u001b[01m\u001b[Ksrc/caffe/util/image_io.cpp:\u001b[m\u001b[K In function ‘\u001b[01m\u001b[Kbool caffe::load_blob_from_uint8_binary(std::__cxx11::string, caffe::Blob<Dtype>*) [with Dtype = double; std::__cxx11::string = std::__cxx11::basic_string<char>]\u001b[m\u001b[K’:\n",
            "\u001b[01m\u001b[Ksrc/caffe/util/image_io.cpp:305:30:\u001b[m\u001b[K \u001b[01;35m\u001b[Kwarning: \u001b[m\u001b[Kignoring return value of ‘\u001b[01m\u001b[Ksize_t fread(void*, size_t, size_t, FILE*)\u001b[m\u001b[K’, declared with attribute warn_unused_result [-Wunused-result]\n",
            "  fread(&n, sizeof(int), 1, f);\n",
            "\u001b[01;32m\u001b[K                              ^\u001b[m\u001b[K\n",
            "\u001b[01m\u001b[Ksrc/caffe/util/image_io.cpp:306:30:\u001b[m\u001b[K \u001b[01;35m\u001b[Kwarning: \u001b[m\u001b[Kignoring return value of ‘\u001b[01m\u001b[Ksize_t fread(void*, size_t, size_t, FILE*)\u001b[m\u001b[K’, declared with attribute warn_unused_result [-Wunused-result]\n",
            "  fread(&c, sizeof(int), 1, f);\n",
            "\u001b[01;32m\u001b[K                              ^\u001b[m\u001b[K\n",
            "\u001b[01m\u001b[Ksrc/caffe/util/image_io.cpp:307:30:\u001b[m\u001b[K \u001b[01;35m\u001b[Kwarning: \u001b[m\u001b[Kignoring return value of ‘\u001b[01m\u001b[Ksize_t fread(void*, size_t, size_t, FILE*)\u001b[m\u001b[K’, declared with attribute warn_unused_result [-Wunused-result]\n",
            "  fread(&l, sizeof(int), 1, f);\n",
            "\u001b[01;32m\u001b[K                              ^\u001b[m\u001b[K\n",
            "\u001b[01m\u001b[Ksrc/caffe/util/image_io.cpp:308:30:\u001b[m\u001b[K \u001b[01;35m\u001b[Kwarning: \u001b[m\u001b[Kignoring return value of ‘\u001b[01m\u001b[Ksize_t fread(void*, size_t, size_t, FILE*)\u001b[m\u001b[K’, declared with attribute warn_unused_result [-Wunused-result]\n",
            "  fread(&h, sizeof(int), 1, f);\n",
            "\u001b[01;32m\u001b[K                              ^\u001b[m\u001b[K\n",
            "\u001b[01m\u001b[Ksrc/caffe/util/image_io.cpp:309:30:\u001b[m\u001b[K \u001b[01;35m\u001b[Kwarning: \u001b[m\u001b[Kignoring return value of ‘\u001b[01m\u001b[Ksize_t fread(void*, size_t, size_t, FILE*)\u001b[m\u001b[K’, declared with attribute warn_unused_result [-Wunused-result]\n",
            "  fread(&w, sizeof(int), 1, f);\n",
            "\u001b[01;32m\u001b[K                              ^\u001b[m\u001b[K\n",
            "\u001b[01m\u001b[Ksrc/caffe/util/image_io.cpp:317:51:\u001b[m\u001b[K \u001b[01;35m\u001b[Kwarning: \u001b[m\u001b[Kignoring return value of ‘\u001b[01m\u001b[Ksize_t fread(void*, size_t, size_t, FILE*)\u001b[m\u001b[K’, declared with attribute warn_unused_result [-Wunused-result]\n",
            "  fread(temp_buff, sizeof(unsigned char), count, f);\n",
            "\u001b[01;32m\u001b[K                                                   ^\u001b[m\u001b[K\n",
            "\n",
            "/usr/bin/g++ src/caffe/util/insert_splits.cpp -pthread -fPIC -DNDEBUG -O2 -I/usr/local/include/python2.7 -I/usr/local/lib/python2.7/dist-packages/numpy/core/include -I/usr/local/include -I/usr/include/hdf5/serial/ -Ibuild/src -I./src -I./include -I/usr/local/cuda/include -c -o build/src/caffe/util/insert_splits.o\n",
            "\n",
            "/usr/bin/g++ src/caffe/util/io.cpp -pthread -fPIC -DNDEBUG -O2 -I/usr/local/include/python2.7 -I/usr/local/lib/python2.7/dist-packages/numpy/core/include -I/usr/local/include -I/usr/include/hdf5/serial/ -Ibuild/src -I./src -I./include -I/usr/local/cuda/include -c -o build/src/caffe/util/io.o\n",
            "\n",
            "/usr/bin/g++ src/caffe/util/math_functions.cpp -pthread -fPIC -DNDEBUG -O2 -I/usr/local/include/python2.7 -I/usr/local/lib/python2.7/dist-packages/numpy/core/include -I/usr/local/include -I/usr/include/hdf5/serial/ -Ibuild/src -I./src -I./include -I/usr/local/cuda/include -c -o build/src/caffe/util/math_functions.o\n",
            "\n",
            "/usr/bin/g++ src/caffe/util/upgrade_proto.cpp -pthread -fPIC -DNDEBUG -O2 -I/usr/local/include/python2.7 -I/usr/local/lib/python2.7/dist-packages/numpy/core/include -I/usr/local/include -I/usr/include/hdf5/serial/ -Ibuild/src -I./src -I./include -I/usr/local/cuda/include -c -o build/src/caffe/util/upgrade_proto.o\n",
            "\n",
            "/usr/bin/g++ src/caffe/util/vol2col.cpp -pthread -fPIC -DNDEBUG -O2 -I/usr/local/include/python2.7 -I/usr/local/lib/python2.7/dist-packages/numpy/core/include -I/usr/local/include -I/usr/include/hdf5/serial/ -Ibuild/src -I./src -I./include -I/usr/local/cuda/include -c -o build/src/caffe/util/vol2col.o\n",
            "\n",
            "/usr/local/cuda/bin/nvcc -ccbin=/usr/bin/g++ -Xcompiler -fPIC -DNDEBUG -O2 -I/usr/local/include/python2.7 -I/usr/local/lib/python2.7/dist-packages/numpy/core/include -I/usr/local/include -I/usr/include/hdf5/serial/ -Ibuild/src -I./src -I./include -I/usr/local/cuda/include -gencode arch=compute_30,code=sm_30 -gencode arch=compute_35,code=sm_35 -gencode=arch=compute_50,code=sm_50 -gencode=arch=compute_61,code=compute_61 -c src/caffe/layers/bnll_layer.cu -o build/src/caffe/layers/bnll_layer.cuo\n",
            "\n",
            "/usr/local/cuda/bin/nvcc -ccbin=/usr/bin/g++ -Xcompiler -fPIC -DNDEBUG -O2 -I/usr/local/include/python2.7 -I/usr/local/lib/python2.7/dist-packages/numpy/core/include -I/usr/local/include -I/usr/include/hdf5/serial/ -Ibuild/src -I./src -I./include -I/usr/local/cuda/include -gencode arch=compute_30,code=sm_30 -gencode arch=compute_35,code=sm_35 -gencode=arch=compute_50,code=sm_50 -gencode=arch=compute_61,code=compute_61 -c src/caffe/layers/concat_layer.cu -o build/src/caffe/layers/concat_layer.cuo\n",
            "\n",
            "/usr/local/cuda/bin/nvcc -ccbin=/usr/bin/g++ -Xcompiler -fPIC -DNDEBUG -O2 -I/usr/local/include/python2.7 -I/usr/local/lib/python2.7/dist-packages/numpy/core/include -I/usr/local/include -I/usr/include/hdf5/serial/ -Ibuild/src -I./src -I./include -I/usr/local/cuda/include -gencode arch=compute_30,code=sm_30 -gencode arch=compute_35,code=sm_35 -gencode=arch=compute_50,code=sm_50 -gencode=arch=compute_61,code=compute_61 -c src/caffe/layers/conv_layer.cu -o build/src/caffe/layers/conv_layer.cuo\n",
            "\n",
            "/usr/local/cuda/bin/nvcc -ccbin=/usr/bin/g++ -Xcompiler -fPIC -DNDEBUG -O2 -I/usr/local/include/python2.7 -I/usr/local/lib/python2.7/dist-packages/numpy/core/include -I/usr/local/include -I/usr/include/hdf5/serial/ -Ibuild/src -I./src -I./include -I/usr/local/cuda/include -gencode arch=compute_30,code=sm_30 -gencode arch=compute_35,code=sm_35 -gencode=arch=compute_50,code=sm_50 -gencode=arch=compute_61,code=compute_61 -c src/caffe/layers/convolution3d_layer.cu -o build/src/caffe/layers/convolution3d_layer.cuo\n",
            "\n",
            "/usr/local/cuda/bin/nvcc -ccbin=/usr/bin/g++ -Xcompiler -fPIC -DNDEBUG -O2 -I/usr/local/include/python2.7 -I/usr/local/lib/python2.7/dist-packages/numpy/core/include -I/usr/local/include -I/usr/include/hdf5/serial/ -Ibuild/src -I./src -I./include -I/usr/local/cuda/include -gencode arch=compute_30,code=sm_30 -gencode arch=compute_35,code=sm_35 -gencode=arch=compute_50,code=sm_50 -gencode=arch=compute_61,code=compute_61 -c src/caffe/layers/data_layer.cu -o build/src/caffe/layers/data_layer.cuo\n",
            "\n",
            "/usr/local/cuda/bin/nvcc -ccbin=/usr/bin/g++ -Xcompiler -fPIC -DNDEBUG -O2 -I/usr/local/include/python2.7 -I/usr/local/lib/python2.7/dist-packages/numpy/core/include -I/usr/local/include -I/usr/include/hdf5/serial/ -Ibuild/src -I./src -I./include -I/usr/local/cuda/include -gencode arch=compute_30,code=sm_30 -gencode arch=compute_35,code=sm_35 -gencode=arch=compute_50,code=sm_50 -gencode=arch=compute_61,code=compute_61 -c src/caffe/layers/deconvolution3d_layer.cu -o build/src/caffe/layers/deconvolution3d_layer.cuo\n",
            "\n",
            "/usr/local/cuda/bin/nvcc -ccbin=/usr/bin/g++ -Xcompiler -fPIC -DNDEBUG -O2 -I/usr/local/include/python2.7 -I/usr/local/lib/python2.7/dist-packages/numpy/core/include -I/usr/local/include -I/usr/include/hdf5/serial/ -Ibuild/src -I./src -I./include -I/usr/local/cuda/include -gencode arch=compute_30,code=sm_30 -gencode arch=compute_35,code=sm_35 -gencode=arch=compute_50,code=sm_50 -gencode=arch=compute_61,code=compute_61 -c src/caffe/layers/down_sampling_layer.cu -o build/src/caffe/layers/down_sampling_layer.cuo\n",
            "\n",
            "/usr/local/cuda/bin/nvcc -ccbin=/usr/bin/g++ -Xcompiler -fPIC -DNDEBUG -O2 -I/usr/local/include/python2.7 -I/usr/local/lib/python2.7/dist-packages/numpy/core/include -I/usr/local/include -I/usr/include/hdf5/serial/ -Ibuild/src -I./src -I./include -I/usr/local/cuda/include -gencode arch=compute_30,code=sm_30 -gencode arch=compute_35,code=sm_35 -gencode=arch=compute_50,code=sm_50 -gencode=arch=compute_61,code=compute_61 -c src/caffe/layers/dropout_layer.cu -o build/src/caffe/layers/dropout_layer.cuo\n",
            "\n",
            "/usr/local/cuda/bin/nvcc -ccbin=/usr/bin/g++ -Xcompiler -fPIC -DNDEBUG -O2 -I/usr/local/include/python2.7 -I/usr/local/lib/python2.7/dist-packages/numpy/core/include -I/usr/local/include -I/usr/include/hdf5/serial/ -Ibuild/src -I./src -I./include -I/usr/local/cuda/include -gencode arch=compute_30,code=sm_30 -gencode arch=compute_35,code=sm_35 -gencode=arch=compute_50,code=sm_50 -gencode=arch=compute_61,code=compute_61 -c src/caffe/layers/eltwise_product_layer.cu -o build/src/caffe/layers/eltwise_product_layer.cuo\n",
            "\n",
            "/usr/local/cuda/bin/nvcc -ccbin=/usr/bin/g++ -Xcompiler -fPIC -DNDEBUG -O2 -I/usr/local/include/python2.7 -I/usr/local/lib/python2.7/dist-packages/numpy/core/include -I/usr/local/include -I/usr/include/hdf5/serial/ -Ibuild/src -I./src -I./include -I/usr/local/cuda/include -gencode arch=compute_30,code=sm_30 -gencode arch=compute_35,code=sm_35 -gencode=arch=compute_50,code=sm_50 -gencode=arch=compute_61,code=compute_61 -c src/caffe/layers/flatten_layer.cu -o build/src/caffe/layers/flatten_layer.cuo\n",
            "\n",
            "/usr/local/cuda/bin/nvcc -ccbin=/usr/bin/g++ -Xcompiler -fPIC -DNDEBUG -O2 -I/usr/local/include/python2.7 -I/usr/local/lib/python2.7/dist-packages/numpy/core/include -I/usr/local/include -I/usr/include/hdf5/serial/ -Ibuild/src -I./src -I./include -I/usr/local/cuda/include -gencode arch=compute_30,code=sm_30 -gencode arch=compute_35,code=sm_35 -gencode=arch=compute_50,code=sm_50 -gencode=arch=compute_61,code=compute_61 -c src/caffe/layers/hdf5_data_layer.cu -o build/src/caffe/layers/hdf5_data_layer.cuo\n",
            "\n",
            "/usr/local/cuda/bin/nvcc -ccbin=/usr/bin/g++ -Xcompiler -fPIC -DNDEBUG -O2 -I/usr/local/include/python2.7 -I/usr/local/lib/python2.7/dist-packages/numpy/core/include -I/usr/local/include -I/usr/include/hdf5/serial/ -Ibuild/src -I./src -I./include -I/usr/local/cuda/include -gencode arch=compute_30,code=sm_30 -gencode arch=compute_35,code=sm_35 -gencode=arch=compute_50,code=sm_50 -gencode=arch=compute_61,code=compute_61 -c src/caffe/layers/hdf5_output_layer.cu -o build/src/caffe/layers/hdf5_output_layer.cuo\n",
            "\n",
            "/usr/local/cuda/bin/nvcc -ccbin=/usr/bin/g++ -Xcompiler -fPIC -DNDEBUG -O2 -I/usr/local/include/python2.7 -I/usr/local/lib/python2.7/dist-packages/numpy/core/include -I/usr/local/include -I/usr/include/hdf5/serial/ -Ibuild/src -I./src -I./include -I/usr/local/cuda/include -gencode arch=compute_30,code=sm_30 -gencode arch=compute_35,code=sm_35 -gencode=arch=compute_50,code=sm_50 -gencode=arch=compute_61,code=compute_61 -c src/caffe/layers/im2col_layer.cu -o build/src/caffe/layers/im2col_layer.cuo\n",
            "\n",
            "/usr/local/cuda/bin/nvcc -ccbin=/usr/bin/g++ -Xcompiler -fPIC -DNDEBUG -O2 -I/usr/local/include/python2.7 -I/usr/local/lib/python2.7/dist-packages/numpy/core/include -I/usr/local/include -I/usr/include/hdf5/serial/ -Ibuild/src -I./src -I./include -I/usr/local/cuda/include -gencode arch=compute_30,code=sm_30 -gencode arch=compute_35,code=sm_35 -gencode=arch=compute_50,code=sm_50 -gencode=arch=compute_61,code=compute_61 -c src/caffe/layers/image_data_layer.cu -o build/src/caffe/layers/image_data_layer.cuo\n",
            "\n",
            "/usr/local/cuda/bin/nvcc -ccbin=/usr/bin/g++ -Xcompiler -fPIC -DNDEBUG -O2 -I/usr/local/include/python2.7 -I/usr/local/lib/python2.7/dist-packages/numpy/core/include -I/usr/local/include -I/usr/include/hdf5/serial/ -Ibuild/src -I./src -I./include -I/usr/local/cuda/include -gencode arch=compute_30,code=sm_30 -gencode arch=compute_35,code=sm_35 -gencode=arch=compute_50,code=sm_50 -gencode=arch=compute_61,code=compute_61 -c src/caffe/layers/inner_product_layer.cu -o build/src/caffe/layers/inner_product_layer.cuo\n",
            "\n",
            "/usr/local/cuda/bin/nvcc -ccbin=/usr/bin/g++ -Xcompiler -fPIC -DNDEBUG -O2 -I/usr/local/include/python2.7 -I/usr/local/lib/python2.7/dist-packages/numpy/core/include -I/usr/local/include -I/usr/include/hdf5/serial/ -Ibuild/src -I./src -I./include -I/usr/local/cuda/include -gencode arch=compute_30,code=sm_30 -gencode arch=compute_35,code=sm_35 -gencode=arch=compute_50,code=sm_50 -gencode=arch=compute_61,code=compute_61 -c src/caffe/layers/lrn_layer.cu -o build/src/caffe/layers/lrn_layer.cuo\n",
            "\n",
            "/usr/local/cuda/bin/nvcc -ccbin=/usr/bin/g++ -Xcompiler -fPIC -DNDEBUG -O2 -I/usr/local/include/python2.7 -I/usr/local/lib/python2.7/dist-packages/numpy/core/include -I/usr/local/include -I/usr/include/hdf5/serial/ -Ibuild/src -I./src -I./include -I/usr/local/cuda/include -gencode arch=compute_30,code=sm_30 -gencode arch=compute_35,code=sm_35 -gencode=arch=compute_50,code=sm_50 -gencode=arch=compute_61,code=compute_61 -c src/caffe/layers/pool3d_layer.cu -o build/src/caffe/layers/pool3d_layer.cuo\n",
            "\n",
            "/usr/local/cuda/bin/nvcc -ccbin=/usr/bin/g++ -Xcompiler -fPIC -DNDEBUG -O2 -I/usr/local/include/python2.7 -I/usr/local/lib/python2.7/dist-packages/numpy/core/include -I/usr/local/include -I/usr/include/hdf5/serial/ -Ibuild/src -I./src -I./include -I/usr/local/cuda/include -gencode arch=compute_30,code=sm_30 -gencode arch=compute_35,code=sm_35 -gencode=arch=compute_50,code=sm_50 -gencode=arch=compute_61,code=compute_61 -c src/caffe/layers/pooling_layer.cu -o build/src/caffe/layers/pooling_layer.cuo\n",
            "\n",
            "/usr/local/cuda/bin/nvcc -ccbin=/usr/bin/g++ -Xcompiler -fPIC -DNDEBUG -O2 -I/usr/local/include/python2.7 -I/usr/local/lib/python2.7/dist-packages/numpy/core/include -I/usr/local/include -I/usr/include/hdf5/serial/ -Ibuild/src -I./src -I./include -I/usr/local/cuda/include -gencode arch=compute_30,code=sm_30 -gencode arch=compute_35,code=sm_35 -gencode=arch=compute_50,code=sm_50 -gencode=arch=compute_61,code=compute_61 -c src/caffe/layers/power_layer.cu -o build/src/caffe/layers/power_layer.cuo\n",
            "\n",
            "/usr/local/cuda/bin/nvcc -ccbin=/usr/bin/g++ -Xcompiler -fPIC -DNDEBUG -O2 -I/usr/local/include/python2.7 -I/usr/local/lib/python2.7/dist-packages/numpy/core/include -I/usr/local/include -I/usr/include/hdf5/serial/ -Ibuild/src -I./src -I./include -I/usr/local/cuda/include -gencode arch=compute_30,code=sm_30 -gencode arch=compute_35,code=sm_35 -gencode=arch=compute_50,code=sm_50 -gencode=arch=compute_61,code=compute_61 -c src/caffe/layers/relu_layer.cu -o build/src/caffe/layers/relu_layer.cuo\n",
            "\n",
            "/usr/local/cuda/bin/nvcc -ccbin=/usr/bin/g++ -Xcompiler -fPIC -DNDEBUG -O2 -I/usr/local/include/python2.7 -I/usr/local/lib/python2.7/dist-packages/numpy/core/include -I/usr/local/include -I/usr/include/hdf5/serial/ -Ibuild/src -I./src -I./include -I/usr/local/cuda/include -gencode arch=compute_30,code=sm_30 -gencode arch=compute_35,code=sm_35 -gencode=arch=compute_50,code=sm_50 -gencode=arch=compute_61,code=compute_61 -c src/caffe/layers/sigmoid_cross_entropy_loss_layer.cu -o build/src/caffe/layers/sigmoid_cross_entropy_loss_layer.cuo\n",
            "\n",
            "/usr/local/cuda/bin/nvcc -ccbin=/usr/bin/g++ -Xcompiler -fPIC -DNDEBUG -O2 -I/usr/local/include/python2.7 -I/usr/local/lib/python2.7/dist-packages/numpy/core/include -I/usr/local/include -I/usr/include/hdf5/serial/ -Ibuild/src -I./src -I./include -I/usr/local/cuda/include -gencode arch=compute_30,code=sm_30 -gencode arch=compute_35,code=sm_35 -gencode=arch=compute_50,code=sm_50 -gencode=arch=compute_61,code=compute_61 -c src/caffe/layers/sigmoid_layer.cu -o build/src/caffe/layers/sigmoid_layer.cuo\n",
            "\n",
            "/usr/local/cuda/bin/nvcc -ccbin=/usr/bin/g++ -Xcompiler -fPIC -DNDEBUG -O2 -I/usr/local/include/python2.7 -I/usr/local/lib/python2.7/dist-packages/numpy/core/include -I/usr/local/include -I/usr/include/hdf5/serial/ -Ibuild/src -I./src -I./include -I/usr/local/cuda/include -gencode arch=compute_30,code=sm_30 -gencode arch=compute_35,code=sm_35 -gencode=arch=compute_50,code=sm_50 -gencode=arch=compute_61,code=compute_61 -c src/caffe/layers/softmax_layer.cu -o build/src/caffe/layers/softmax_layer.cuo\n",
            "\n",
            "/usr/local/cuda/bin/nvcc -ccbin=/usr/bin/g++ -Xcompiler -fPIC -DNDEBUG -O2 -I/usr/local/include/python2.7 -I/usr/local/lib/python2.7/dist-packages/numpy/core/include -I/usr/local/include -I/usr/include/hdf5/serial/ -Ibuild/src -I./src -I./include -I/usr/local/cuda/include -gencode arch=compute_30,code=sm_30 -gencode arch=compute_35,code=sm_35 -gencode=arch=compute_50,code=sm_50 -gencode=arch=compute_61,code=compute_61 -c src/caffe/layers/softmax_loss_layer.cu -o build/src/caffe/layers/softmax_loss_layer.cuo\n",
            "\n",
            "/usr/local/cuda/bin/nvcc -ccbin=/usr/bin/g++ -Xcompiler -fPIC -DNDEBUG -O2 -I/usr/local/include/python2.7 -I/usr/local/lib/python2.7/dist-packages/numpy/core/include -I/usr/local/include -I/usr/include/hdf5/serial/ -Ibuild/src -I./src -I./include -I/usr/local/cuda/include -gencode arch=compute_30,code=sm_30 -gencode arch=compute_35,code=sm_35 -gencode=arch=compute_50,code=sm_50 -gencode=arch=compute_61,code=compute_61 -c src/caffe/layers/split_layer.cu -o build/src/caffe/layers/split_layer.cuo\n",
            "\n",
            "/usr/local/cuda/bin/nvcc -ccbin=/usr/bin/g++ -Xcompiler -fPIC -DNDEBUG -O2 -I/usr/local/include/python2.7 -I/usr/local/lib/python2.7/dist-packages/numpy/core/include -I/usr/local/include -I/usr/include/hdf5/serial/ -Ibuild/src -I./src -I./include -I/usr/local/cuda/include -gencode arch=compute_30,code=sm_30 -gencode arch=compute_35,code=sm_35 -gencode=arch=compute_50,code=sm_50 -gencode=arch=compute_61,code=compute_61 -c src/caffe/layers/tanh_layer.cu -o build/src/caffe/layers/tanh_layer.cuo\n",
            "\n",
            "/usr/local/cuda/bin/nvcc -ccbin=/usr/bin/g++ -Xcompiler -fPIC -DNDEBUG -O2 -I/usr/local/include/python2.7 -I/usr/local/lib/python2.7/dist-packages/numpy/core/include -I/usr/local/include -I/usr/include/hdf5/serial/ -Ibuild/src -I./src -I./include -I/usr/local/cuda/include -gencode arch=compute_30,code=sm_30 -gencode arch=compute_35,code=sm_35 -gencode=arch=compute_50,code=sm_50 -gencode=arch=compute_61,code=compute_61 -c src/caffe/layers/video_data_layer.cu -o build/src/caffe/layers/video_data_layer.cuo\n",
            "\n",
            "/usr/local/cuda/bin/nvcc -ccbin=/usr/bin/g++ -Xcompiler -fPIC -DNDEBUG -O2 -I/usr/local/include/python2.7 -I/usr/local/lib/python2.7/dist-packages/numpy/core/include -I/usr/local/include -I/usr/include/hdf5/serial/ -Ibuild/src -I./src -I./include -I/usr/local/cuda/include -gencode arch=compute_30,code=sm_30 -gencode arch=compute_35,code=sm_35 -gencode=arch=compute_50,code=sm_50 -gencode=arch=compute_61,code=compute_61 -c src/caffe/layers/video_segmentation_data_layer.cu -o build/src/caffe/layers/video_segmentation_data_layer.cuo\n",
            "\n",
            "/usr/local/cuda/bin/nvcc -ccbin=/usr/bin/g++ -Xcompiler -fPIC -DNDEBUG -O2 -I/usr/local/include/python2.7 -I/usr/local/lib/python2.7/dist-packages/numpy/core/include -I/usr/local/include -I/usr/include/hdf5/serial/ -Ibuild/src -I./src -I./include -I/usr/local/cuda/include -gencode arch=compute_30,code=sm_30 -gencode arch=compute_35,code=sm_35 -gencode=arch=compute_50,code=sm_50 -gencode=arch=compute_61,code=compute_61 -c src/caffe/layers/video_with_voxel_truth_data_layer.cu -o build/src/caffe/layers/video_with_voxel_truth_data_layer.cuo\n",
            "\n",
            "/usr/local/cuda/bin/nvcc -ccbin=/usr/bin/g++ -Xcompiler -fPIC -DNDEBUG -O2 -I/usr/local/include/python2.7 -I/usr/local/lib/python2.7/dist-packages/numpy/core/include -I/usr/local/include -I/usr/include/hdf5/serial/ -Ibuild/src -I./src -I./include -I/usr/local/cuda/include -gencode arch=compute_30,code=sm_30 -gencode arch=compute_35,code=sm_35 -gencode=arch=compute_50,code=sm_50 -gencode=arch=compute_61,code=compute_61 -c src/caffe/layers/volume_data_layer.cu -o build/src/caffe/layers/volume_data_layer.cuo\n",
            "\n",
            "/usr/local/cuda/bin/nvcc -ccbin=/usr/bin/g++ -Xcompiler -fPIC -DNDEBUG -O2 -I/usr/local/include/python2.7 -I/usr/local/lib/python2.7/dist-packages/numpy/core/include -I/usr/local/include -I/usr/include/hdf5/serial/ -Ibuild/src -I./src -I./include -I/usr/local/cuda/include -gencode arch=compute_30,code=sm_30 -gencode arch=compute_35,code=sm_35 -gencode=arch=compute_50,code=sm_50 -gencode=arch=compute_61,code=compute_61 -c src/caffe/layers/voxel_wise_softmax_layer.cu -o build/src/caffe/layers/voxel_wise_softmax_layer.cuo\n",
            "\n",
            "/usr/local/cuda/bin/nvcc -ccbin=/usr/bin/g++ -Xcompiler -fPIC -DNDEBUG -O2 -I/usr/local/include/python2.7 -I/usr/local/lib/python2.7/dist-packages/numpy/core/include -I/usr/local/include -I/usr/include/hdf5/serial/ -Ibuild/src -I./src -I./include -I/usr/local/cuda/include -gencode arch=compute_30,code=sm_30 -gencode arch=compute_35,code=sm_35 -gencode=arch=compute_50,code=sm_50 -gencode=arch=compute_61,code=compute_61 -c src/caffe/layers/voxel_wise_softmax_loss_layer.cu -o build/src/caffe/layers/voxel_wise_softmax_loss_layer.cuo\n",
            "\n",
            "/usr/local/cuda/bin/nvcc -ccbin=/usr/bin/g++ -Xcompiler -fPIC -DNDEBUG -O2 -I/usr/local/include/python2.7 -I/usr/local/lib/python2.7/dist-packages/numpy/core/include -I/usr/local/include -I/usr/include/hdf5/serial/ -Ibuild/src -I./src -I./include -I/usr/local/cuda/include -gencode arch=compute_30,code=sm_30 -gencode arch=compute_35,code=sm_35 -gencode=arch=compute_50,code=sm_50 -gencode=arch=compute_61,code=compute_61 -c src/caffe/layers/window_data_layer.cu -o build/src/caffe/layers/window_data_layer.cuo\n",
            "\n",
            "\n",
            "/usr/bin/g++ -shared -o build/lib/libcaffe.so build/src/caffe/proto/caffe.pb.o build/src/caffe/proto/caffe_pretty_print.pb.o build/src/caffe/blob.o build/src/caffe/common.o build/src/caffe/layer_factory.o build/src/caffe/layers/accuracy_layer.o build/src/caffe/layers/bnll_layer.o build/src/caffe/layers/concat_layer.o build/src/caffe/layers/conv_layer.o build/src/caffe/layers/convolution3d_layer.o build/src/caffe/layers/data_layer.o build/src/caffe/layers/deconvolution3d_layer.o build/src/caffe/layers/down_sampling_layer.o build/src/caffe/layers/dropout_layer.o build/src/caffe/layers/eltwise_product_layer.o build/src/caffe/layers/euclidean_loss_layer.o build/src/caffe/layers/flatten_layer.o build/src/caffe/layers/hdf5_data_layer.o build/src/caffe/layers/hdf5_output_layer.o build/src/caffe/layers/hinge_loss_layer.o build/src/caffe/layers/im2col_layer.o build/src/caffe/layers/image_data_layer.o build/src/caffe/layers/infogain_loss_layer.o build/src/caffe/layers/inner_product_layer.o build/src/caffe/layers/loss_layer.o build/src/caffe/layers/lrn_layer.o build/src/caffe/layers/memory_data_layer.o build/src/caffe/layers/multinomial_logistic_loss_layer.o build/src/caffe/layers/neuron_layer.o build/src/caffe/layers/pool3d_layer.o build/src/caffe/layers/pooling_layer.o build/src/caffe/layers/power_layer.o build/src/caffe/layers/relu_layer.o build/src/caffe/layers/sigmoid_cross_entropy_loss_layer.o build/src/caffe/layers/sigmoid_layer.o build/src/caffe/layers/softmax_layer.o build/src/caffe/layers/softmax_loss_layer.o build/src/caffe/layers/split_layer.o build/src/caffe/layers/tanh_layer.o build/src/caffe/layers/video_data_layer.o build/src/caffe/layers/video_segmentation_data_layer.o build/src/caffe/layers/video_with_voxel_truth_data_layer.o build/src/caffe/layers/volume_data_layer.o build/src/caffe/layers/voxel_custom_loss_layer.o build/src/caffe/layers/voxel_wise_softmax_layer.o build/src/caffe/layers/voxel_wise_softmax_loss_layer.o build/src/caffe/layers/window_data_layer.o build/src/caffe/net.o build/src/caffe/solver.o build/src/caffe/syncedmem.o build/src/caffe/util/benchmark.o build/src/caffe/util/im2col.o build/src/caffe/util/image_io.o build/src/caffe/util/insert_splits.o build/src/caffe/util/io.o build/src/caffe/util/math_functions.o build/src/caffe/util/upgrade_proto.o build/src/caffe/util/vol2col.o build/src/caffe/layers/bnll_layer.cuo build/src/caffe/layers/concat_layer.cuo build/src/caffe/layers/conv_layer.cuo build/src/caffe/layers/convolution3d_layer.cuo build/src/caffe/layers/data_layer.cuo build/src/caffe/layers/deconvolution3d_layer.cuo build/src/caffe/layers/down_sampling_layer.cuo build/src/caffe/layers/dropout_layer.cuo build/src/caffe/layers/eltwise_product_layer.cuo build/src/caffe/layers/flatten_layer.cuo build/src/caffe/layers/hdf5_data_layer.cuo build/src/caffe/layers/hdf5_output_layer.cuo build/src/caffe/layers/im2col_layer.cuo build/src/caffe/layers/image_data_layer.cuo build/src/caffe/layers/inner_product_layer.cuo build/src/caffe/layers/lrn_layer.cuo build/src/caffe/layers/pool3d_layer.cuo build/src/caffe/layers/pooling_layer.cuo build/src/caffe/layers/power_layer.cuo build/src/caffe/layers/relu_layer.cuo build/src/caffe/layers/sigmoid_cross_entropy_loss_layer.cuo build/src/caffe/layers/sigmoid_layer.cuo build/src/caffe/layers/softmax_layer.cuo build/src/caffe/layers/softmax_loss_layer.cuo build/src/caffe/layers/split_layer.cuo build/src/caffe/layers/tanh_layer.cuo build/src/caffe/layers/video_data_layer.cuo build/src/caffe/layers/video_segmentation_data_layer.cuo build/src/caffe/layers/video_with_voxel_truth_data_layer.cuo build/src/caffe/layers/volume_data_layer.cuo build/src/caffe/layers/voxel_wise_softmax_layer.cuo build/src/caffe/layers/voxel_wise_softmax_loss_layer.cuo build/src/caffe/layers/window_data_layer.cuo build/src/caffe/util/im2col.cuo build/src/caffe/util/math_functions.cuo build/src/caffe/util/vol2col.cuo -pthread -fPIC -DNDEBUG -O2 -I/usr/local/include/python2.7 -I/usr/local/lib/python2.7/dist-packages/numpy/core/include -I/usr/local/include -I/usr/include/hdf5/serial/ -Ibuild/src -I./src -I./include -I/usr/local/cuda/include -L/usr/local/lib -L/usr/local/lib -L/usr/lib -L/usr/lib/x86_64-linux-gnu/hdf5/serial -L/usr/local/cuda/lib64 -L/usr/local/cuda/lib -lcudart -lcublas -lcurand -lpthread -lglog -lprotobuf -lleveldb -lsnappy -lboost_system -lhdf5_hl -lhdf5 -lopencv_core -lopencv_highgui -lopencv_imgproc -lopencv_imgcodecs -lopencv_videoio -lcblas -latlas -Wall\n",
            "ar rcs build/lib/libcaffe.a build/src/caffe/proto/caffe.pb.o build/src/caffe/proto/caffe_pretty_print.pb.o build/src/caffe/proto/caffe.pb.o build/src/caffe/proto/caffe_pretty_print.pb.o build/src/caffe/blob.o build/src/caffe/common.o build/src/caffe/layer_factory.o build/src/caffe/layers/accuracy_layer.o build/src/caffe/layers/bnll_layer.o build/src/caffe/layers/concat_layer.o build/src/caffe/layers/conv_layer.o build/src/caffe/layers/convolution3d_layer.o build/src/caffe/layers/data_layer.o build/src/caffe/layers/deconvolution3d_layer.o build/src/caffe/layers/down_sampling_layer.o build/src/caffe/layers/dropout_layer.o build/src/caffe/layers/eltwise_product_layer.o build/src/caffe/layers/euclidean_loss_layer.o build/src/caffe/layers/flatten_layer.o build/src/caffe/layers/hdf5_data_layer.o build/src/caffe/layers/hdf5_output_layer.o build/src/caffe/layers/hinge_loss_layer.o build/src/caffe/layers/im2col_layer.o build/src/caffe/layers/image_data_layer.o build/src/caffe/layers/infogain_loss_layer.o build/src/caffe/layers/inner_product_layer.o build/src/caffe/layers/loss_layer.o build/src/caffe/layers/lrn_layer.o build/src/caffe/layers/memory_data_layer.o build/src/caffe/layers/multinomial_logistic_loss_layer.o build/src/caffe/layers/neuron_layer.o build/src/caffe/layers/pool3d_layer.o build/src/caffe/layers/pooling_layer.o build/src/caffe/layers/power_layer.o build/src/caffe/layers/relu_layer.o build/src/caffe/layers/sigmoid_cross_entropy_loss_layer.o build/src/caffe/layers/sigmoid_layer.o build/src/caffe/layers/softmax_layer.o build/src/caffe/layers/softmax_loss_layer.o build/src/caffe/layers/split_layer.o build/src/caffe/layers/tanh_layer.o build/src/caffe/layers/video_data_layer.o build/src/caffe/layers/video_segmentation_data_layer.o build/src/caffe/layers/video_with_voxel_truth_data_layer.o build/src/caffe/layers/volume_data_layer.o build/src/caffe/layers/voxel_custom_loss_layer.o build/src/caffe/layers/voxel_wise_softmax_layer.o build/src/caffe/layers/voxel_wise_softmax_loss_layer.o build/src/caffe/layers/window_data_layer.o build/src/caffe/net.o build/src/caffe/solver.o build/src/caffe/syncedmem.o build/src/caffe/util/benchmark.o build/src/caffe/util/im2col.o build/src/caffe/util/image_io.o build/src/caffe/util/insert_splits.o build/src/caffe/util/io.o build/src/caffe/util/math_functions.o build/src/caffe/util/upgrade_proto.o build/src/caffe/util/vol2col.o build/src/caffe/layers/bnll_layer.cuo build/src/caffe/layers/concat_layer.cuo build/src/caffe/layers/conv_layer.cuo build/src/caffe/layers/convolution3d_layer.cuo build/src/caffe/layers/data_layer.cuo build/src/caffe/layers/deconvolution3d_layer.cuo build/src/caffe/layers/down_sampling_layer.cuo build/src/caffe/layers/dropout_layer.cuo build/src/caffe/layers/eltwise_product_layer.cuo build/src/caffe/layers/flatten_layer.cuo build/src/caffe/layers/hdf5_data_layer.cuo build/src/caffe/layers/hdf5_output_layer.cuo build/src/caffe/layers/im2col_layer.cuo build/src/caffe/layers/image_data_layer.cuo build/src/caffe/layers/inner_product_layer.cuo build/src/caffe/layers/lrn_layer.cuo build/src/caffe/layers/pool3d_layer.cuo build/src/caffe/layers/pooling_layer.cuo build/src/caffe/layers/power_layer.cuo build/src/caffe/layers/relu_layer.cuo build/src/caffe/layers/sigmoid_cross_entropy_loss_layer.cuo build/src/caffe/layers/sigmoid_layer.cuo build/src/caffe/layers/softmax_layer.cuo build/src/caffe/layers/softmax_loss_layer.cuo build/src/caffe/layers/split_layer.cuo build/src/caffe/layers/tanh_layer.cuo build/src/caffe/layers/video_data_layer.cuo build/src/caffe/layers/video_segmentation_data_layer.cuo build/src/caffe/layers/video_with_voxel_truth_data_layer.cuo build/src/caffe/layers/volume_data_layer.cuo build/src/caffe/layers/voxel_wise_softmax_layer.cuo build/src/caffe/layers/voxel_wise_softmax_loss_layer.cuo build/src/caffe/layers/window_data_layer.cuo build/src/caffe/util/im2col.cuo build/src/caffe/util/math_functions.cuo build/src/caffe/util/vol2col.cuo\n",
            "\n",
            "/usr/bin/g++ build/tools/blob_proto_to_blob_binary.o build/lib/libcaffe.a -o build/tools/blob_proto_to_blob_binary.bin -pthread -fPIC -DNDEBUG -O2 -I/usr/local/include/python2.7 -I/usr/local/lib/python2.7/dist-packages/numpy/core/include -I/usr/local/include -I/usr/include/hdf5/serial/ -Ibuild/src -I./src -I./include -I/usr/local/cuda/include -L/usr/local/lib -L/usr/local/lib -L/usr/lib -L/usr/lib/x86_64-linux-gnu/hdf5/serial -L/usr/local/cuda/lib64 -L/usr/local/cuda/lib -lcudart -lcublas -lcurand -lpthread -lglog -lprotobuf -lleveldb -lsnappy -lboost_system -lhdf5_hl -lhdf5 -lopencv_core -lopencv_highgui -lopencv_imgproc -lopencv_imgcodecs -lopencv_videoio -lcblas -latlas -Wall\n",
            "\n",
            "/usr/bin/g++ build/tools/compute_image_mean.o build/lib/libcaffe.a -o build/tools/compute_image_mean.bin -pthread -fPIC -DNDEBUG -O2 -I/usr/local/include/python2.7 -I/usr/local/lib/python2.7/dist-packages/numpy/core/include -I/usr/local/include -I/usr/include/hdf5/serial/ -Ibuild/src -I./src -I./include -I/usr/local/cuda/include -L/usr/local/lib -L/usr/local/lib -L/usr/lib -L/usr/lib/x86_64-linux-gnu/hdf5/serial -L/usr/local/cuda/lib64 -L/usr/local/cuda/lib -lcudart -lcublas -lcurand -lpthread -lglog -lprotobuf -lleveldb -lsnappy -lboost_system -lhdf5_hl -lhdf5 -lopencv_core -lopencv_highgui -lopencv_imgproc -lopencv_imgcodecs -lopencv_videoio -lcblas -latlas -Wall\n",
            "\n",
            "/usr/bin/g++ build/tools/compute_image_mean_from_list.o build/lib/libcaffe.a -o build/tools/compute_image_mean_from_list.bin -pthread -fPIC -DNDEBUG -O2 -I/usr/local/include/python2.7 -I/usr/local/lib/python2.7/dist-packages/numpy/core/include -I/usr/local/include -I/usr/include/hdf5/serial/ -Ibuild/src -I./src -I./include -I/usr/local/cuda/include -L/usr/local/lib -L/usr/local/lib -L/usr/lib -L/usr/lib/x86_64-linux-gnu/hdf5/serial -L/usr/local/cuda/lib64 -L/usr/local/cuda/lib -lcudart -lcublas -lcurand -lpthread -lglog -lprotobuf -lleveldb -lsnappy -lboost_system -lhdf5_hl -lhdf5 -lopencv_core -lopencv_highgui -lopencv_imgproc -lopencv_imgcodecs -lopencv_videoio -lcblas -latlas -Wall\n",
            "\n",
            "/usr/bin/g++ build/tools/compute_volume_mean.o build/lib/libcaffe.a -o build/tools/compute_volume_mean.bin -pthread -fPIC -DNDEBUG -O2 -I/usr/local/include/python2.7 -I/usr/local/lib/python2.7/dist-packages/numpy/core/include -I/usr/local/include -I/usr/include/hdf5/serial/ -Ibuild/src -I./src -I./include -I/usr/local/cuda/include -L/usr/local/lib -L/usr/local/lib -L/usr/lib -L/usr/lib/x86_64-linux-gnu/hdf5/serial -L/usr/local/cuda/lib64 -L/usr/local/cuda/lib -lcudart -lcublas -lcurand -lpthread -lglog -lprotobuf -lleveldb -lsnappy -lboost_system -lhdf5_hl -lhdf5 -lopencv_core -lopencv_highgui -lopencv_imgproc -lopencv_imgcodecs -lopencv_videoio -lcblas -latlas -Wall\n",
            "\n",
            "/usr/bin/g++ build/tools/compute_volume_mean_from_list.o build/lib/libcaffe.a -o build/tools/compute_volume_mean_from_list.bin -pthread -fPIC -DNDEBUG -O2 -I/usr/local/include/python2.7 -I/usr/local/lib/python2.7/dist-packages/numpy/core/include -I/usr/local/include -I/usr/include/hdf5/serial/ -Ibuild/src -I./src -I./include -I/usr/local/cuda/include -L/usr/local/lib -L/usr/local/lib -L/usr/lib -L/usr/lib/x86_64-linux-gnu/hdf5/serial -L/usr/local/cuda/lib64 -L/usr/local/cuda/lib -lcudart -lcublas -lcurand -lpthread -lglog -lprotobuf -lleveldb -lsnappy -lboost_system -lhdf5_hl -lhdf5 -lopencv_core -lopencv_highgui -lopencv_imgproc -lopencv_imgcodecs -lopencv_videoio -lcblas -latlas -Wall\n",
            "\n",
            "/usr/bin/g++ build/tools/compute_volume_mean_from_list_videos.o build/lib/libcaffe.a -o build/tools/compute_volume_mean_from_list_videos.bin -pthread -fPIC -DNDEBUG -O2 -I/usr/local/include/python2.7 -I/usr/local/lib/python2.7/dist-packages/numpy/core/include -I/usr/local/include -I/usr/include/hdf5/serial/ -Ibuild/src -I./src -I./include -I/usr/local/cuda/include -L/usr/local/lib -L/usr/local/lib -L/usr/lib -L/usr/lib/x86_64-linux-gnu/hdf5/serial -L/usr/local/cuda/lib64 -L/usr/local/cuda/lib -lcudart -lcublas -lcurand -lpthread -lglog -lprotobuf -lleveldb -lsnappy -lboost_system -lhdf5_hl -lhdf5 -lopencv_core -lopencv_highgui -lopencv_imgproc -lopencv_imgcodecs -lopencv_videoio -lcblas -latlas -Wall\n",
            "\n",
            "/usr/bin/g++ build/tools/convert_imageset.o build/lib/libcaffe.a -o build/tools/convert_imageset.bin -pthread -fPIC -DNDEBUG -O2 -I/usr/local/include/python2.7 -I/usr/local/lib/python2.7/dist-packages/numpy/core/include -I/usr/local/include -I/usr/include/hdf5/serial/ -Ibuild/src -I./src -I./include -I/usr/local/cuda/include -L/usr/local/lib -L/usr/local/lib -L/usr/lib -L/usr/lib/x86_64-linux-gnu/hdf5/serial -L/usr/local/cuda/lib64 -L/usr/local/cuda/lib -lcudart -lcublas -lcurand -lpthread -lglog -lprotobuf -lleveldb -lsnappy -lboost_system -lhdf5_hl -lhdf5 -lopencv_core -lopencv_highgui -lopencv_imgproc -lopencv_imgcodecs -lopencv_videoio -lcblas -latlas -Wall\n",
            "\n",
            "/usr/bin/g++ build/tools/device_query.o build/lib/libcaffe.a -o build/tools/device_query.bin -pthread -fPIC -DNDEBUG -O2 -I/usr/local/include/python2.7 -I/usr/local/lib/python2.7/dist-packages/numpy/core/include -I/usr/local/include -I/usr/include/hdf5/serial/ -Ibuild/src -I./src -I./include -I/usr/local/cuda/include -L/usr/local/lib -L/usr/local/lib -L/usr/lib -L/usr/lib/x86_64-linux-gnu/hdf5/serial -L/usr/local/cuda/lib64 -L/usr/local/cuda/lib -lcudart -lcublas -lcurand -lpthread -lglog -lprotobuf -lleveldb -lsnappy -lboost_system -lhdf5_hl -lhdf5 -lopencv_core -lopencv_highgui -lopencv_imgproc -lopencv_imgcodecs -lopencv_videoio -lcblas -latlas -Wall\n",
            "\n",
            "/usr/bin/g++ build/tools/dump_network.o build/lib/libcaffe.a -o build/tools/dump_network.bin -pthread -fPIC -DNDEBUG -O2 -I/usr/local/include/python2.7 -I/usr/local/lib/python2.7/dist-packages/numpy/core/include -I/usr/local/include -I/usr/include/hdf5/serial/ -Ibuild/src -I./src -I./include -I/usr/local/cuda/include -L/usr/local/lib -L/usr/local/lib -L/usr/lib -L/usr/lib/x86_64-linux-gnu/hdf5/serial -L/usr/local/cuda/lib64 -L/usr/local/cuda/lib -lcudart -lcublas -lcurand -lpthread -lglog -lprotobuf -lleveldb -lsnappy -lboost_system -lhdf5_hl -lhdf5 -lopencv_core -lopencv_highgui -lopencv_imgproc -lopencv_imgcodecs -lopencv_videoio -lcblas -latlas -Wall\n",
            "\n",
            "/usr/bin/g++ build/tools/extract_all_learned_filters.o build/lib/libcaffe.a -o build/tools/extract_all_learned_filters.bin -pthread -fPIC -DNDEBUG -O2 -I/usr/local/include/python2.7 -I/usr/local/lib/python2.7/dist-packages/numpy/core/include -I/usr/local/include -I/usr/include/hdf5/serial/ -Ibuild/src -I./src -I./include -I/usr/local/cuda/include -L/usr/local/lib -L/usr/local/lib -L/usr/lib -L/usr/lib/x86_64-linux-gnu/hdf5/serial -L/usr/local/cuda/lib64 -L/usr/local/cuda/lib -lcudart -lcublas -lcurand -lpthread -lglog -lprotobuf -lleveldb -lsnappy -lboost_system -lhdf5_hl -lhdf5 -lopencv_core -lopencv_highgui -lopencv_imgproc -lopencv_imgcodecs -lopencv_videoio -lcblas -latlas -Wall\n",
            "\n",
            "/usr/bin/g++ build/tools/extract_features.o build/lib/libcaffe.a -o build/tools/extract_features.bin -pthread -fPIC -DNDEBUG -O2 -I/usr/local/include/python2.7 -I/usr/local/lib/python2.7/dist-packages/numpy/core/include -I/usr/local/include -I/usr/include/hdf5/serial/ -Ibuild/src -I./src -I./include -I/usr/local/cuda/include -L/usr/local/lib -L/usr/local/lib -L/usr/lib -L/usr/lib/x86_64-linux-gnu/hdf5/serial -L/usr/local/cuda/lib64 -L/usr/local/cuda/lib -lcudart -lcublas -lcurand -lpthread -lglog -lprotobuf -lleveldb -lsnappy -lboost_system -lhdf5_hl -lhdf5 -lopencv_core -lopencv_highgui -lopencv_imgproc -lopencv_imgcodecs -lopencv_videoio -lcblas -latlas -Wall\n",
            "\n",
            "/usr/bin/g++ build/tools/extract_image_features.o build/lib/libcaffe.a -o build/tools/extract_image_features.bin -pthread -fPIC -DNDEBUG -O2 -I/usr/local/include/python2.7 -I/usr/local/lib/python2.7/dist-packages/numpy/core/include -I/usr/local/include -I/usr/include/hdf5/serial/ -Ibuild/src -I./src -I./include -I/usr/local/cuda/include -L/usr/local/lib -L/usr/local/lib -L/usr/lib -L/usr/lib/x86_64-linux-gnu/hdf5/serial -L/usr/local/cuda/lib64 -L/usr/local/cuda/lib -lcudart -lcublas -lcurand -lpthread -lglog -lprotobuf -lleveldb -lsnappy -lboost_system -lhdf5_hl -lhdf5 -lopencv_core -lopencv_highgui -lopencv_imgproc -lopencv_imgcodecs -lopencv_videoio -lcblas -latlas -Wall\n",
            "\n",
            "/usr/bin/g++ build/tools/extract_learned_filters.o build/lib/libcaffe.a -o build/tools/extract_learned_filters.bin -pthread -fPIC -DNDEBUG -O2 -I/usr/local/include/python2.7 -I/usr/local/lib/python2.7/dist-packages/numpy/core/include -I/usr/local/include -I/usr/include/hdf5/serial/ -Ibuild/src -I./src -I./include -I/usr/local/cuda/include -L/usr/local/lib -L/usr/local/lib -L/usr/lib -L/usr/lib/x86_64-linux-gnu/hdf5/serial -L/usr/local/cuda/lib64 -L/usr/local/cuda/lib -lcudart -lcublas -lcurand -lpthread -lglog -lprotobuf -lleveldb -lsnappy -lboost_system -lhdf5_hl -lhdf5 -lopencv_core -lopencv_highgui -lopencv_imgproc -lopencv_imgcodecs -lopencv_videoio -lcblas -latlas -Wall\n",
            "\n",
            "/usr/bin/g++ build/tools/finetune_net.o build/lib/libcaffe.a -o build/tools/finetune_net.bin -pthread -fPIC -DNDEBUG -O2 -I/usr/local/include/python2.7 -I/usr/local/lib/python2.7/dist-packages/numpy/core/include -I/usr/local/include -I/usr/include/hdf5/serial/ -Ibuild/src -I./src -I./include -I/usr/local/cuda/include -L/usr/local/lib -L/usr/local/lib -L/usr/lib -L/usr/lib/x86_64-linux-gnu/hdf5/serial -L/usr/local/cuda/lib64 -L/usr/local/cuda/lib -lcudart -lcublas -lcurand -lpthread -lglog -lprotobuf -lleveldb -lsnappy -lboost_system -lhdf5_hl -lhdf5 -lopencv_core -lopencv_highgui -lopencv_imgproc -lopencv_imgcodecs -lopencv_videoio -lcblas -latlas -Wall\n",
            "\n",
            "/usr/bin/g++ build/tools/net_speed_benchmark.o build/lib/libcaffe.a -o build/tools/net_speed_benchmark.bin -pthread -fPIC -DNDEBUG -O2 -I/usr/local/include/python2.7 -I/usr/local/lib/python2.7/dist-packages/numpy/core/include -I/usr/local/include -I/usr/include/hdf5/serial/ -Ibuild/src -I./src -I./include -I/usr/local/cuda/include -L/usr/local/lib -L/usr/local/lib -L/usr/lib -L/usr/lib/x86_64-linux-gnu/hdf5/serial -L/usr/local/cuda/lib64 -L/usr/local/cuda/lib -lcudart -lcublas -lcurand -lpthread -lglog -lprotobuf -lleveldb -lsnappy -lboost_system -lhdf5_hl -lhdf5 -lopencv_core -lopencv_highgui -lopencv_imgproc -lopencv_imgcodecs -lopencv_videoio -lcblas -latlas -Wall\n",
            "\n",
            "/usr/bin/g++ build/tools/test_net.o build/lib/libcaffe.a -o build/tools/test_net.bin -pthread -fPIC -DNDEBUG -O2 -I/usr/local/include/python2.7 -I/usr/local/lib/python2.7/dist-packages/numpy/core/include -I/usr/local/include -I/usr/include/hdf5/serial/ -Ibuild/src -I./src -I./include -I/usr/local/cuda/include -L/usr/local/lib -L/usr/local/lib -L/usr/lib -L/usr/lib/x86_64-linux-gnu/hdf5/serial -L/usr/local/cuda/lib64 -L/usr/local/cuda/lib -lcudart -lcublas -lcurand -lpthread -lglog -lprotobuf -lleveldb -lsnappy -lboost_system -lhdf5_hl -lhdf5 -lopencv_core -lopencv_highgui -lopencv_imgproc -lopencv_imgcodecs -lopencv_videoio -lcblas -latlas -Wall\n",
            "\n",
            "/usr/bin/g++ build/tools/train_net.o build/lib/libcaffe.a -o build/tools/train_net.bin -pthread -fPIC -DNDEBUG -O2 -I/usr/local/include/python2.7 -I/usr/local/lib/python2.7/dist-packages/numpy/core/include -I/usr/local/include -I/usr/include/hdf5/serial/ -Ibuild/src -I./src -I./include -I/usr/local/cuda/include -L/usr/local/lib -L/usr/local/lib -L/usr/lib -L/usr/lib/x86_64-linux-gnu/hdf5/serial -L/usr/local/cuda/lib64 -L/usr/local/cuda/lib -lcudart -lcublas -lcurand -lpthread -lglog -lprotobuf -lleveldb -lsnappy -lboost_system -lhdf5_hl -lhdf5 -lopencv_core -lopencv_highgui -lopencv_imgproc -lopencv_imgcodecs -lopencv_videoio -lcblas -latlas -Wall\n",
            "\n",
            "/usr/bin/g++ build/tools/upgrade_net_proto_binary.o build/lib/libcaffe.a -o build/tools/upgrade_net_proto_binary.bin -pthread -fPIC -DNDEBUG -O2 -I/usr/local/include/python2.7 -I/usr/local/lib/python2.7/dist-packages/numpy/core/include -I/usr/local/include -I/usr/include/hdf5/serial/ -Ibuild/src -I./src -I./include -I/usr/local/cuda/include -L/usr/local/lib -L/usr/local/lib -L/usr/lib -L/usr/lib/x86_64-linux-gnu/hdf5/serial -L/usr/local/cuda/lib64 -L/usr/local/cuda/lib -lcudart -lcublas -lcurand -lpthread -lglog -lprotobuf -lleveldb -lsnappy -lboost_system -lhdf5_hl -lhdf5 -lopencv_core -lopencv_highgui -lopencv_imgproc -lopencv_imgcodecs -lopencv_videoio -lcblas -latlas -Wall\n",
            "\n",
            "/usr/bin/g++ build/tools/upgrade_net_proto_text.o build/lib/libcaffe.a -o build/tools/upgrade_net_proto_text.bin -pthread -fPIC -DNDEBUG -O2 -I/usr/local/include/python2.7 -I/usr/local/lib/python2.7/dist-packages/numpy/core/include -I/usr/local/include -I/usr/include/hdf5/serial/ -Ibuild/src -I./src -I./include -I/usr/local/cuda/include -L/usr/local/lib -L/usr/local/lib -L/usr/lib -L/usr/lib/x86_64-linux-gnu/hdf5/serial -L/usr/local/cuda/lib64 -L/usr/local/cuda/lib -lcudart -lcublas -lcurand -lpthread -lglog -lprotobuf -lleveldb -lsnappy -lboost_system -lhdf5_hl -lhdf5 -lopencv_core -lopencv_highgui -lopencv_imgproc -lopencv_imgcodecs -lopencv_videoio -lcblas -latlas -Wall\n",
            "\n",
            "/usr/bin/g++ build/examples/cifar10/convert_cifar_data.o build/lib/libcaffe.a -o build/examples/cifar10/convert_cifar_data.bin -pthread -fPIC -DNDEBUG -O2 -I/usr/local/include/python2.7 -I/usr/local/lib/python2.7/dist-packages/numpy/core/include -I/usr/local/include -I/usr/include/hdf5/serial/ -Ibuild/src -I./src -I./include -I/usr/local/cuda/include -L/usr/local/lib -L/usr/local/lib -L/usr/lib -L/usr/lib/x86_64-linux-gnu/hdf5/serial -L/usr/local/cuda/lib64 -L/usr/local/cuda/lib -lcudart -lcublas -lcurand -lpthread -lglog -lprotobuf -lleveldb -lsnappy -lboost_system -lhdf5_hl -lhdf5 -lopencv_core -lopencv_highgui -lopencv_imgproc -lopencv_imgcodecs -lopencv_videoio -lcblas -latlas -Wall\n",
            "\n",
            "/usr/bin/g++ build/examples/mnist/convert_mnist_data.o build/lib/libcaffe.a -o build/examples/mnist/convert_mnist_data.bin -pthread -fPIC -DNDEBUG -O2 -I/usr/local/include/python2.7 -I/usr/local/lib/python2.7/dist-packages/numpy/core/include -I/usr/local/include -I/usr/include/hdf5/serial/ -Ibuild/src -I./src -I./include -I/usr/local/cuda/include -L/usr/local/lib -L/usr/local/lib -L/usr/lib -L/usr/lib/x86_64-linux-gnu/hdf5/serial -L/usr/local/cuda/lib64 -L/usr/local/cuda/lib -lcudart -lcublas -lcurand -lpthread -lglog -lprotobuf -lleveldb -lsnappy -lboost_system -lhdf5_hl -lhdf5 -lopencv_core -lopencv_highgui -lopencv_imgproc -lopencv_imgcodecs -lopencv_videoio -lcblas -latlas -Wall\n",
            "\n",
            "\n"
          ],
          "name": "stdout"
        }
      ]
    },
    {
      "cell_type": "markdown",
      "metadata": {
        "id": "iU_P9dODb3QL",
        "colab_type": "text"
      },
      "source": [
        "Caso seja apresentadas algumas linhas como a linha abaixo:\n",
        "\n",
        "`#warning \"math_functions.h is an internal header file and must not be used directly.  This file will be removed in a future CUDA release.  Please use cuda_runtime_api.h or cuda_runtime.h instead.\"\n",
        "  ^`\n",
        "\n",
        "Não há problemas!\n",
        "\n",
        "As últimas linhas da saída esperada devem ser semelhantes a:\n",
        "\n",
        "`/usr/bin/g++ build/examples/cifar10/convert_cifar_data.o build/lib/libcaffe.a -o build/examples/cifar10/convert_cifar_data.bin -pthread -fPIC -DNDEBUG -O2 -I/usr/local/include/python2.7 -I/usr/local/lib/python2.7/dist-packages/numpy/core/include -I/usr/local/include -I/usr/include/hdf5/serial/ -Ibuild/src -I./src -I./include -I/usr/local/cuda/include -L/usr/local/lib -L/usr/local/lib -L/usr/lib -L/usr/lib/x86_64-linux-gnu/hdf5/serial -L/usr/local/cuda/lib64 -L/usr/local/cuda/lib -lcudart -lcublas -lcurand -lpthread -lglog -lprotobuf -lleveldb -lsnappy -lboost_system -lhdf5_hl -lhdf5 -lopencv_core -lopencv_highgui -lopencv_imgproc -lopencv_imgcodecs -lopencv_videoio -lcblas -latlas -Wall`\n",
        "\n",
        "`/usr/bin/g++ build/examples/mnist/convert_mnist_data.o build/lib/libcaffe.a -o build/examples/mnist/convert_mnist_data.bin -pthread -fPIC -DNDEBUG -O2 -I/usr/local/include/python2.7 -I/usr/local/lib/python2.7/dist-packages/numpy/core/include -I/usr/local/include -I/usr/include/hdf5/serial/ -Ibuild/src -I./src -I./include -I/usr/local/cuda/include -L/usr/local/lib -L/usr/local/lib -L/usr/lib -L/usr/lib/x86_64-linux-gnu/hdf5/serial -L/usr/local/cuda/lib64 -L/usr/local/cuda/lib -lcudart -lcublas -lcurand -lpthread -lglog -lprotobuf -lleveldb -lsnappy -lboost_system -lhdf5_hl -lhdf5 -lopencv_core -lopencv_highgui -lopencv_imgproc -lopencv_imgcodecs -lopencv_videoio -lcblas -latlas -Wall\n",
        "`\n",
        "\n"
      ]
    },
    {
      "cell_type": "code",
      "metadata": {
        "colab_type": "code",
        "id": "A0oP4_pjff5u",
        "outputId": "ce8ca08f-bf30-4fbf-d0c6-573f5b9d8379",
        "colab": {
          "base_uri": "https://localhost:8080/",
          "height": 1000
        }
      },
      "source": [
        "!make test"
      ],
      "execution_count": 19,
      "outputs": [
        {
          "output_type": "stream",
          "text": [
            "/usr/bin/g++ src/caffe/test/test_benchmark.cpp -pthread -fPIC -DNDEBUG -O2 -I/usr/local/include/python2.7 -I/usr/local/lib/python2.7/dist-packages/numpy/core/include -I/usr/local/include -I/usr/include/hdf5/serial/ -Ibuild/src -I./src -I./include -I/usr/local/cuda/include -c -o build/src/caffe/test/test_benchmark.o\n",
            "\n",
            "/usr/bin/g++ src/caffe/test/test_blob.cpp -pthread -fPIC -DNDEBUG -O2 -I/usr/local/include/python2.7 -I/usr/local/lib/python2.7/dist-packages/numpy/core/include -I/usr/local/include -I/usr/include/hdf5/serial/ -Ibuild/src -I./src -I./include -I/usr/local/cuda/include -c -o build/src/caffe/test/test_blob.o\n",
            "\n",
            "/usr/bin/g++ src/caffe/test/test_common.cpp -pthread -fPIC -DNDEBUG -O2 -I/usr/local/include/python2.7 -I/usr/local/lib/python2.7/dist-packages/numpy/core/include -I/usr/local/include -I/usr/include/hdf5/serial/ -Ibuild/src -I./src -I./include -I/usr/local/cuda/include -c -o build/src/caffe/test/test_common.o\n",
            "\n",
            "/usr/bin/g++ src/caffe/test/test_concat_layer.cpp -pthread -fPIC -DNDEBUG -O2 -I/usr/local/include/python2.7 -I/usr/local/lib/python2.7/dist-packages/numpy/core/include -I/usr/local/include -I/usr/include/hdf5/serial/ -Ibuild/src -I./src -I./include -I/usr/local/cuda/include -c -o build/src/caffe/test/test_concat_layer.o\n",
            "\n",
            "/usr/bin/g++ src/caffe/test/test_convolution3d_layer.cpp -pthread -fPIC -DNDEBUG -O2 -I/usr/local/include/python2.7 -I/usr/local/lib/python2.7/dist-packages/numpy/core/include -I/usr/local/include -I/usr/include/hdf5/serial/ -Ibuild/src -I./src -I./include -I/usr/local/cuda/include -c -o build/src/caffe/test/test_convolution3d_layer.o\n",
            "\n",
            "/usr/bin/g++ src/caffe/test/test_convolution_layer.cpp -pthread -fPIC -DNDEBUG -O2 -I/usr/local/include/python2.7 -I/usr/local/lib/python2.7/dist-packages/numpy/core/include -I/usr/local/include -I/usr/include/hdf5/serial/ -Ibuild/src -I./src -I./include -I/usr/local/cuda/include -c -o build/src/caffe/test/test_convolution_layer.o\n",
            "\n",
            "/usr/bin/g++ src/caffe/test/test_data_layer.cpp -pthread -fPIC -DNDEBUG -O2 -I/usr/local/include/python2.7 -I/usr/local/lib/python2.7/dist-packages/numpy/core/include -I/usr/local/include -I/usr/include/hdf5/serial/ -Ibuild/src -I./src -I./include -I/usr/local/cuda/include -c -o build/src/caffe/test/test_data_layer.o\n",
            "\n",
            "/usr/bin/g++ src/caffe/test/test_deconvolution3d_layer.cpp -pthread -fPIC -DNDEBUG -O2 -I/usr/local/include/python2.7 -I/usr/local/lib/python2.7/dist-packages/numpy/core/include -I/usr/local/include -I/usr/include/hdf5/serial/ -Ibuild/src -I./src -I./include -I/usr/local/cuda/include -c -o build/src/caffe/test/test_deconvolution3d_layer.o\n",
            "\n",
            "/usr/bin/g++ src/caffe/test/test_eltwise_product_layer.cpp -pthread -fPIC -DNDEBUG -O2 -I/usr/local/include/python2.7 -I/usr/local/lib/python2.7/dist-packages/numpy/core/include -I/usr/local/include -I/usr/include/hdf5/serial/ -Ibuild/src -I./src -I./include -I/usr/local/cuda/include -c -o build/src/caffe/test/test_eltwise_product_layer.o\n",
            "\n",
            "/usr/bin/g++ src/caffe/test/test_euclidean_loss_layer.cpp -pthread -fPIC -DNDEBUG -O2 -I/usr/local/include/python2.7 -I/usr/local/lib/python2.7/dist-packages/numpy/core/include -I/usr/local/include -I/usr/include/hdf5/serial/ -Ibuild/src -I./src -I./include -I/usr/local/cuda/include -c -o build/src/caffe/test/test_euclidean_loss_layer.o\n",
            "\n",
            "/usr/bin/g++ src/caffe/test/test_filler.cpp -pthread -fPIC -DNDEBUG -O2 -I/usr/local/include/python2.7 -I/usr/local/lib/python2.7/dist-packages/numpy/core/include -I/usr/local/include -I/usr/include/hdf5/serial/ -Ibuild/src -I./src -I./include -I/usr/local/cuda/include -c -o build/src/caffe/test/test_filler.o\n",
            "\n",
            "/usr/bin/g++ src/caffe/test/test_flatten_layer.cpp -pthread -fPIC -DNDEBUG -O2 -I/usr/local/include/python2.7 -I/usr/local/lib/python2.7/dist-packages/numpy/core/include -I/usr/local/include -I/usr/include/hdf5/serial/ -Ibuild/src -I./src -I./include -I/usr/local/cuda/include -c -o build/src/caffe/test/test_flatten_layer.o\n",
            "\n",
            "/usr/bin/g++ src/caffe/test/test_hinge_loss_layer.cpp -pthread -fPIC -DNDEBUG -O2 -I/usr/local/include/python2.7 -I/usr/local/lib/python2.7/dist-packages/numpy/core/include -I/usr/local/include -I/usr/include/hdf5/serial/ -Ibuild/src -I./src -I./include -I/usr/local/cuda/include -c -o build/src/caffe/test/test_hinge_loss_layer.o\n",
            "\n",
            "/usr/bin/g++ src/caffe/test/test_im2col_layer.cpp -pthread -fPIC -DNDEBUG -O2 -I/usr/local/include/python2.7 -I/usr/local/lib/python2.7/dist-packages/numpy/core/include -I/usr/local/include -I/usr/include/hdf5/serial/ -Ibuild/src -I./src -I./include -I/usr/local/cuda/include -c -o build/src/caffe/test/test_im2col_layer.o\n",
            "\n",
            "/usr/bin/g++ src/caffe/test/test_image_data_layer.cpp -pthread -fPIC -DNDEBUG -O2 -I/usr/local/include/python2.7 -I/usr/local/lib/python2.7/dist-packages/numpy/core/include -I/usr/local/include -I/usr/include/hdf5/serial/ -Ibuild/src -I./src -I./include -I/usr/local/cuda/include -c -o build/src/caffe/test/test_image_data_layer.o\n",
            "\n",
            "/usr/bin/g++ src/caffe/test/test_inner_product_layer.cpp -pthread -fPIC -DNDEBUG -O2 -I/usr/local/include/python2.7 -I/usr/local/lib/python2.7/dist-packages/numpy/core/include -I/usr/local/include -I/usr/include/hdf5/serial/ -Ibuild/src -I./src -I./include -I/usr/local/cuda/include -c -o build/src/caffe/test/test_inner_product_layer.o\n",
            "\n",
            "/usr/bin/g++ src/caffe/test/test_lrn_layer.cpp -pthread -fPIC -DNDEBUG -O2 -I/usr/local/include/python2.7 -I/usr/local/lib/python2.7/dist-packages/numpy/core/include -I/usr/local/include -I/usr/include/hdf5/serial/ -Ibuild/src -I./src -I./include -I/usr/local/cuda/include -c -o build/src/caffe/test/test_lrn_layer.o\n",
            "\n",
            "/usr/bin/g++ src/caffe/test/test_math_functions.cpp -pthread -fPIC -DNDEBUG -O2 -I/usr/local/include/python2.7 -I/usr/local/lib/python2.7/dist-packages/numpy/core/include -I/usr/local/include -I/usr/include/hdf5/serial/ -Ibuild/src -I./src -I./include -I/usr/local/cuda/include -c -o build/src/caffe/test/test_math_functions.o\n",
            "\n",
            "/usr/bin/g++ src/caffe/test/test_memory_data_layer.cpp -pthread -fPIC -DNDEBUG -O2 -I/usr/local/include/python2.7 -I/usr/local/lib/python2.7/dist-packages/numpy/core/include -I/usr/local/include -I/usr/include/hdf5/serial/ -Ibuild/src -I./src -I./include -I/usr/local/cuda/include -c -o build/src/caffe/test/test_memory_data_layer.o\n",
            "\n",
            "/usr/bin/g++ src/caffe/test/test_multinomial_logistic_loss_layer.cpp -pthread -fPIC -DNDEBUG -O2 -I/usr/local/include/python2.7 -I/usr/local/lib/python2.7/dist-packages/numpy/core/include -I/usr/local/include -I/usr/include/hdf5/serial/ -Ibuild/src -I./src -I./include -I/usr/local/cuda/include -c -o build/src/caffe/test/test_multinomial_logistic_loss_layer.o\n",
            "\n",
            "/usr/bin/g++ src/caffe/test/test_net.cpp -pthread -fPIC -DNDEBUG -O2 -I/usr/local/include/python2.7 -I/usr/local/lib/python2.7/dist-packages/numpy/core/include -I/usr/local/include -I/usr/include/hdf5/serial/ -Ibuild/src -I./src -I./include -I/usr/local/cuda/include -c -o build/src/caffe/test/test_net.o\n",
            "\n",
            "/usr/bin/g++ src/caffe/test/test_neuron_layer.cpp -pthread -fPIC -DNDEBUG -O2 -I/usr/local/include/python2.7 -I/usr/local/lib/python2.7/dist-packages/numpy/core/include -I/usr/local/include -I/usr/include/hdf5/serial/ -Ibuild/src -I./src -I./include -I/usr/local/cuda/include -c -o build/src/caffe/test/test_neuron_layer.o\n",
            "\n",
            "/usr/bin/g++ src/caffe/test/test_platform.cpp -pthread -fPIC -DNDEBUG -O2 -I/usr/local/include/python2.7 -I/usr/local/lib/python2.7/dist-packages/numpy/core/include -I/usr/local/include -I/usr/include/hdf5/serial/ -Ibuild/src -I./src -I./include -I/usr/local/cuda/include -c -o build/src/caffe/test/test_platform.o\n",
            "\n",
            "/usr/bin/g++ src/caffe/test/test_pooling_layer.cpp -pthread -fPIC -DNDEBUG -O2 -I/usr/local/include/python2.7 -I/usr/local/lib/python2.7/dist-packages/numpy/core/include -I/usr/local/include -I/usr/include/hdf5/serial/ -Ibuild/src -I./src -I./include -I/usr/local/cuda/include -c -o build/src/caffe/test/test_pooling_layer.o\n",
            "\n",
            "/usr/bin/g++ src/caffe/test/test_power_layer.cpp -pthread -fPIC -DNDEBUG -O2 -I/usr/local/include/python2.7 -I/usr/local/lib/python2.7/dist-packages/numpy/core/include -I/usr/local/include -I/usr/include/hdf5/serial/ -Ibuild/src -I./src -I./include -I/usr/local/cuda/include -c -o build/src/caffe/test/test_power_layer.o\n",
            "\n",
            "/usr/bin/g++ src/caffe/test/test_protobuf.cpp -pthread -fPIC -DNDEBUG -O2 -I/usr/local/include/python2.7 -I/usr/local/lib/python2.7/dist-packages/numpy/core/include -I/usr/local/include -I/usr/include/hdf5/serial/ -Ibuild/src -I./src -I./include -I/usr/local/cuda/include -c -o build/src/caffe/test/test_protobuf.o\n",
            "\n",
            "/usr/bin/g++ src/caffe/test/test_random_number_generator.cpp -pthread -fPIC -DNDEBUG -O2 -I/usr/local/include/python2.7 -I/usr/local/lib/python2.7/dist-packages/numpy/core/include -I/usr/local/include -I/usr/include/hdf5/serial/ -Ibuild/src -I./src -I./include -I/usr/local/cuda/include -c -o build/src/caffe/test/test_random_number_generator.o\n",
            "\n",
            "/usr/bin/g++ src/caffe/test/test_sigmoid_cross_entropy_loss_layer.cpp -pthread -fPIC -DNDEBUG -O2 -I/usr/local/include/python2.7 -I/usr/local/lib/python2.7/dist-packages/numpy/core/include -I/usr/local/include -I/usr/include/hdf5/serial/ -Ibuild/src -I./src -I./include -I/usr/local/cuda/include -c -o build/src/caffe/test/test_sigmoid_cross_entropy_loss_layer.o\n",
            "\n",
            "/usr/bin/g++ src/caffe/test/test_softmax_layer.cpp -pthread -fPIC -DNDEBUG -O2 -I/usr/local/include/python2.7 -I/usr/local/lib/python2.7/dist-packages/numpy/core/include -I/usr/local/include -I/usr/include/hdf5/serial/ -Ibuild/src -I./src -I./include -I/usr/local/cuda/include -c -o build/src/caffe/test/test_softmax_layer.o\n",
            "\n",
            "/usr/bin/g++ src/caffe/test/test_softmax_with_loss_layer.cpp -pthread -fPIC -DNDEBUG -O2 -I/usr/local/include/python2.7 -I/usr/local/lib/python2.7/dist-packages/numpy/core/include -I/usr/local/include -I/usr/include/hdf5/serial/ -Ibuild/src -I./src -I./include -I/usr/local/cuda/include -c -o build/src/caffe/test/test_softmax_with_loss_layer.o\n",
            "\n",
            "/usr/bin/g++ src/caffe/test/test_split_layer.cpp -pthread -fPIC -DNDEBUG -O2 -I/usr/local/include/python2.7 -I/usr/local/lib/python2.7/dist-packages/numpy/core/include -I/usr/local/include -I/usr/include/hdf5/serial/ -Ibuild/src -I./src -I./include -I/usr/local/cuda/include -c -o build/src/caffe/test/test_split_layer.o\n",
            "\n",
            "/usr/bin/g++ src/caffe/test/test_stochastic_pooling.cpp -pthread -fPIC -DNDEBUG -O2 -I/usr/local/include/python2.7 -I/usr/local/lib/python2.7/dist-packages/numpy/core/include -I/usr/local/include -I/usr/include/hdf5/serial/ -Ibuild/src -I./src -I./include -I/usr/local/cuda/include -c -o build/src/caffe/test/test_stochastic_pooling.o\n",
            "\n",
            "/usr/bin/g++ src/caffe/test/test_syncedmem.cpp -pthread -fPIC -DNDEBUG -O2 -I/usr/local/include/python2.7 -I/usr/local/lib/python2.7/dist-packages/numpy/core/include -I/usr/local/include -I/usr/include/hdf5/serial/ -Ibuild/src -I./src -I./include -I/usr/local/cuda/include -c -o build/src/caffe/test/test_syncedmem.o\n",
            "\n",
            "/usr/bin/g++ src/caffe/test/test_tanh_layer.cpp -pthread -fPIC -DNDEBUG -O2 -I/usr/local/include/python2.7 -I/usr/local/lib/python2.7/dist-packages/numpy/core/include -I/usr/local/include -I/usr/include/hdf5/serial/ -Ibuild/src -I./src -I./include -I/usr/local/cuda/include -c -o build/src/caffe/test/test_tanh_layer.o\n",
            "\n",
            "/usr/bin/g++ src/caffe/test/test_upgrade_proto.cpp -pthread -fPIC -DNDEBUG -O2 -I/usr/local/include/python2.7 -I/usr/local/lib/python2.7/dist-packages/numpy/core/include -I/usr/local/include -I/usr/include/hdf5/serial/ -Ibuild/src -I./src -I./include -I/usr/local/cuda/include -c -o build/src/caffe/test/test_upgrade_proto.o\n",
            "\n",
            "/usr/bin/g++ src/caffe/test/test_util_blas.cpp -pthread -fPIC -DNDEBUG -O2 -I/usr/local/include/python2.7 -I/usr/local/lib/python2.7/dist-packages/numpy/core/include -I/usr/local/include -I/usr/include/hdf5/serial/ -Ibuild/src -I./src -I./include -I/usr/local/cuda/include -c -o build/src/caffe/test/test_util_blas.o\n",
            "\n",
            "/usr/bin/g++ src/gtest/gtest-all.cpp -pthread -fPIC -DNDEBUG -O2 -I/usr/local/include/python2.7 -I/usr/local/lib/python2.7/dist-packages/numpy/core/include -I/usr/local/include -I/usr/include/hdf5/serial/ -Ibuild/src -I./src -I./include -I/usr/local/cuda/include -c -o build/src/gtest/gtest-all.o\n",
            "\n",
            "/usr/bin/g++ src/caffe/test/test_caffe_main.cpp build/src/caffe/test/test_benchmark.o build/src/caffe/test/test_blob.o build/src/caffe/test/test_common.o build/src/caffe/test/test_concat_layer.o build/src/caffe/test/test_convolution3d_layer.o build/src/caffe/test/test_convolution_layer.o build/src/caffe/test/test_data_layer.o build/src/caffe/test/test_deconvolution3d_layer.o build/src/caffe/test/test_eltwise_product_layer.o build/src/caffe/test/test_euclidean_loss_layer.o build/src/caffe/test/test_filler.o build/src/caffe/test/test_flatten_layer.o build/src/caffe/test/test_hinge_loss_layer.o build/src/caffe/test/test_im2col_layer.o build/src/caffe/test/test_image_data_layer.o build/src/caffe/test/test_inner_product_layer.o build/src/caffe/test/test_lrn_layer.o build/src/caffe/test/test_math_functions.o build/src/caffe/test/test_memory_data_layer.o build/src/caffe/test/test_multinomial_logistic_loss_layer.o build/src/caffe/test/test_net.o build/src/caffe/test/test_neuron_layer.o build/src/caffe/test/test_platform.o build/src/caffe/test/test_pooling_layer.o build/src/caffe/test/test_power_layer.o build/src/caffe/test/test_protobuf.o build/src/caffe/test/test_random_number_generator.o build/src/caffe/test/test_sigmoid_cross_entropy_loss_layer.o build/src/caffe/test/test_softmax_layer.o build/src/caffe/test/test_softmax_with_loss_layer.o build/src/caffe/test/test_split_layer.o build/src/caffe/test/test_stochastic_pooling.o build/src/caffe/test/test_syncedmem.o build/src/caffe/test/test_tanh_layer.o build/src/caffe/test/test_upgrade_proto.o build/src/caffe/test/test_util_blas.o build/src/gtest/gtest-all.o build/lib/libcaffe.a \\\n",
            "\t-o build/test/test_all.testbin -pthread -fPIC -DNDEBUG -O2 -I/usr/local/include/python2.7 -I/usr/local/lib/python2.7/dist-packages/numpy/core/include -I/usr/local/include -I/usr/include/hdf5/serial/ -Ibuild/src -I./src -I./include -I/usr/local/cuda/include -L/usr/local/lib -L/usr/local/lib -L/usr/lib -L/usr/lib/x86_64-linux-gnu/hdf5/serial -L/usr/local/cuda/lib64 -L/usr/local/cuda/lib -lcudart -lcublas -lcurand -lpthread -lglog -lprotobuf -lleveldb -lsnappy -lboost_system -lhdf5_hl -lhdf5 -lopencv_core -lopencv_highgui -lopencv_imgproc -lopencv_imgcodecs -lopencv_videoio -lcblas -latlas -Wall\n",
            "build/src/caffe/test/test_data_layer.o: In function `caffe::DataLayerTest<float>::DataLayerTest()':\n",
            "test_data_layer.cpp:(.text._ZN5caffe13DataLayerTestIfEC2Ev[_ZN5caffe13DataLayerTestIfEC5Ev]+0x1d): warning: the use of `tmpnam' is dangerous, better use `mkstemp'\n",
            "\n",
            "/usr/bin/g++ src/caffe/test/test_caffe_main.cpp build/src/caffe/test/test_benchmark.o build/src/gtest/gtest-all.o build/lib/libcaffe.a \\\n",
            "\t-o build/test/test_benchmark.testbin -pthread -fPIC -DNDEBUG -O2 -I/usr/local/include/python2.7 -I/usr/local/lib/python2.7/dist-packages/numpy/core/include -I/usr/local/include -I/usr/include/hdf5/serial/ -Ibuild/src -I./src -I./include -I/usr/local/cuda/include -L/usr/local/lib -L/usr/local/lib -L/usr/lib -L/usr/lib/x86_64-linux-gnu/hdf5/serial -L/usr/local/cuda/lib64 -L/usr/local/cuda/lib -lcudart -lcublas -lcurand -lpthread -lglog -lprotobuf -lleveldb -lsnappy -lboost_system -lhdf5_hl -lhdf5 -lopencv_core -lopencv_highgui -lopencv_imgproc -lopencv_imgcodecs -lopencv_videoio -lcblas -latlas -Wall\n",
            "\n",
            "/usr/bin/g++ src/caffe/test/test_caffe_main.cpp build/src/caffe/test/test_blob.o build/src/gtest/gtest-all.o build/lib/libcaffe.a \\\n",
            "\t-o build/test/test_blob.testbin -pthread -fPIC -DNDEBUG -O2 -I/usr/local/include/python2.7 -I/usr/local/lib/python2.7/dist-packages/numpy/core/include -I/usr/local/include -I/usr/include/hdf5/serial/ -Ibuild/src -I./src -I./include -I/usr/local/cuda/include -L/usr/local/lib -L/usr/local/lib -L/usr/lib -L/usr/lib/x86_64-linux-gnu/hdf5/serial -L/usr/local/cuda/lib64 -L/usr/local/cuda/lib -lcudart -lcublas -lcurand -lpthread -lglog -lprotobuf -lleveldb -lsnappy -lboost_system -lhdf5_hl -lhdf5 -lopencv_core -lopencv_highgui -lopencv_imgproc -lopencv_imgcodecs -lopencv_videoio -lcblas -latlas -Wall\n",
            "\n",
            "/usr/bin/g++ src/caffe/test/test_caffe_main.cpp build/src/caffe/test/test_common.o build/src/gtest/gtest-all.o build/lib/libcaffe.a \\\n",
            "\t-o build/test/test_common.testbin -pthread -fPIC -DNDEBUG -O2 -I/usr/local/include/python2.7 -I/usr/local/lib/python2.7/dist-packages/numpy/core/include -I/usr/local/include -I/usr/include/hdf5/serial/ -Ibuild/src -I./src -I./include -I/usr/local/cuda/include -L/usr/local/lib -L/usr/local/lib -L/usr/lib -L/usr/lib/x86_64-linux-gnu/hdf5/serial -L/usr/local/cuda/lib64 -L/usr/local/cuda/lib -lcudart -lcublas -lcurand -lpthread -lglog -lprotobuf -lleveldb -lsnappy -lboost_system -lhdf5_hl -lhdf5 -lopencv_core -lopencv_highgui -lopencv_imgproc -lopencv_imgcodecs -lopencv_videoio -lcblas -latlas -Wall\n",
            "\n",
            "/usr/bin/g++ src/caffe/test/test_caffe_main.cpp build/src/caffe/test/test_concat_layer.o build/src/gtest/gtest-all.o build/lib/libcaffe.a \\\n",
            "\t-o build/test/test_concat_layer.testbin -pthread -fPIC -DNDEBUG -O2 -I/usr/local/include/python2.7 -I/usr/local/lib/python2.7/dist-packages/numpy/core/include -I/usr/local/include -I/usr/include/hdf5/serial/ -Ibuild/src -I./src -I./include -I/usr/local/cuda/include -L/usr/local/lib -L/usr/local/lib -L/usr/lib -L/usr/lib/x86_64-linux-gnu/hdf5/serial -L/usr/local/cuda/lib64 -L/usr/local/cuda/lib -lcudart -lcublas -lcurand -lpthread -lglog -lprotobuf -lleveldb -lsnappy -lboost_system -lhdf5_hl -lhdf5 -lopencv_core -lopencv_highgui -lopencv_imgproc -lopencv_imgcodecs -lopencv_videoio -lcblas -latlas -Wall\n",
            "\n",
            "/usr/bin/g++ src/caffe/test/test_caffe_main.cpp build/src/caffe/test/test_convolution3d_layer.o build/src/gtest/gtest-all.o build/lib/libcaffe.a \\\n",
            "\t-o build/test/test_convolution3d_layer.testbin -pthread -fPIC -DNDEBUG -O2 -I/usr/local/include/python2.7 -I/usr/local/lib/python2.7/dist-packages/numpy/core/include -I/usr/local/include -I/usr/include/hdf5/serial/ -Ibuild/src -I./src -I./include -I/usr/local/cuda/include -L/usr/local/lib -L/usr/local/lib -L/usr/lib -L/usr/lib/x86_64-linux-gnu/hdf5/serial -L/usr/local/cuda/lib64 -L/usr/local/cuda/lib -lcudart -lcublas -lcurand -lpthread -lglog -lprotobuf -lleveldb -lsnappy -lboost_system -lhdf5_hl -lhdf5 -lopencv_core -lopencv_highgui -lopencv_imgproc -lopencv_imgcodecs -lopencv_videoio -lcblas -latlas -Wall\n",
            "\n",
            "/usr/bin/g++ src/caffe/test/test_caffe_main.cpp build/src/caffe/test/test_convolution_layer.o build/src/gtest/gtest-all.o build/lib/libcaffe.a \\\n",
            "\t-o build/test/test_convolution_layer.testbin -pthread -fPIC -DNDEBUG -O2 -I/usr/local/include/python2.7 -I/usr/local/lib/python2.7/dist-packages/numpy/core/include -I/usr/local/include -I/usr/include/hdf5/serial/ -Ibuild/src -I./src -I./include -I/usr/local/cuda/include -L/usr/local/lib -L/usr/local/lib -L/usr/lib -L/usr/lib/x86_64-linux-gnu/hdf5/serial -L/usr/local/cuda/lib64 -L/usr/local/cuda/lib -lcudart -lcublas -lcurand -lpthread -lglog -lprotobuf -lleveldb -lsnappy -lboost_system -lhdf5_hl -lhdf5 -lopencv_core -lopencv_highgui -lopencv_imgproc -lopencv_imgcodecs -lopencv_videoio -lcblas -latlas -Wall\n",
            "\n",
            "/usr/bin/g++ src/caffe/test/test_caffe_main.cpp build/src/caffe/test/test_data_layer.o build/src/gtest/gtest-all.o build/lib/libcaffe.a \\\n",
            "\t-o build/test/test_data_layer.testbin -pthread -fPIC -DNDEBUG -O2 -I/usr/local/include/python2.7 -I/usr/local/lib/python2.7/dist-packages/numpy/core/include -I/usr/local/include -I/usr/include/hdf5/serial/ -Ibuild/src -I./src -I./include -I/usr/local/cuda/include -L/usr/local/lib -L/usr/local/lib -L/usr/lib -L/usr/lib/x86_64-linux-gnu/hdf5/serial -L/usr/local/cuda/lib64 -L/usr/local/cuda/lib -lcudart -lcublas -lcurand -lpthread -lglog -lprotobuf -lleveldb -lsnappy -lboost_system -lhdf5_hl -lhdf5 -lopencv_core -lopencv_highgui -lopencv_imgproc -lopencv_imgcodecs -lopencv_videoio -lcblas -latlas -Wall\n",
            "build/src/caffe/test/test_data_layer.o: In function `caffe::DataLayerTest<float>::DataLayerTest()':\n",
            "test_data_layer.cpp:(.text._ZN5caffe13DataLayerTestIfEC2Ev[_ZN5caffe13DataLayerTestIfEC5Ev]+0x1d): warning: the use of `tmpnam' is dangerous, better use `mkstemp'\n",
            "\n",
            "/usr/bin/g++ src/caffe/test/test_caffe_main.cpp build/src/caffe/test/test_deconvolution3d_layer.o build/src/gtest/gtest-all.o build/lib/libcaffe.a \\\n",
            "\t-o build/test/test_deconvolution3d_layer.testbin -pthread -fPIC -DNDEBUG -O2 -I/usr/local/include/python2.7 -I/usr/local/lib/python2.7/dist-packages/numpy/core/include -I/usr/local/include -I/usr/include/hdf5/serial/ -Ibuild/src -I./src -I./include -I/usr/local/cuda/include -L/usr/local/lib -L/usr/local/lib -L/usr/lib -L/usr/lib/x86_64-linux-gnu/hdf5/serial -L/usr/local/cuda/lib64 -L/usr/local/cuda/lib -lcudart -lcublas -lcurand -lpthread -lglog -lprotobuf -lleveldb -lsnappy -lboost_system -lhdf5_hl -lhdf5 -lopencv_core -lopencv_highgui -lopencv_imgproc -lopencv_imgcodecs -lopencv_videoio -lcblas -latlas -Wall\n",
            "\n",
            "/usr/bin/g++ src/caffe/test/test_caffe_main.cpp build/src/caffe/test/test_eltwise_product_layer.o build/src/gtest/gtest-all.o build/lib/libcaffe.a \\\n",
            "\t-o build/test/test_eltwise_product_layer.testbin -pthread -fPIC -DNDEBUG -O2 -I/usr/local/include/python2.7 -I/usr/local/lib/python2.7/dist-packages/numpy/core/include -I/usr/local/include -I/usr/include/hdf5/serial/ -Ibuild/src -I./src -I./include -I/usr/local/cuda/include -L/usr/local/lib -L/usr/local/lib -L/usr/lib -L/usr/lib/x86_64-linux-gnu/hdf5/serial -L/usr/local/cuda/lib64 -L/usr/local/cuda/lib -lcudart -lcublas -lcurand -lpthread -lglog -lprotobuf -lleveldb -lsnappy -lboost_system -lhdf5_hl -lhdf5 -lopencv_core -lopencv_highgui -lopencv_imgproc -lopencv_imgcodecs -lopencv_videoio -lcblas -latlas -Wall\n",
            "\n",
            "/usr/bin/g++ src/caffe/test/test_caffe_main.cpp build/src/caffe/test/test_euclidean_loss_layer.o build/src/gtest/gtest-all.o build/lib/libcaffe.a \\\n",
            "\t-o build/test/test_euclidean_loss_layer.testbin -pthread -fPIC -DNDEBUG -O2 -I/usr/local/include/python2.7 -I/usr/local/lib/python2.7/dist-packages/numpy/core/include -I/usr/local/include -I/usr/include/hdf5/serial/ -Ibuild/src -I./src -I./include -I/usr/local/cuda/include -L/usr/local/lib -L/usr/local/lib -L/usr/lib -L/usr/lib/x86_64-linux-gnu/hdf5/serial -L/usr/local/cuda/lib64 -L/usr/local/cuda/lib -lcudart -lcublas -lcurand -lpthread -lglog -lprotobuf -lleveldb -lsnappy -lboost_system -lhdf5_hl -lhdf5 -lopencv_core -lopencv_highgui -lopencv_imgproc -lopencv_imgcodecs -lopencv_videoio -lcblas -latlas -Wall\n",
            "\n",
            "/usr/bin/g++ src/caffe/test/test_caffe_main.cpp build/src/caffe/test/test_filler.o build/src/gtest/gtest-all.o build/lib/libcaffe.a \\\n",
            "\t-o build/test/test_filler.testbin -pthread -fPIC -DNDEBUG -O2 -I/usr/local/include/python2.7 -I/usr/local/lib/python2.7/dist-packages/numpy/core/include -I/usr/local/include -I/usr/include/hdf5/serial/ -Ibuild/src -I./src -I./include -I/usr/local/cuda/include -L/usr/local/lib -L/usr/local/lib -L/usr/lib -L/usr/lib/x86_64-linux-gnu/hdf5/serial -L/usr/local/cuda/lib64 -L/usr/local/cuda/lib -lcudart -lcublas -lcurand -lpthread -lglog -lprotobuf -lleveldb -lsnappy -lboost_system -lhdf5_hl -lhdf5 -lopencv_core -lopencv_highgui -lopencv_imgproc -lopencv_imgcodecs -lopencv_videoio -lcblas -latlas -Wall\n",
            "\n",
            "/usr/bin/g++ src/caffe/test/test_caffe_main.cpp build/src/caffe/test/test_flatten_layer.o build/src/gtest/gtest-all.o build/lib/libcaffe.a \\\n",
            "\t-o build/test/test_flatten_layer.testbin -pthread -fPIC -DNDEBUG -O2 -I/usr/local/include/python2.7 -I/usr/local/lib/python2.7/dist-packages/numpy/core/include -I/usr/local/include -I/usr/include/hdf5/serial/ -Ibuild/src -I./src -I./include -I/usr/local/cuda/include -L/usr/local/lib -L/usr/local/lib -L/usr/lib -L/usr/lib/x86_64-linux-gnu/hdf5/serial -L/usr/local/cuda/lib64 -L/usr/local/cuda/lib -lcudart -lcublas -lcurand -lpthread -lglog -lprotobuf -lleveldb -lsnappy -lboost_system -lhdf5_hl -lhdf5 -lopencv_core -lopencv_highgui -lopencv_imgproc -lopencv_imgcodecs -lopencv_videoio -lcblas -latlas -Wall\n",
            "\n",
            "/usr/bin/g++ src/caffe/test/test_caffe_main.cpp build/src/caffe/test/test_hinge_loss_layer.o build/src/gtest/gtest-all.o build/lib/libcaffe.a \\\n",
            "\t-o build/test/test_hinge_loss_layer.testbin -pthread -fPIC -DNDEBUG -O2 -I/usr/local/include/python2.7 -I/usr/local/lib/python2.7/dist-packages/numpy/core/include -I/usr/local/include -I/usr/include/hdf5/serial/ -Ibuild/src -I./src -I./include -I/usr/local/cuda/include -L/usr/local/lib -L/usr/local/lib -L/usr/lib -L/usr/lib/x86_64-linux-gnu/hdf5/serial -L/usr/local/cuda/lib64 -L/usr/local/cuda/lib -lcudart -lcublas -lcurand -lpthread -lglog -lprotobuf -lleveldb -lsnappy -lboost_system -lhdf5_hl -lhdf5 -lopencv_core -lopencv_highgui -lopencv_imgproc -lopencv_imgcodecs -lopencv_videoio -lcblas -latlas -Wall\n",
            "\n",
            "/usr/bin/g++ src/caffe/test/test_caffe_main.cpp build/src/caffe/test/test_im2col_layer.o build/src/gtest/gtest-all.o build/lib/libcaffe.a \\\n",
            "\t-o build/test/test_im2col_layer.testbin -pthread -fPIC -DNDEBUG -O2 -I/usr/local/include/python2.7 -I/usr/local/lib/python2.7/dist-packages/numpy/core/include -I/usr/local/include -I/usr/include/hdf5/serial/ -Ibuild/src -I./src -I./include -I/usr/local/cuda/include -L/usr/local/lib -L/usr/local/lib -L/usr/lib -L/usr/lib/x86_64-linux-gnu/hdf5/serial -L/usr/local/cuda/lib64 -L/usr/local/cuda/lib -lcudart -lcublas -lcurand -lpthread -lglog -lprotobuf -lleveldb -lsnappy -lboost_system -lhdf5_hl -lhdf5 -lopencv_core -lopencv_highgui -lopencv_imgproc -lopencv_imgcodecs -lopencv_videoio -lcblas -latlas -Wall\n",
            "\n",
            "/usr/bin/g++ src/caffe/test/test_caffe_main.cpp build/src/caffe/test/test_image_data_layer.o build/src/gtest/gtest-all.o build/lib/libcaffe.a \\\n",
            "\t-o build/test/test_image_data_layer.testbin -pthread -fPIC -DNDEBUG -O2 -I/usr/local/include/python2.7 -I/usr/local/lib/python2.7/dist-packages/numpy/core/include -I/usr/local/include -I/usr/include/hdf5/serial/ -Ibuild/src -I./src -I./include -I/usr/local/cuda/include -L/usr/local/lib -L/usr/local/lib -L/usr/lib -L/usr/lib/x86_64-linux-gnu/hdf5/serial -L/usr/local/cuda/lib64 -L/usr/local/cuda/lib -lcudart -lcublas -lcurand -lpthread -lglog -lprotobuf -lleveldb -lsnappy -lboost_system -lhdf5_hl -lhdf5 -lopencv_core -lopencv_highgui -lopencv_imgproc -lopencv_imgcodecs -lopencv_videoio -lcblas -latlas -Wall\n",
            "build/src/caffe/test/test_image_data_layer.o: In function `caffe::ImageDataLayerTest<double>::ImageDataLayerTest()':\n",
            "test_image_data_layer.cpp:(.text._ZN5caffe18ImageDataLayerTestIdEC2Ev[_ZN5caffe18ImageDataLayerTestIdEC5Ev]+0x24): warning: the use of `tmpnam' is dangerous, better use `mkstemp'\n",
            "\n",
            "/usr/bin/g++ src/caffe/test/test_caffe_main.cpp build/src/caffe/test/test_inner_product_layer.o build/src/gtest/gtest-all.o build/lib/libcaffe.a \\\n",
            "\t-o build/test/test_inner_product_layer.testbin -pthread -fPIC -DNDEBUG -O2 -I/usr/local/include/python2.7 -I/usr/local/lib/python2.7/dist-packages/numpy/core/include -I/usr/local/include -I/usr/include/hdf5/serial/ -Ibuild/src -I./src -I./include -I/usr/local/cuda/include -L/usr/local/lib -L/usr/local/lib -L/usr/lib -L/usr/lib/x86_64-linux-gnu/hdf5/serial -L/usr/local/cuda/lib64 -L/usr/local/cuda/lib -lcudart -lcublas -lcurand -lpthread -lglog -lprotobuf -lleveldb -lsnappy -lboost_system -lhdf5_hl -lhdf5 -lopencv_core -lopencv_highgui -lopencv_imgproc -lopencv_imgcodecs -lopencv_videoio -lcblas -latlas -Wall\n",
            "\n",
            "/usr/bin/g++ src/caffe/test/test_caffe_main.cpp build/src/caffe/test/test_lrn_layer.o build/src/gtest/gtest-all.o build/lib/libcaffe.a \\\n",
            "\t-o build/test/test_lrn_layer.testbin -pthread -fPIC -DNDEBUG -O2 -I/usr/local/include/python2.7 -I/usr/local/lib/python2.7/dist-packages/numpy/core/include -I/usr/local/include -I/usr/include/hdf5/serial/ -Ibuild/src -I./src -I./include -I/usr/local/cuda/include -L/usr/local/lib -L/usr/local/lib -L/usr/lib -L/usr/lib/x86_64-linux-gnu/hdf5/serial -L/usr/local/cuda/lib64 -L/usr/local/cuda/lib -lcudart -lcublas -lcurand -lpthread -lglog -lprotobuf -lleveldb -lsnappy -lboost_system -lhdf5_hl -lhdf5 -lopencv_core -lopencv_highgui -lopencv_imgproc -lopencv_imgcodecs -lopencv_videoio -lcblas -latlas -Wall\n",
            "\n",
            "/usr/bin/g++ src/caffe/test/test_caffe_main.cpp build/src/caffe/test/test_math_functions.o build/src/gtest/gtest-all.o build/lib/libcaffe.a \\\n",
            "\t-o build/test/test_math_functions.testbin -pthread -fPIC -DNDEBUG -O2 -I/usr/local/include/python2.7 -I/usr/local/lib/python2.7/dist-packages/numpy/core/include -I/usr/local/include -I/usr/include/hdf5/serial/ -Ibuild/src -I./src -I./include -I/usr/local/cuda/include -L/usr/local/lib -L/usr/local/lib -L/usr/lib -L/usr/lib/x86_64-linux-gnu/hdf5/serial -L/usr/local/cuda/lib64 -L/usr/local/cuda/lib -lcudart -lcublas -lcurand -lpthread -lglog -lprotobuf -lleveldb -lsnappy -lboost_system -lhdf5_hl -lhdf5 -lopencv_core -lopencv_highgui -lopencv_imgproc -lopencv_imgcodecs -lopencv_videoio -lcblas -latlas -Wall\n",
            "\n",
            "/usr/bin/g++ src/caffe/test/test_caffe_main.cpp build/src/caffe/test/test_memory_data_layer.o build/src/gtest/gtest-all.o build/lib/libcaffe.a \\\n",
            "\t-o build/test/test_memory_data_layer.testbin -pthread -fPIC -DNDEBUG -O2 -I/usr/local/include/python2.7 -I/usr/local/lib/python2.7/dist-packages/numpy/core/include -I/usr/local/include -I/usr/include/hdf5/serial/ -Ibuild/src -I./src -I./include -I/usr/local/cuda/include -L/usr/local/lib -L/usr/local/lib -L/usr/lib -L/usr/lib/x86_64-linux-gnu/hdf5/serial -L/usr/local/cuda/lib64 -L/usr/local/cuda/lib -lcudart -lcublas -lcurand -lpthread -lglog -lprotobuf -lleveldb -lsnappy -lboost_system -lhdf5_hl -lhdf5 -lopencv_core -lopencv_highgui -lopencv_imgproc -lopencv_imgcodecs -lopencv_videoio -lcblas -latlas -Wall\n",
            "\n",
            "/usr/bin/g++ src/caffe/test/test_caffe_main.cpp build/src/caffe/test/test_multinomial_logistic_loss_layer.o build/src/gtest/gtest-all.o build/lib/libcaffe.a \\\n",
            "\t-o build/test/test_multinomial_logistic_loss_layer.testbin -pthread -fPIC -DNDEBUG -O2 -I/usr/local/include/python2.7 -I/usr/local/lib/python2.7/dist-packages/numpy/core/include -I/usr/local/include -I/usr/include/hdf5/serial/ -Ibuild/src -I./src -I./include -I/usr/local/cuda/include -L/usr/local/lib -L/usr/local/lib -L/usr/lib -L/usr/lib/x86_64-linux-gnu/hdf5/serial -L/usr/local/cuda/lib64 -L/usr/local/cuda/lib -lcudart -lcublas -lcurand -lpthread -lglog -lprotobuf -lleveldb -lsnappy -lboost_system -lhdf5_hl -lhdf5 -lopencv_core -lopencv_highgui -lopencv_imgproc -lopencv_imgcodecs -lopencv_videoio -lcblas -latlas -Wall\n",
            "\n",
            "/usr/bin/g++ src/caffe/test/test_caffe_main.cpp build/src/caffe/test/test_net.o build/src/gtest/gtest-all.o build/lib/libcaffe.a \\\n",
            "\t-o build/test/test_net.testbin -pthread -fPIC -DNDEBUG -O2 -I/usr/local/include/python2.7 -I/usr/local/lib/python2.7/dist-packages/numpy/core/include -I/usr/local/include -I/usr/include/hdf5/serial/ -Ibuild/src -I./src -I./include -I/usr/local/cuda/include -L/usr/local/lib -L/usr/local/lib -L/usr/lib -L/usr/lib/x86_64-linux-gnu/hdf5/serial -L/usr/local/cuda/lib64 -L/usr/local/cuda/lib -lcudart -lcublas -lcurand -lpthread -lglog -lprotobuf -lleveldb -lsnappy -lboost_system -lhdf5_hl -lhdf5 -lopencv_core -lopencv_highgui -lopencv_imgproc -lopencv_imgcodecs -lopencv_videoio -lcblas -latlas -Wall\n",
            "build/src/caffe/test/test_net.o: In function `caffe::NetTest<float>::SetUp()':\n",
            "test_net.cpp:(.text._ZN5caffe7NetTestIfE5SetUpEv[_ZN5caffe7NetTestIfE5SetUpEv]+0x2f): warning: the use of `tmpnam' is dangerous, better use `mkstemp'\n",
            "\n",
            "/usr/bin/g++ src/caffe/test/test_caffe_main.cpp build/src/caffe/test/test_neuron_layer.o build/src/gtest/gtest-all.o build/lib/libcaffe.a \\\n",
            "\t-o build/test/test_neuron_layer.testbin -pthread -fPIC -DNDEBUG -O2 -I/usr/local/include/python2.7 -I/usr/local/lib/python2.7/dist-packages/numpy/core/include -I/usr/local/include -I/usr/include/hdf5/serial/ -Ibuild/src -I./src -I./include -I/usr/local/cuda/include -L/usr/local/lib -L/usr/local/lib -L/usr/lib -L/usr/lib/x86_64-linux-gnu/hdf5/serial -L/usr/local/cuda/lib64 -L/usr/local/cuda/lib -lcudart -lcublas -lcurand -lpthread -lglog -lprotobuf -lleveldb -lsnappy -lboost_system -lhdf5_hl -lhdf5 -lopencv_core -lopencv_highgui -lopencv_imgproc -lopencv_imgcodecs -lopencv_videoio -lcblas -latlas -Wall\n",
            "\n",
            "/usr/bin/g++ src/caffe/test/test_caffe_main.cpp build/src/caffe/test/test_platform.o build/src/gtest/gtest-all.o build/lib/libcaffe.a \\\n",
            "\t-o build/test/test_platform.testbin -pthread -fPIC -DNDEBUG -O2 -I/usr/local/include/python2.7 -I/usr/local/lib/python2.7/dist-packages/numpy/core/include -I/usr/local/include -I/usr/include/hdf5/serial/ -Ibuild/src -I./src -I./include -I/usr/local/cuda/include -L/usr/local/lib -L/usr/local/lib -L/usr/lib -L/usr/lib/x86_64-linux-gnu/hdf5/serial -L/usr/local/cuda/lib64 -L/usr/local/cuda/lib -lcudart -lcublas -lcurand -lpthread -lglog -lprotobuf -lleveldb -lsnappy -lboost_system -lhdf5_hl -lhdf5 -lopencv_core -lopencv_highgui -lopencv_imgproc -lopencv_imgcodecs -lopencv_videoio -lcblas -latlas -Wall\n",
            "\n",
            "/usr/bin/g++ src/caffe/test/test_caffe_main.cpp build/src/caffe/test/test_pooling_layer.o build/src/gtest/gtest-all.o build/lib/libcaffe.a \\\n",
            "\t-o build/test/test_pooling_layer.testbin -pthread -fPIC -DNDEBUG -O2 -I/usr/local/include/python2.7 -I/usr/local/lib/python2.7/dist-packages/numpy/core/include -I/usr/local/include -I/usr/include/hdf5/serial/ -Ibuild/src -I./src -I./include -I/usr/local/cuda/include -L/usr/local/lib -L/usr/local/lib -L/usr/lib -L/usr/lib/x86_64-linux-gnu/hdf5/serial -L/usr/local/cuda/lib64 -L/usr/local/cuda/lib -lcudart -lcublas -lcurand -lpthread -lglog -lprotobuf -lleveldb -lsnappy -lboost_system -lhdf5_hl -lhdf5 -lopencv_core -lopencv_highgui -lopencv_imgproc -lopencv_imgcodecs -lopencv_videoio -lcblas -latlas -Wall\n",
            "\n",
            "/usr/bin/g++ src/caffe/test/test_caffe_main.cpp build/src/caffe/test/test_power_layer.o build/src/gtest/gtest-all.o build/lib/libcaffe.a \\\n",
            "\t-o build/test/test_power_layer.testbin -pthread -fPIC -DNDEBUG -O2 -I/usr/local/include/python2.7 -I/usr/local/lib/python2.7/dist-packages/numpy/core/include -I/usr/local/include -I/usr/include/hdf5/serial/ -Ibuild/src -I./src -I./include -I/usr/local/cuda/include -L/usr/local/lib -L/usr/local/lib -L/usr/lib -L/usr/lib/x86_64-linux-gnu/hdf5/serial -L/usr/local/cuda/lib64 -L/usr/local/cuda/lib -lcudart -lcublas -lcurand -lpthread -lglog -lprotobuf -lleveldb -lsnappy -lboost_system -lhdf5_hl -lhdf5 -lopencv_core -lopencv_highgui -lopencv_imgproc -lopencv_imgcodecs -lopencv_videoio -lcblas -latlas -Wall\n",
            "\n",
            "/usr/bin/g++ src/caffe/test/test_caffe_main.cpp build/src/caffe/test/test_protobuf.o build/src/gtest/gtest-all.o build/lib/libcaffe.a \\\n",
            "\t-o build/test/test_protobuf.testbin -pthread -fPIC -DNDEBUG -O2 -I/usr/local/include/python2.7 -I/usr/local/lib/python2.7/dist-packages/numpy/core/include -I/usr/local/include -I/usr/include/hdf5/serial/ -Ibuild/src -I./src -I./include -I/usr/local/cuda/include -L/usr/local/lib -L/usr/local/lib -L/usr/lib -L/usr/lib/x86_64-linux-gnu/hdf5/serial -L/usr/local/cuda/lib64 -L/usr/local/cuda/lib -lcudart -lcublas -lcurand -lpthread -lglog -lprotobuf -lleveldb -lsnappy -lboost_system -lhdf5_hl -lhdf5 -lopencv_core -lopencv_highgui -lopencv_imgproc -lopencv_imgcodecs -lopencv_videoio -lcblas -latlas -Wall\n",
            "\n",
            "/usr/bin/g++ src/caffe/test/test_caffe_main.cpp build/src/caffe/test/test_random_number_generator.o build/src/gtest/gtest-all.o build/lib/libcaffe.a \\\n",
            "\t-o build/test/test_random_number_generator.testbin -pthread -fPIC -DNDEBUG -O2 -I/usr/local/include/python2.7 -I/usr/local/lib/python2.7/dist-packages/numpy/core/include -I/usr/local/include -I/usr/include/hdf5/serial/ -Ibuild/src -I./src -I./include -I/usr/local/cuda/include -L/usr/local/lib -L/usr/local/lib -L/usr/lib -L/usr/lib/x86_64-linux-gnu/hdf5/serial -L/usr/local/cuda/lib64 -L/usr/local/cuda/lib -lcudart -lcublas -lcurand -lpthread -lglog -lprotobuf -lleveldb -lsnappy -lboost_system -lhdf5_hl -lhdf5 -lopencv_core -lopencv_highgui -lopencv_imgproc -lopencv_imgcodecs -lopencv_videoio -lcblas -latlas -Wall\n",
            "\n",
            "/usr/bin/g++ src/caffe/test/test_caffe_main.cpp build/src/caffe/test/test_sigmoid_cross_entropy_loss_layer.o build/src/gtest/gtest-all.o build/lib/libcaffe.a \\\n",
            "\t-o build/test/test_sigmoid_cross_entropy_loss_layer.testbin -pthread -fPIC -DNDEBUG -O2 -I/usr/local/include/python2.7 -I/usr/local/lib/python2.7/dist-packages/numpy/core/include -I/usr/local/include -I/usr/include/hdf5/serial/ -Ibuild/src -I./src -I./include -I/usr/local/cuda/include -L/usr/local/lib -L/usr/local/lib -L/usr/lib -L/usr/lib/x86_64-linux-gnu/hdf5/serial -L/usr/local/cuda/lib64 -L/usr/local/cuda/lib -lcudart -lcublas -lcurand -lpthread -lglog -lprotobuf -lleveldb -lsnappy -lboost_system -lhdf5_hl -lhdf5 -lopencv_core -lopencv_highgui -lopencv_imgproc -lopencv_imgcodecs -lopencv_videoio -lcblas -latlas -Wall\n",
            "\n",
            "/usr/bin/g++ src/caffe/test/test_caffe_main.cpp build/src/caffe/test/test_softmax_layer.o build/src/gtest/gtest-all.o build/lib/libcaffe.a \\\n",
            "\t-o build/test/test_softmax_layer.testbin -pthread -fPIC -DNDEBUG -O2 -I/usr/local/include/python2.7 -I/usr/local/lib/python2.7/dist-packages/numpy/core/include -I/usr/local/include -I/usr/include/hdf5/serial/ -Ibuild/src -I./src -I./include -I/usr/local/cuda/include -L/usr/local/lib -L/usr/local/lib -L/usr/lib -L/usr/lib/x86_64-linux-gnu/hdf5/serial -L/usr/local/cuda/lib64 -L/usr/local/cuda/lib -lcudart -lcublas -lcurand -lpthread -lglog -lprotobuf -lleveldb -lsnappy -lboost_system -lhdf5_hl -lhdf5 -lopencv_core -lopencv_highgui -lopencv_imgproc -lopencv_imgcodecs -lopencv_videoio -lcblas -latlas -Wall\n",
            "\n",
            "/usr/bin/g++ src/caffe/test/test_caffe_main.cpp build/src/caffe/test/test_softmax_with_loss_layer.o build/src/gtest/gtest-all.o build/lib/libcaffe.a \\\n",
            "\t-o build/test/test_softmax_with_loss_layer.testbin -pthread -fPIC -DNDEBUG -O2 -I/usr/local/include/python2.7 -I/usr/local/lib/python2.7/dist-packages/numpy/core/include -I/usr/local/include -I/usr/include/hdf5/serial/ -Ibuild/src -I./src -I./include -I/usr/local/cuda/include -L/usr/local/lib -L/usr/local/lib -L/usr/lib -L/usr/lib/x86_64-linux-gnu/hdf5/serial -L/usr/local/cuda/lib64 -L/usr/local/cuda/lib -lcudart -lcublas -lcurand -lpthread -lglog -lprotobuf -lleveldb -lsnappy -lboost_system -lhdf5_hl -lhdf5 -lopencv_core -lopencv_highgui -lopencv_imgproc -lopencv_imgcodecs -lopencv_videoio -lcblas -latlas -Wall\n",
            "\n",
            "/usr/bin/g++ src/caffe/test/test_caffe_main.cpp build/src/caffe/test/test_split_layer.o build/src/gtest/gtest-all.o build/lib/libcaffe.a \\\n",
            "\t-o build/test/test_split_layer.testbin -pthread -fPIC -DNDEBUG -O2 -I/usr/local/include/python2.7 -I/usr/local/lib/python2.7/dist-packages/numpy/core/include -I/usr/local/include -I/usr/include/hdf5/serial/ -Ibuild/src -I./src -I./include -I/usr/local/cuda/include -L/usr/local/lib -L/usr/local/lib -L/usr/lib -L/usr/lib/x86_64-linux-gnu/hdf5/serial -L/usr/local/cuda/lib64 -L/usr/local/cuda/lib -lcudart -lcublas -lcurand -lpthread -lglog -lprotobuf -lleveldb -lsnappy -lboost_system -lhdf5_hl -lhdf5 -lopencv_core -lopencv_highgui -lopencv_imgproc -lopencv_imgcodecs -lopencv_videoio -lcblas -latlas -Wall\n",
            "\n",
            "/usr/bin/g++ src/caffe/test/test_caffe_main.cpp build/src/caffe/test/test_stochastic_pooling.o build/src/gtest/gtest-all.o build/lib/libcaffe.a \\\n",
            "\t-o build/test/test_stochastic_pooling.testbin -pthread -fPIC -DNDEBUG -O2 -I/usr/local/include/python2.7 -I/usr/local/lib/python2.7/dist-packages/numpy/core/include -I/usr/local/include -I/usr/include/hdf5/serial/ -Ibuild/src -I./src -I./include -I/usr/local/cuda/include -L/usr/local/lib -L/usr/local/lib -L/usr/lib -L/usr/lib/x86_64-linux-gnu/hdf5/serial -L/usr/local/cuda/lib64 -L/usr/local/cuda/lib -lcudart -lcublas -lcurand -lpthread -lglog -lprotobuf -lleveldb -lsnappy -lboost_system -lhdf5_hl -lhdf5 -lopencv_core -lopencv_highgui -lopencv_imgproc -lopencv_imgcodecs -lopencv_videoio -lcblas -latlas -Wall\n",
            "\n",
            "/usr/bin/g++ src/caffe/test/test_caffe_main.cpp build/src/caffe/test/test_syncedmem.o build/src/gtest/gtest-all.o build/lib/libcaffe.a \\\n",
            "\t-o build/test/test_syncedmem.testbin -pthread -fPIC -DNDEBUG -O2 -I/usr/local/include/python2.7 -I/usr/local/lib/python2.7/dist-packages/numpy/core/include -I/usr/local/include -I/usr/include/hdf5/serial/ -Ibuild/src -I./src -I./include -I/usr/local/cuda/include -L/usr/local/lib -L/usr/local/lib -L/usr/lib -L/usr/lib/x86_64-linux-gnu/hdf5/serial -L/usr/local/cuda/lib64 -L/usr/local/cuda/lib -lcudart -lcublas -lcurand -lpthread -lglog -lprotobuf -lleveldb -lsnappy -lboost_system -lhdf5_hl -lhdf5 -lopencv_core -lopencv_highgui -lopencv_imgproc -lopencv_imgcodecs -lopencv_videoio -lcblas -latlas -Wall\n",
            "\n",
            "/usr/bin/g++ src/caffe/test/test_caffe_main.cpp build/src/caffe/test/test_tanh_layer.o build/src/gtest/gtest-all.o build/lib/libcaffe.a \\\n",
            "\t-o build/test/test_tanh_layer.testbin -pthread -fPIC -DNDEBUG -O2 -I/usr/local/include/python2.7 -I/usr/local/lib/python2.7/dist-packages/numpy/core/include -I/usr/local/include -I/usr/include/hdf5/serial/ -Ibuild/src -I./src -I./include -I/usr/local/cuda/include -L/usr/local/lib -L/usr/local/lib -L/usr/lib -L/usr/lib/x86_64-linux-gnu/hdf5/serial -L/usr/local/cuda/lib64 -L/usr/local/cuda/lib -lcudart -lcublas -lcurand -lpthread -lglog -lprotobuf -lleveldb -lsnappy -lboost_system -lhdf5_hl -lhdf5 -lopencv_core -lopencv_highgui -lopencv_imgproc -lopencv_imgcodecs -lopencv_videoio -lcblas -latlas -Wall\n",
            "\n",
            "/usr/bin/g++ src/caffe/test/test_caffe_main.cpp build/src/caffe/test/test_upgrade_proto.o build/src/gtest/gtest-all.o build/lib/libcaffe.a \\\n",
            "\t-o build/test/test_upgrade_proto.testbin -pthread -fPIC -DNDEBUG -O2 -I/usr/local/include/python2.7 -I/usr/local/lib/python2.7/dist-packages/numpy/core/include -I/usr/local/include -I/usr/include/hdf5/serial/ -Ibuild/src -I./src -I./include -I/usr/local/cuda/include -L/usr/local/lib -L/usr/local/lib -L/usr/lib -L/usr/lib/x86_64-linux-gnu/hdf5/serial -L/usr/local/cuda/lib64 -L/usr/local/cuda/lib -lcudart -lcublas -lcurand -lpthread -lglog -lprotobuf -lleveldb -lsnappy -lboost_system -lhdf5_hl -lhdf5 -lopencv_core -lopencv_highgui -lopencv_imgproc -lopencv_imgcodecs -lopencv_videoio -lcblas -latlas -Wall\n",
            "\n",
            "/usr/bin/g++ src/caffe/test/test_caffe_main.cpp build/src/caffe/test/test_util_blas.o build/src/gtest/gtest-all.o build/lib/libcaffe.a \\\n",
            "\t-o build/test/test_util_blas.testbin -pthread -fPIC -DNDEBUG -O2 -I/usr/local/include/python2.7 -I/usr/local/lib/python2.7/dist-packages/numpy/core/include -I/usr/local/include -I/usr/include/hdf5/serial/ -Ibuild/src -I./src -I./include -I/usr/local/cuda/include -L/usr/local/lib -L/usr/local/lib -L/usr/lib -L/usr/lib/x86_64-linux-gnu/hdf5/serial -L/usr/local/cuda/lib64 -L/usr/local/cuda/lib -lcudart -lcublas -lcurand -lpthread -lglog -lprotobuf -lleveldb -lsnappy -lboost_system -lhdf5_hl -lhdf5 -lopencv_core -lopencv_highgui -lopencv_imgproc -lopencv_imgcodecs -lopencv_videoio -lcblas -latlas -Wall\n",
            "\n"
          ],
          "name": "stdout"
        }
      ]
    },
    {
      "cell_type": "code",
      "metadata": {
        "colab_type": "code",
        "id": "egr2btF9gXsu",
        "colab": {}
      },
      "source": [
        "# Opcional\n",
        "\n",
        "#%cd /content/gdrive/My\\ Drive/C3D/C3D-v1.0/\n",
        "#!make runtest"
      ],
      "execution_count": 0,
      "outputs": []
    },
    {
      "cell_type": "code",
      "metadata": {
        "colab_type": "code",
        "id": "5bjTjk1_ObVH",
        "outputId": "0d5b3c96-4f06-4fa9-d146-0cd308c007b2",
        "colab": {
          "base_uri": "https://localhost:8080/",
          "height": 53
        }
      },
      "source": [
        "!cat /proc/driver/nvidia/version"
      ],
      "execution_count": 21,
      "outputs": [
        {
          "output_type": "stream",
          "text": [
            "NVRM version: NVIDIA UNIX x86_64 Kernel Module  418.67  Sat Apr  6 03:07:24 CDT 2019\n",
            "GCC version:  Selected multilib: .;@m64\n"
          ],
          "name": "stdout"
        }
      ]
    },
    {
      "cell_type": "markdown",
      "metadata": {
        "colab_type": "text",
        "id": "Jcop15DAROsm"
      },
      "source": [
        "### Vamos baixar os Pesos"
      ]
    },
    {
      "cell_type": "code",
      "metadata": {
        "colab_type": "code",
        "id": "nGe6y0K008jQ",
        "outputId": "9b8f2d3f-d2ee-4a75-ca97-e3a7ae3783b5",
        "colab": {
          "base_uri": "https://localhost:8080/",
          "height": 487
        }
      },
      "source": [
        "%cd /content/gdrive/My\\ Drive/C3D/C3D-v1.0/examples/c3d_feature_extraction/\n",
        "!wget -O conv3d_deepnetA_sport1m_iter_1900000 https://www.dropbox.com/s/vr8ckp0pxgbldhs/conv3d_deepnetA_sport1m_iter_1900000?dl=0"
      ],
      "execution_count": 22,
      "outputs": [
        {
          "output_type": "stream",
          "text": [
            "/content/gdrive/My Drive/C3D/C3D-v1.0/examples/c3d_feature_extraction\n",
            "--2020-04-26 22:49:25--  https://www.dropbox.com/s/vr8ckp0pxgbldhs/conv3d_deepnetA_sport1m_iter_1900000?dl=0\n",
            "Resolving www.dropbox.com (www.dropbox.com)... 162.125.65.1, 2620:100:6021:1::a27d:4101\n",
            "Connecting to www.dropbox.com (www.dropbox.com)|162.125.65.1|:443... connected.\n",
            "HTTP request sent, awaiting response... 301 Moved Permanently\n",
            "Location: /s/raw/vr8ckp0pxgbldhs/conv3d_deepnetA_sport1m_iter_1900000 [following]\n",
            "--2020-04-26 22:49:25--  https://www.dropbox.com/s/raw/vr8ckp0pxgbldhs/conv3d_deepnetA_sport1m_iter_1900000\n",
            "Reusing existing connection to www.dropbox.com:443.\n",
            "HTTP request sent, awaiting response... 302 Found\n",
            "Location: https://uc3daa118881baacd3a2d0330ca3.dl.dropboxusercontent.com/cd/0/inline/A2mMYcwgifszgwaS5bVcyM8JhBhpdzOpTbxPIiJFOY6q-a-dxDcUEP7xR8-NQCSLKcj2RtnaWFPHATdvnxNGeObYow1dFeWGdgeZa8YwgVaeKA/file# [following]\n",
            "--2020-04-26 22:49:26--  https://uc3daa118881baacd3a2d0330ca3.dl.dropboxusercontent.com/cd/0/inline/A2mMYcwgifszgwaS5bVcyM8JhBhpdzOpTbxPIiJFOY6q-a-dxDcUEP7xR8-NQCSLKcj2RtnaWFPHATdvnxNGeObYow1dFeWGdgeZa8YwgVaeKA/file\n",
            "Resolving uc3daa118881baacd3a2d0330ca3.dl.dropboxusercontent.com (uc3daa118881baacd3a2d0330ca3.dl.dropboxusercontent.com)... 162.125.65.6, 2620:100:6021:6::a27d:4106\n",
            "Connecting to uc3daa118881baacd3a2d0330ca3.dl.dropboxusercontent.com (uc3daa118881baacd3a2d0330ca3.dl.dropboxusercontent.com)|162.125.65.6|:443... connected.\n",
            "HTTP request sent, awaiting response... 302 FOUND\n",
            "Location: /cd/0/inline2/A2ktb2sG2Uxu4aUJIVDIQOmY6BPtzrhVyykzkfKdYlRy7h1O3bbFLL93qVt0YHG_LTrVHLE2beyC1WDkWib9a0dv1X160HyGz8mCwBZRurm2D356TeffcQA1mYmLzMGoNzw3Y0DDPVSIo3g5BKcNd8FzP_wXnAIJDtgvNf-VDBH_ib02n2z-MOx42PE35jrOL-OY67O0GWIzF1ufSANSju6DNMAPhSZ92H30v2I3cxuv7QRPK4r7BwKrLSBPj8rUpajYdy5ikQnqtakv43pW9VZSxJ_sP2wkcGV-U3ujvmN_AWrBGrc7MaxHGWMvfdaBiOgKPa3ff2UlXBsOSvPP-WmV/file [following]\n",
            "--2020-04-26 22:49:27--  https://uc3daa118881baacd3a2d0330ca3.dl.dropboxusercontent.com/cd/0/inline2/A2ktb2sG2Uxu4aUJIVDIQOmY6BPtzrhVyykzkfKdYlRy7h1O3bbFLL93qVt0YHG_LTrVHLE2beyC1WDkWib9a0dv1X160HyGz8mCwBZRurm2D356TeffcQA1mYmLzMGoNzw3Y0DDPVSIo3g5BKcNd8FzP_wXnAIJDtgvNf-VDBH_ib02n2z-MOx42PE35jrOL-OY67O0GWIzF1ufSANSju6DNMAPhSZ92H30v2I3cxuv7QRPK4r7BwKrLSBPj8rUpajYdy5ikQnqtakv43pW9VZSxJ_sP2wkcGV-U3ujvmN_AWrBGrc7MaxHGWMvfdaBiOgKPa3ff2UlXBsOSvPP-WmV/file\n",
            "Reusing existing connection to uc3daa118881baacd3a2d0330ca3.dl.dropboxusercontent.com:443.\n",
            "HTTP request sent, awaiting response... 200 OK\n",
            "Length: 319966293 (305M) [application/octet-stream]\n",
            "Saving to: ‘conv3d_deepnetA_sport1m_iter_1900000’\n",
            "\n",
            "conv3d_deepnetA_spo 100%[===================>] 305.14M  44.0MB/s    in 6.8s    \n",
            "\n",
            "2020-04-26 22:49:34 (44.7 MB/s) - ‘conv3d_deepnetA_sport1m_iter_1900000’ saved [319966293/319966293]\n",
            "\n"
          ],
          "name": "stdout"
        }
      ]
    },
    {
      "cell_type": "markdown",
      "metadata": {
        "id": "RPDQlCcjbZeV",
        "colab_type": "text"
      },
      "source": [
        "Caso dê certo, as últimas linhas da saída esperada devem ser semelhantes a:\n",
        "\n",
        "`HTTP request sent, awaiting response... 200 OK`\n",
        "`Length: 319966293 (305M) [application/octet-stream]`\n",
        "`Saving to: ‘conv3d_deepnetA_sport1m_iter_1900000’`\n",
        "\n",
        "`conv3d_deepnetA_spo 100%[===================>] 305.14M  45.7MB/s    in 6.8s` \n",
        "\n",
        "`2020-04-26 16:55:31 (44.8 MB/s) - ‘conv3d_deepnetA_sport1m_iter_1900000’ saved [319966293/319966293]`"
      ]
    },
    {
      "cell_type": "markdown",
      "metadata": {
        "colab_type": "text",
        "id": "FnPbd2ZIwtk8"
      },
      "source": [
        "# Extract feature, check output folder in c3d_sport1m_feature_extraction_video.sh \n",
        "\n",
        "Teste de extração de características C3D com os vídeos e arquivos in/output usados de exemplo e já disponíveis.\n",
        "\n",
        "\n"
      ]
    },
    {
      "cell_type": "code",
      "metadata": {
        "colab_type": "code",
        "id": "CZc3vtYhhO-b",
        "outputId": "9f39597c-78ce-49c0-c6ad-86492f54c8f9",
        "colab": {
          "base_uri": "https://localhost:8080/",
          "height": 1000
        }
      },
      "source": [
        "# extract feature\n",
        "%cd /content/gdrive/My\\ Drive/C3D/C3D-v1.0/examples/c3d_feature_extraction\n",
        "!bash c3d_sport1m_feature_extraction_video.sh"
      ],
      "execution_count": 23,
      "outputs": [
        {
          "output_type": "stream",
          "text": [
            "/content/gdrive/My Drive/C3D/C3D-v1.0/examples/c3d_feature_extraction\n",
            "WARNING: Logging before InitGoogleLogging() is written to STDERR\n",
            "E0426 22:49:55.788264 11631 extract_image_features.cpp:64] Using GPU #0\n",
            "I0426 22:49:55.791014 11631 net.cpp:76] Creating Layer data\n",
            "I0426 22:49:55.791036 11631 net.cpp:112] data -> data\n",
            "I0426 22:49:55.791049 11631 net.cpp:112] data -> label\n",
            "I0426 22:49:55.791213 11631 video_data_layer.cpp:283] Opening file prototxt/input_list_video.txt\n",
            "I0426 22:49:55.791877 11631 video_data_layer.cpp:317] A total of 16 video chunks.\n",
            "I0426 22:49:55.945551 11631 video_data_layer.cpp:365] output data size: 50,3,16,112,112\n",
            "I0426 22:49:55.945580 11631 video_data_layer.cpp:387] Loading mean file from sport1m_train16_128_mean.binaryproto\n",
            "I0426 22:49:56.019903 11631 net.cpp:127] Top shape: 50 3 16 112 112 (30105600)\n",
            "I0426 22:49:56.019942 11631 net.cpp:127] Top shape: 50 1 1 1 1 (50)\n",
            "I0426 22:49:56.019950 11631 net.cpp:159] data does not need backward computation.\n",
            "I0426 22:49:56.019994 11631 net.cpp:76] Creating Layer conv1a\n",
            "I0426 22:49:56.020002 11631 net.cpp:86] conv1a <- data\n",
            "I0426 22:49:56.020011 11631 net.cpp:112] conv1a -> conv1a\n",
            "I0426 22:49:56.020861 11631 net.cpp:127] Top shape: 50 64 16 112 112 (642252800)\n",
            "I0426 22:49:56.020889 11631 net.cpp:154] conv1a needs backward computation.\n",
            "I0426 22:49:56.020900 11631 net.cpp:76] Creating Layer relu1a\n",
            "I0426 22:49:56.020903 11631 net.cpp:86] relu1a <- conv1a\n",
            "I0426 22:49:56.020908 11631 net.cpp:100] relu1a -> conv1a (in-place)\n",
            "I0426 22:49:56.021195 11631 net.cpp:127] Top shape: 50 64 16 112 112 (642252800)\n",
            "I0426 22:49:56.021211 11631 net.cpp:154] relu1a needs backward computation.\n",
            "I0426 22:49:56.021222 11631 net.cpp:76] Creating Layer pool1\n",
            "I0426 22:49:56.021229 11631 net.cpp:86] pool1 <- conv1a\n",
            "I0426 22:49:56.021236 11631 net.cpp:112] pool1 -> pool1\n",
            "I0426 22:49:56.021291 11631 net.cpp:127] Top shape: 50 64 16 56 56 (160563200)\n",
            "I0426 22:49:56.021301 11631 net.cpp:154] pool1 needs backward computation.\n",
            "I0426 22:49:56.021311 11631 net.cpp:76] Creating Layer conv2a\n",
            "I0426 22:49:56.021317 11631 net.cpp:86] conv2a <- pool1\n",
            "I0426 22:49:56.021322 11631 net.cpp:112] conv2a -> conv2a\n",
            "I0426 22:49:56.026274 11631 net.cpp:127] Top shape: 50 128 16 56 56 (321126400)\n",
            "I0426 22:49:56.026299 11631 net.cpp:154] conv2a needs backward computation.\n",
            "I0426 22:49:56.026309 11631 net.cpp:76] Creating Layer relu2a\n",
            "I0426 22:49:56.026338 11631 net.cpp:86] relu2a <- conv2a\n",
            "I0426 22:49:56.026348 11631 net.cpp:100] relu2a -> conv2a (in-place)\n",
            "I0426 22:49:56.026358 11631 net.cpp:127] Top shape: 50 128 16 56 56 (321126400)\n",
            "I0426 22:49:56.026365 11631 net.cpp:154] relu2a needs backward computation.\n",
            "I0426 22:49:56.026391 11631 net.cpp:76] Creating Layer pool2\n",
            "I0426 22:49:56.026398 11631 net.cpp:86] pool2 <- conv2a\n",
            "I0426 22:49:56.026405 11631 net.cpp:112] pool2 -> pool2\n",
            "I0426 22:49:56.026424 11631 net.cpp:127] Top shape: 50 128 8 28 28 (40140800)\n",
            "I0426 22:49:56.026432 11631 net.cpp:154] pool2 needs backward computation.\n",
            "I0426 22:49:56.026444 11631 net.cpp:76] Creating Layer conv3a\n",
            "I0426 22:49:56.026451 11631 net.cpp:86] conv3a <- pool2\n",
            "I0426 22:49:56.026459 11631 net.cpp:112] conv3a -> conv3a\n",
            "I0426 22:49:56.040932 11631 net.cpp:127] Top shape: 50 256 8 28 28 (80281600)\n",
            "I0426 22:49:56.040975 11631 net.cpp:154] conv3a needs backward computation.\n",
            "I0426 22:49:56.040995 11631 net.cpp:76] Creating Layer relu3a\n",
            "I0426 22:49:56.041005 11631 net.cpp:86] relu3a <- conv3a\n",
            "I0426 22:49:56.041015 11631 net.cpp:100] relu3a -> conv3a (in-place)\n",
            "I0426 22:49:56.041024 11631 net.cpp:127] Top shape: 50 256 8 28 28 (80281600)\n",
            "I0426 22:49:56.041033 11631 net.cpp:154] relu3a needs backward computation.\n",
            "I0426 22:49:56.041044 11631 net.cpp:76] Creating Layer conv3b\n",
            "I0426 22:49:56.041052 11631 net.cpp:86] conv3b <- conv3a\n",
            "I0426 22:49:56.041061 11631 net.cpp:112] conv3b -> conv3b\n",
            "I0426 22:49:56.084108 11631 net.cpp:127] Top shape: 50 256 8 28 28 (80281600)\n",
            "I0426 22:49:56.084141 11631 net.cpp:154] conv3b needs backward computation.\n",
            "I0426 22:49:56.084154 11631 net.cpp:76] Creating Layer relu3b\n",
            "I0426 22:49:56.084163 11631 net.cpp:86] relu3b <- conv3b\n",
            "I0426 22:49:56.084173 11631 net.cpp:100] relu3b -> conv3b (in-place)\n",
            "I0426 22:49:56.084182 11631 net.cpp:127] Top shape: 50 256 8 28 28 (80281600)\n",
            "I0426 22:49:56.084190 11631 net.cpp:154] relu3b needs backward computation.\n",
            "I0426 22:49:56.084198 11631 net.cpp:76] Creating Layer pool3\n",
            "I0426 22:49:56.084206 11631 net.cpp:86] pool3 <- conv3b\n",
            "I0426 22:49:56.084213 11631 net.cpp:112] pool3 -> pool3\n",
            "I0426 22:49:56.084224 11631 net.cpp:127] Top shape: 50 256 4 14 14 (10035200)\n",
            "I0426 22:49:56.084233 11631 net.cpp:154] pool3 needs backward computation.\n",
            "I0426 22:49:56.084244 11631 net.cpp:76] Creating Layer conv4a\n",
            "I0426 22:49:56.084251 11631 net.cpp:86] conv4a <- pool3\n",
            "I0426 22:49:56.084260 11631 net.cpp:112] conv4a -> conv4a\n",
            "I0426 22:49:56.147428 11631 net.cpp:127] Top shape: 50 512 4 14 14 (20070400)\n",
            "I0426 22:49:56.147500 11631 net.cpp:154] conv4a needs backward computation.\n",
            "I0426 22:49:56.147522 11631 net.cpp:76] Creating Layer relu4a\n",
            "I0426 22:49:56.147539 11631 net.cpp:86] relu4a <- conv4a\n",
            "I0426 22:49:56.147557 11631 net.cpp:100] relu4a -> conv4a (in-place)\n",
            "I0426 22:49:56.147588 11631 net.cpp:127] Top shape: 50 512 4 14 14 (20070400)\n",
            "I0426 22:49:56.147603 11631 net.cpp:154] relu4a needs backward computation.\n",
            "I0426 22:49:56.147622 11631 net.cpp:76] Creating Layer conv4b\n",
            "I0426 22:49:56.147639 11631 net.cpp:86] conv4b <- conv4a\n",
            "I0426 22:49:56.147652 11631 net.cpp:112] conv4b -> conv4b\n",
            "I0426 22:49:56.277091 11631 net.cpp:127] Top shape: 50 512 4 14 14 (20070400)\n",
            "I0426 22:49:56.277145 11631 net.cpp:154] conv4b needs backward computation.\n",
            "I0426 22:49:56.277179 11631 net.cpp:76] Creating Layer relu4b\n",
            "I0426 22:49:56.277192 11631 net.cpp:86] relu4b <- conv4b\n",
            "I0426 22:49:56.277206 11631 net.cpp:100] relu4b -> conv4b (in-place)\n",
            "I0426 22:49:56.277220 11631 net.cpp:127] Top shape: 50 512 4 14 14 (20070400)\n",
            "I0426 22:49:56.277235 11631 net.cpp:154] relu4b needs backward computation.\n",
            "I0426 22:49:56.277256 11631 net.cpp:76] Creating Layer pool4\n",
            "I0426 22:49:56.277266 11631 net.cpp:86] pool4 <- conv4b\n",
            "I0426 22:49:56.277276 11631 net.cpp:112] pool4 -> pool4\n",
            "I0426 22:49:56.277292 11631 net.cpp:127] Top shape: 50 512 2 7 7 (2508800)\n",
            "I0426 22:49:56.277303 11631 net.cpp:154] pool4 needs backward computation.\n",
            "I0426 22:49:56.277317 11631 net.cpp:76] Creating Layer conv5a\n",
            "I0426 22:49:56.277328 11631 net.cpp:86] conv5a <- pool4\n",
            "I0426 22:49:56.277338 11631 net.cpp:112] conv5a -> conv5a\n",
            "I0426 22:49:56.402411 11631 net.cpp:127] Top shape: 50 512 2 7 7 (2508800)\n",
            "I0426 22:49:56.402454 11631 net.cpp:154] conv5a needs backward computation.\n",
            "I0426 22:49:56.402469 11631 net.cpp:76] Creating Layer relu5a\n",
            "I0426 22:49:56.402480 11631 net.cpp:86] relu5a <- conv5a\n",
            "I0426 22:49:56.402493 11631 net.cpp:100] relu5a -> conv5a (in-place)\n",
            "I0426 22:49:56.402504 11631 net.cpp:127] Top shape: 50 512 2 7 7 (2508800)\n",
            "I0426 22:49:56.402514 11631 net.cpp:154] relu5a needs backward computation.\n",
            "I0426 22:49:56.402527 11631 net.cpp:76] Creating Layer conv5b\n",
            "I0426 22:49:56.402537 11631 net.cpp:86] conv5b <- conv5a\n",
            "I0426 22:49:56.402547 11631 net.cpp:112] conv5b -> conv5b\n",
            "I0426 22:49:56.526950 11631 net.cpp:127] Top shape: 50 512 2 7 7 (2508800)\n",
            "I0426 22:49:56.527014 11631 net.cpp:154] conv5b needs backward computation.\n",
            "I0426 22:49:56.527034 11631 net.cpp:76] Creating Layer relu5b\n",
            "I0426 22:49:56.527046 11631 net.cpp:86] relu5b <- conv5b\n",
            "I0426 22:49:56.527060 11631 net.cpp:100] relu5b -> conv5b (in-place)\n",
            "I0426 22:49:56.527074 11631 net.cpp:127] Top shape: 50 512 2 7 7 (2508800)\n",
            "I0426 22:49:56.527086 11631 net.cpp:154] relu5b needs backward computation.\n",
            "I0426 22:49:56.527101 11631 net.cpp:76] Creating Layer pool5\n",
            "I0426 22:49:56.527113 11631 net.cpp:86] pool5 <- conv5b\n",
            "I0426 22:49:56.527127 11631 net.cpp:112] pool5 -> pool5\n",
            "I0426 22:49:56.527140 11631 net.cpp:127] Top shape: 50 512 1 4 4 (409600)\n",
            "I0426 22:49:56.527153 11631 net.cpp:154] pool5 needs backward computation.\n",
            "I0426 22:49:56.527168 11631 net.cpp:76] Creating Layer fc6-1\n",
            "I0426 22:49:56.527179 11631 net.cpp:86] fc6-1 <- pool5\n",
            "I0426 22:49:56.527192 11631 net.cpp:112] fc6-1 -> fc6-1\n",
            "I0426 22:49:57.128250 11631 net.cpp:127] Top shape: 50 4096 1 1 1 (204800)\n",
            "I0426 22:49:57.128293 11631 net.cpp:154] fc6-1 needs backward computation.\n",
            "I0426 22:49:57.128309 11631 net.cpp:76] Creating Layer relu6\n",
            "I0426 22:49:57.128320 11631 net.cpp:86] relu6 <- fc6-1\n",
            "I0426 22:49:57.128332 11631 net.cpp:100] relu6 -> fc6-1 (in-place)\n",
            "I0426 22:49:57.128342 11631 net.cpp:127] Top shape: 50 4096 1 1 1 (204800)\n",
            "I0426 22:49:57.128351 11631 net.cpp:154] relu6 needs backward computation.\n",
            "I0426 22:49:57.128362 11631 net.cpp:76] Creating Layer drop6\n",
            "I0426 22:49:57.128373 11631 net.cpp:86] drop6 <- fc6-1\n",
            "I0426 22:49:57.128386 11631 net.cpp:100] drop6 -> fc6-1 (in-place)\n",
            "I0426 22:49:57.128396 11631 net.cpp:127] Top shape: 50 4096 1 1 1 (204800)\n",
            "I0426 22:49:57.128405 11631 net.cpp:154] drop6 needs backward computation.\n",
            "I0426 22:49:57.128419 11631 net.cpp:76] Creating Layer fc7-1\n",
            "I0426 22:49:57.128429 11631 net.cpp:86] fc7-1 <- fc6-1\n",
            "I0426 22:49:57.128439 11631 net.cpp:112] fc7-1 -> fc7-1\n",
            "I0426 22:49:57.424357 11631 net.cpp:127] Top shape: 50 4096 1 1 1 (204800)\n",
            "I0426 22:49:57.424401 11631 net.cpp:154] fc7-1 needs backward computation.\n",
            "I0426 22:49:57.424417 11631 net.cpp:76] Creating Layer relu7\n",
            "I0426 22:49:57.424429 11631 net.cpp:86] relu7 <- fc7-1\n",
            "I0426 22:49:57.424441 11631 net.cpp:100] relu7 -> fc7-1 (in-place)\n",
            "I0426 22:49:57.424453 11631 net.cpp:127] Top shape: 50 4096 1 1 1 (204800)\n",
            "I0426 22:49:57.424463 11631 net.cpp:154] relu7 needs backward computation.\n",
            "I0426 22:49:57.424479 11631 net.cpp:76] Creating Layer drop7\n",
            "I0426 22:49:57.424489 11631 net.cpp:86] drop7 <- fc7-1\n",
            "I0426 22:49:57.424499 11631 net.cpp:100] drop7 -> fc7-1 (in-place)\n",
            "I0426 22:49:57.424510 11631 net.cpp:127] Top shape: 50 4096 1 1 1 (204800)\n",
            "I0426 22:49:57.424520 11631 net.cpp:154] drop7 needs backward computation.\n",
            "I0426 22:49:57.424533 11631 net.cpp:76] Creating Layer fc8-1\n",
            "I0426 22:49:57.424544 11631 net.cpp:86] fc8-1 <- fc7-1\n",
            "I0426 22:49:57.424554 11631 net.cpp:112] fc8-1 -> fc8-1\n",
            "I0426 22:49:57.457700 11631 net.cpp:127] Top shape: 50 487 1 1 1 (24350)\n",
            "I0426 22:49:57.457758 11631 net.cpp:154] fc8-1 needs backward computation.\n",
            "I0426 22:49:57.457775 11631 net.cpp:76] Creating Layer prob\n",
            "I0426 22:49:57.457788 11631 net.cpp:86] prob <- fc8-1\n",
            "I0426 22:49:57.457800 11631 net.cpp:112] prob -> prob\n",
            "I0426 22:49:57.457815 11631 net.cpp:127] Top shape: 50 487 1 1 1 (24350)\n",
            "I0426 22:49:57.457826 11631 net.cpp:154] prob needs backward computation.\n",
            "I0426 22:49:57.457837 11631 net.cpp:76] Creating Layer accuracy\n",
            "I0426 22:49:57.457849 11631 net.cpp:86] accuracy <- prob\n",
            "I0426 22:49:57.457870 11631 net.cpp:86] accuracy <- label\n",
            "I0426 22:49:57.457880 11631 net.cpp:112] accuracy -> accuracy\n",
            "I0426 22:49:57.457891 11631 net.cpp:127] Top shape: 1 2 1 1 1 (2)\n",
            "I0426 22:49:57.457901 11631 net.cpp:154] accuracy needs backward computation.\n",
            "I0426 22:49:57.457911 11631 net.cpp:165] This network produces output accuracy\n",
            "I0426 22:49:57.457932 11631 net.cpp:183] Collecting Learning Rate and Weight Decay.\n",
            "I0426 22:49:57.457953 11631 net.cpp:176] Network initialization done.\n",
            "I0426 22:49:57.457978 11631 net.cpp:177] Memory required for Data 5653289408\n",
            "E0426 22:49:58.664016 11631 extract_image_features.cpp:81] Extracting features for 1 batches\n",
            "E0426 22:50:02.955734 11631 extract_image_features.cpp:117] Extracted features of 16 images.\n",
            "E0426 22:50:02.955767 11631 extract_image_features.cpp:121] Successfully extracted 16 features!\n"
          ],
          "name": "stdout"
        }
      ]
    },
    {
      "cell_type": "markdown",
      "metadata": {
        "id": "85b8qwSva5c5",
        "colab_type": "text"
      },
      "source": [
        "Caso dê certo, as últimas linhas da saída esperada são:\n",
        "\n",
        "`I0426 16:55:58.611307  5215 net.cpp:177] Memory required for Data 5653289408`\n",
        "\n",
        "`E0426 16:55:59.296900  5215 extract_image_features.cpp:81] Extracting features for 1 batches`\n",
        "\n",
        "`E0426 16:56:02.655942  5215 extract_image_features.cpp:117] Extracted features of 16 images.`\n",
        "\n",
        "`E0426 16:56:02.655977  5215 extract_image_features.cpp:121] Successfully extracted 16 features!`"
      ]
    },
    {
      "cell_type": "markdown",
      "metadata": {
        "colab_type": "text",
        "id": "NhwxYGuMd8OY"
      },
      "source": [
        "Visualizar os arquivos da camada fc6-1, fc7-1 e prob extraídos a cada 16 frames de cada vídeo."
      ]
    },
    {
      "cell_type": "code",
      "metadata": {
        "colab_type": "code",
        "id": "v6QYURzjA11q",
        "outputId": "aa440ca7-9eab-4858-99e0-847b12875f85",
        "colab": {
          "base_uri": "https://localhost:8080/",
          "height": 125
        }
      },
      "source": [
        "!ls /content/gdrive/My\\ Drive/C3D/C3D-v1.0/examples/c3d_feature_extraction/output/c3d/v_ApplyEyeMakeup_g01_c01/"
      ],
      "execution_count": 24,
      "outputs": [
        {
          "output_type": "stream",
          "text": [
            "000000.fc6-1  000032.fc6-1  000064.fc6-1  000096.fc6-1\t000128.fc6-1\n",
            "000000.fc7-1  000032.fc7-1  000064.fc7-1  000096.fc7-1\t000128.fc7-1\n",
            "000000.prob   000032.prob   000064.prob   000096.prob\t000128.prob\n",
            "000016.fc6-1  000048.fc6-1  000080.fc6-1  000112.fc6-1\t000144.fc6-1\n",
            "000016.fc7-1  000048.fc7-1  000080.fc7-1  000112.fc7-1\t000144.fc7-1\n",
            "000016.prob   000048.prob   000080.prob   000112.prob\t000144.prob\n"
          ],
          "name": "stdout"
        }
      ]
    },
    {
      "cell_type": "markdown",
      "metadata": {
        "id": "gqKK_fv0bIMc",
        "colab_type": "text"
      },
      "source": [
        "Caso dê certo, a saída esperada é:\n",
        "\n",
        "`000000.fc6-1  000032.fc6-1  000064.fc6-1  000096.fc6-1\t000128.fc6-1\n",
        "000000.fc7-1  000032.fc7-1  000064.fc7-1  000096.fc7-1\t000128.fc7-1\n",
        "000000.prob   000032.prob   000064.prob   000096.prob\t000128.prob\n",
        "000016.fc6-1  000048.fc6-1  000080.fc6-1  000112.fc6-1\t000144.fc6-1\n",
        "000016.fc7-1  000048.fc7-1  000080.fc7-1  000112.fc7-1\t000144.fc7-1\n",
        "000016.prob   000048.prob   000080.prob   000112.prob\t000144.prob`\n"
      ]
    },
    {
      "cell_type": "markdown",
      "metadata": {
        "colab_type": "text",
        "id": "S5zE8dfTeKXJ"
      },
      "source": [
        "# Gerando arquivos in/output para nosso próprio conjunto de dados."
      ]
    },
    {
      "cell_type": "markdown",
      "metadata": {
        "colab_type": "text",
        "id": "FpqSnEmGeW5O"
      },
      "source": [
        "Primeiro, remova o arquivo de script existente, casos exista."
      ]
    },
    {
      "cell_type": "code",
      "metadata": {
        "colab_type": "code",
        "id": "9Dx4hN4eBb6S",
        "outputId": "1c83e73d-cd5f-43aa-b4ec-d13f949e82ec",
        "colab": {
          "base_uri": "https://localhost:8080/",
          "height": 35
        }
      },
      "source": [
        "%cd /content/gdrive/My\\ Drive/C3D/C3D-v1.0/examples/c3d_feature_extraction/\n",
        "!rm -rf /content/gdrive/My\\ Drive/C3D/C3D-v1.0/examples/c3d_feature_extraction/generate_inout_file.py"
      ],
      "execution_count": 25,
      "outputs": [
        {
          "output_type": "stream",
          "text": [
            "/content/gdrive/My Drive/C3D/C3D-v1.0/examples/c3d_feature_extraction\n"
          ],
          "name": "stdout"
        }
      ]
    },
    {
      "cell_type": "markdown",
      "metadata": {
        "id": "_Lt94Z-2lZDK",
        "colab_type": "text"
      },
      "source": [
        "## Upload do dataset"
      ]
    },
    {
      "cell_type": "markdown",
      "metadata": {
        "id": "8wAGdQd5gJ2T",
        "colab_type": "text"
      },
      "source": [
        "Vá ao drive e faça upload dos vídeos na pasta `/content/gdrive/My\\ Drive/C3D/C3D-v1.0/examples/c3d_feature_extraction/input/`"
      ]
    },
    {
      "cell_type": "markdown",
      "metadata": {
        "id": "vOZQ8CgfgYGK",
        "colab_type": "text"
      },
      "source": [
        "Confira se os vídeos estão na pasta indicada:"
      ]
    },
    {
      "cell_type": "code",
      "metadata": {
        "colab_type": "code",
        "id": "hsqWnfMFNeJa",
        "outputId": "5c37a73f-5621-4db3-c824-3906cff251f9",
        "colab": {
          "base_uri": "https://localhost:8080/",
          "height": 107
        }
      },
      "source": [
        "!ls /content/gdrive/My\\ Drive/C3D/C3D-v1.0/examples/c3d_feature_extraction/input/"
      ],
      "execution_count": 26,
      "outputs": [
        {
          "output_type": "stream",
          "text": [
            "avi\t\t\tv_JumpRope_g22_c01.avi\t v_SalsaSpin_g04_c05.avi\n",
            "frm\t\t\tv_JumpRope_g23_c05.avi\t v_SalsaSpin_g10_c05.avi\n",
            "generate_inout_file.py\tv_Punch_g19_c03.avi\t v_SalsaSpin_g18_c02.avi\n",
            "v_JumpRope_g09_c06.avi\tv_Punch_g21_c05.avi\n",
            "v_JumpRope_g16_c02.avi\tv_SalsaSpin_g03_c06.avi\n"
          ],
          "name": "stdout"
        }
      ]
    },
    {
      "cell_type": "markdown",
      "metadata": {
        "colab_type": "text",
        "id": "zfIQCo6uOjDd"
      },
      "source": [
        "Mais exemplos"
      ]
    },
    {
      "cell_type": "code",
      "metadata": {
        "colab_type": "code",
        "id": "dUZS0LtTBHKZ",
        "colab": {}
      },
      "source": [
        "#!\\cp /content/gdrive/My\\ Drive/C3D/C3D-v1.0/examples/c3d_feature_extraction/Assault004_x264.mp4 /content/C3D/C3D-v1.0/examples/c3d_feature_extraction/input/Assault004_x264.mp4\n",
        "#!\\cp /content/gdrive/My\\ Drive/C3D/C3D-v1.0/examples/c3d_feature_extraction/Explosion008_x264.mp4 /content/C3D/C3D-v1.0/examples/c3d_feature_extraction/input/Explosion008_x264.mp4\n",
        "#!\\cp /content/gdrive/My\\ Drive/C3D/C3D-v1.0/examples/c3d_feature_extraction/Explosion009_x264.mp4 /content/C3D/C3D-v1.0/examples/c3d_feature_extraction/input/Explosion009_x264.mp4\n",
        "#!\\cp /content/gdrive/My\\ Drive/C3D/C3D-v1.0/examples/c3d_feature_extraction/Normal_Videos_006_x264.mp4 /content/C3D/C3D-v1.0/examples/c3d_feature_extraction/input/Normal_Videos_006_x264.mp4"
      ],
      "execution_count": 0,
      "outputs": []
    },
    {
      "cell_type": "markdown",
      "metadata": {
        "colab_type": "text",
        "id": "Llkk-IcXQ1TI"
      },
      "source": [
        "## Vamos gerar o arquivo com a lista dos inputs\n"
      ]
    },
    {
      "cell_type": "code",
      "metadata": {
        "colab_type": "code",
        "id": "38PWllSmCaXP",
        "outputId": "89fd686a-a44c-4baf-ae2d-859591526aa6",
        "colab": {
          "base_uri": "https://localhost:8080/",
          "height": 1000
        }
      },
      "source": [
        "!cat /content/gdrive/My\\ Drive/C3D/C3D-v1.0/examples/c3d_feature_extraction/input/generate_inout_file.py"
      ],
      "execution_count": 28,
      "outputs": [
        {
          "output_type": "stream",
          "text": [
            "# Copy of https://github.com/dolongbien/HumanBehaviorBKU/blob/master/C3D/generate_inout_file.py\n",
            "\n",
            "#cd /content/gdrive/My\\ Drive/C3D/C3D-v1.0/examples/c3d_feature_extraction/input/Traning_Normal_Part1_Video\n",
            "import os, os.path\n",
            "\n",
            "# import the necessary packages\n",
            "#from ..convenience import is_cv3\n",
            "\n",
            "import cv2\n",
            "import glob\n",
            "import math\n",
            "\n",
            "f_input = open('prototxt/input_list_video.txt', 'w')\n",
            "f_output = open('prototxt/output_list_video_prefix.txt','w')\n",
            "sh_out = open('c3d_sport1m_feature_extraction_video.sh', 'w')\n",
            "\n",
            "interval_v = 16\n",
            "\n",
            "cmd1 = 'time GLOG_logtosterr=1 ../../build/tools/extract_image_features.bin prototxt/c3d_sport1m_feature_extractor_video.prototxt conv3d_deepnetA_sport1m_iter_1900000'\n",
            "\n",
            "cmd2 = 'prototxt/output_list_video_prefix.txt fc6-1'\n",
            "\n",
            "gpu_id = 0\n",
            "batch_size = 50\n",
            "batch_num = 1\n",
            "max_batch_num = 1\n",
            "result = 0\n",
            "\n",
            "# read file path name in alphabet order\n",
            "file_list_v = sorted(glob.glob1(\"/content/gdrive/My Drive/C3D/C3D-v1.0/examples/c3d_feature_extraction/input\", \"*.avi\"))\n",
            "\n",
            "print('files.....')\n",
            "print(file_list_v)\n",
            "\n",
            "# each video, generate input/output file\n",
            "for index in range(len(file_list_v)):\n",
            "\t# file path of video\n",
            "\tloc = file_list_v[index]\n",
            "\tcap=cv2.VideoCapture('input/'+loc)\n",
            "\n",
            "\t# generate .sh file\n",
            "\tsh_out.write('rm -rf output/c3d/' + loc[:-4])\n",
            "\tsh_out.write('\\n')\n",
            "\tsh_out.write('mkdir -p output/c3d/' + loc[:-4])\n",
            "\tsh_out.write('\\n')\n",
            "\n",
            "\t# number of frames\n",
            "\ttotal_frames = int(cap.get(7))\n",
            "\tprint(index+1, total_frames, sep='\\tframes=')\n",
            "\n",
            "\t# calculate batch number\n",
            "\tcurr_batch_num = math.ceil(total_frames/batch_size)\n",
            "\tmax_batch_num = batch_num\n",
            "\tif (curr_batch_num >= max_batch_num):\n",
            "\t\tbatch_num = curr_batch_num\n",
            "\t\tprint('IF - ', batch_num)\n",
            "\telse:\n",
            "\t\tbatch_num = max_batch_num\n",
            "\t\tprint('ELSE - ', batch_num)\n",
            "\n",
            "\tresult = result + curr_batch_num\n",
            "\n",
            "\tprint('result ', result)\n",
            "\n",
            "\tcounter = 0\n",
            "\n",
            "\t# generate file\n",
            "\twhile (counter <= total_frames-interval_v):\n",
            "\t\tf_input.write('input/' + loc + ' ' + str(counter) + ' ' + str(0))\n",
            "\t\tf_input.write('\\n')\n",
            "\t\tf_output.write('output/c3d/' + loc[:-4] + '/' + str(counter).zfill(6) )\n",
            "\t\tf_output.write('\\n')\n",
            "\t\tcounter = counter + interval_v\n",
            "\n",
            "# write command to bash file\n",
            "parameter = ' ' + str(gpu_id) + ' ' + str(batch_size) + ' ' + str(result) + ' '\n",
            "sh_out.write(cmd1 + parameter + cmd2)\n",
            "\n",
            "print('-------- PARAMETER --------')\n",
            "print('GPU ID is', gpu_id)\n",
            "print('Batch size is', batch_size)\n",
            "print('Number of batch is', result)\n",
            "\n",
            "f_input.close()\n",
            "f_output.close()\n",
            "sh_out.close()\n"
          ],
          "name": "stdout"
        }
      ]
    },
    {
      "cell_type": "code",
      "metadata": {
        "colab_type": "code",
        "id": "ecnC9nvwQ24p",
        "colab": {}
      },
      "source": [
        "#! rm -rf /content/gdrive/My\\ Drive/C3D/C3D-v1.0/examples/c3d_feature_extraction/Assault004_x264.mp4"
      ],
      "execution_count": 0,
      "outputs": []
    },
    {
      "cell_type": "code",
      "metadata": {
        "colab_type": "code",
        "id": "_uoIgLjwCI1J",
        "colab": {}
      },
      "source": [
        "#!ls -la /content/gdrive/My\\ Drive/C3D/C3D-v1.0/examples/c3d_feature_extraction/input/generate_inout_file.py"
      ],
      "execution_count": 0,
      "outputs": []
    },
    {
      "cell_type": "markdown",
      "metadata": {
        "colab_type": "text",
        "id": "OCMtXclTgUHp"
      },
      "source": [
        "Gere os arquivos in/out para o modelo C3D"
      ]
    },
    {
      "cell_type": "code",
      "metadata": {
        "colab_type": "code",
        "id": "ZCcijNPPQ1Ay",
        "outputId": "3beef05e-924a-4155-88e3-d5efcf5877de",
        "colab": {
          "base_uri": "https://localhost:8080/",
          "height": 685
        }
      },
      "source": [
        "!python /content/gdrive/My\\ Drive/C3D/C3D-v1.0/examples/c3d_feature_extraction/input/generate_inout_file.py"
      ],
      "execution_count": 31,
      "outputs": [
        {
          "output_type": "stream",
          "text": [
            "files.....\n",
            "['v_JumpRope_g09_c06.avi', 'v_JumpRope_g16_c02.avi', 'v_JumpRope_g22_c01.avi', 'v_JumpRope_g23_c05.avi', 'v_Punch_g19_c03.avi', 'v_Punch_g21_c05.avi', 'v_SalsaSpin_g03_c06.avi', 'v_SalsaSpin_g04_c05.avi', 'v_SalsaSpin_g10_c05.avi', 'v_SalsaSpin_g18_c02.avi']\n",
            "1\tframes=491\n",
            "IF -  10\n",
            "result  10\n",
            "2\tframes=486\n",
            "IF -  10\n",
            "result  20\n",
            "3\tframes=198\n",
            "ELSE -  10\n",
            "result  24\n",
            "4\tframes=242\n",
            "ELSE -  10\n",
            "result  29\n",
            "5\tframes=300\n",
            "ELSE -  10\n",
            "result  35\n",
            "6\tframes=300\n",
            "ELSE -  10\n",
            "result  41\n",
            "7\tframes=168\n",
            "ELSE -  10\n",
            "result  45\n",
            "8\tframes=333\n",
            "ELSE -  10\n",
            "result  52\n",
            "9\tframes=168\n",
            "ELSE -  10\n",
            "result  56\n",
            "10\tframes=168\n",
            "ELSE -  10\n",
            "result  60\n",
            "-------- PARAMETER --------\n",
            "GPU ID is 0\n",
            "Batch size is 50\n",
            "Number of batch is 60\n"
          ],
          "name": "stdout"
        }
      ]
    },
    {
      "cell_type": "code",
      "metadata": {
        "colab_type": "code",
        "id": "mVM5PP0EmKjn",
        "outputId": "1a9a82c4-7ae2-4973-dd05-956ef13e65f4",
        "colab": {
          "base_uri": "https://localhost:8080/",
          "height": 1000
        }
      },
      "source": [
        "!cat /content/gdrive/My\\ Drive/C3D/C3D-v1.0/examples/c3d_feature_extraction/prototxt/input_list_video.txt"
      ],
      "execution_count": 32,
      "outputs": [
        {
          "output_type": "stream",
          "text": [
            "input/v_JumpRope_g09_c06.avi 0 0\n",
            "input/v_JumpRope_g09_c06.avi 16 0\n",
            "input/v_JumpRope_g09_c06.avi 32 0\n",
            "input/v_JumpRope_g09_c06.avi 48 0\n",
            "input/v_JumpRope_g09_c06.avi 64 0\n",
            "input/v_JumpRope_g09_c06.avi 80 0\n",
            "input/v_JumpRope_g09_c06.avi 96 0\n",
            "input/v_JumpRope_g09_c06.avi 112 0\n",
            "input/v_JumpRope_g09_c06.avi 128 0\n",
            "input/v_JumpRope_g09_c06.avi 144 0\n",
            "input/v_JumpRope_g09_c06.avi 160 0\n",
            "input/v_JumpRope_g09_c06.avi 176 0\n",
            "input/v_JumpRope_g09_c06.avi 192 0\n",
            "input/v_JumpRope_g09_c06.avi 208 0\n",
            "input/v_JumpRope_g09_c06.avi 224 0\n",
            "input/v_JumpRope_g09_c06.avi 240 0\n",
            "input/v_JumpRope_g09_c06.avi 256 0\n",
            "input/v_JumpRope_g09_c06.avi 272 0\n",
            "input/v_JumpRope_g09_c06.avi 288 0\n",
            "input/v_JumpRope_g09_c06.avi 304 0\n",
            "input/v_JumpRope_g09_c06.avi 320 0\n",
            "input/v_JumpRope_g09_c06.avi 336 0\n",
            "input/v_JumpRope_g09_c06.avi 352 0\n",
            "input/v_JumpRope_g09_c06.avi 368 0\n",
            "input/v_JumpRope_g09_c06.avi 384 0\n",
            "input/v_JumpRope_g09_c06.avi 400 0\n",
            "input/v_JumpRope_g09_c06.avi 416 0\n",
            "input/v_JumpRope_g09_c06.avi 432 0\n",
            "input/v_JumpRope_g09_c06.avi 448 0\n",
            "input/v_JumpRope_g09_c06.avi 464 0\n",
            "input/v_JumpRope_g16_c02.avi 0 0\n",
            "input/v_JumpRope_g16_c02.avi 16 0\n",
            "input/v_JumpRope_g16_c02.avi 32 0\n",
            "input/v_JumpRope_g16_c02.avi 48 0\n",
            "input/v_JumpRope_g16_c02.avi 64 0\n",
            "input/v_JumpRope_g16_c02.avi 80 0\n",
            "input/v_JumpRope_g16_c02.avi 96 0\n",
            "input/v_JumpRope_g16_c02.avi 112 0\n",
            "input/v_JumpRope_g16_c02.avi 128 0\n",
            "input/v_JumpRope_g16_c02.avi 144 0\n",
            "input/v_JumpRope_g16_c02.avi 160 0\n",
            "input/v_JumpRope_g16_c02.avi 176 0\n",
            "input/v_JumpRope_g16_c02.avi 192 0\n",
            "input/v_JumpRope_g16_c02.avi 208 0\n",
            "input/v_JumpRope_g16_c02.avi 224 0\n",
            "input/v_JumpRope_g16_c02.avi 240 0\n",
            "input/v_JumpRope_g16_c02.avi 256 0\n",
            "input/v_JumpRope_g16_c02.avi 272 0\n",
            "input/v_JumpRope_g16_c02.avi 288 0\n",
            "input/v_JumpRope_g16_c02.avi 304 0\n",
            "input/v_JumpRope_g16_c02.avi 320 0\n",
            "input/v_JumpRope_g16_c02.avi 336 0\n",
            "input/v_JumpRope_g16_c02.avi 352 0\n",
            "input/v_JumpRope_g16_c02.avi 368 0\n",
            "input/v_JumpRope_g16_c02.avi 384 0\n",
            "input/v_JumpRope_g16_c02.avi 400 0\n",
            "input/v_JumpRope_g16_c02.avi 416 0\n",
            "input/v_JumpRope_g16_c02.avi 432 0\n",
            "input/v_JumpRope_g16_c02.avi 448 0\n",
            "input/v_JumpRope_g16_c02.avi 464 0\n",
            "input/v_JumpRope_g22_c01.avi 0 0\n",
            "input/v_JumpRope_g22_c01.avi 16 0\n",
            "input/v_JumpRope_g22_c01.avi 32 0\n",
            "input/v_JumpRope_g22_c01.avi 48 0\n",
            "input/v_JumpRope_g22_c01.avi 64 0\n",
            "input/v_JumpRope_g22_c01.avi 80 0\n",
            "input/v_JumpRope_g22_c01.avi 96 0\n",
            "input/v_JumpRope_g22_c01.avi 112 0\n",
            "input/v_JumpRope_g22_c01.avi 128 0\n",
            "input/v_JumpRope_g22_c01.avi 144 0\n",
            "input/v_JumpRope_g22_c01.avi 160 0\n",
            "input/v_JumpRope_g22_c01.avi 176 0\n",
            "input/v_JumpRope_g23_c05.avi 0 0\n",
            "input/v_JumpRope_g23_c05.avi 16 0\n",
            "input/v_JumpRope_g23_c05.avi 32 0\n",
            "input/v_JumpRope_g23_c05.avi 48 0\n",
            "input/v_JumpRope_g23_c05.avi 64 0\n",
            "input/v_JumpRope_g23_c05.avi 80 0\n",
            "input/v_JumpRope_g23_c05.avi 96 0\n",
            "input/v_JumpRope_g23_c05.avi 112 0\n",
            "input/v_JumpRope_g23_c05.avi 128 0\n",
            "input/v_JumpRope_g23_c05.avi 144 0\n",
            "input/v_JumpRope_g23_c05.avi 160 0\n",
            "input/v_JumpRope_g23_c05.avi 176 0\n",
            "input/v_JumpRope_g23_c05.avi 192 0\n",
            "input/v_JumpRope_g23_c05.avi 208 0\n",
            "input/v_JumpRope_g23_c05.avi 224 0\n",
            "input/v_Punch_g19_c03.avi 0 0\n",
            "input/v_Punch_g19_c03.avi 16 0\n",
            "input/v_Punch_g19_c03.avi 32 0\n",
            "input/v_Punch_g19_c03.avi 48 0\n",
            "input/v_Punch_g19_c03.avi 64 0\n",
            "input/v_Punch_g19_c03.avi 80 0\n",
            "input/v_Punch_g19_c03.avi 96 0\n",
            "input/v_Punch_g19_c03.avi 112 0\n",
            "input/v_Punch_g19_c03.avi 128 0\n",
            "input/v_Punch_g19_c03.avi 144 0\n",
            "input/v_Punch_g19_c03.avi 160 0\n",
            "input/v_Punch_g19_c03.avi 176 0\n",
            "input/v_Punch_g19_c03.avi 192 0\n",
            "input/v_Punch_g19_c03.avi 208 0\n",
            "input/v_Punch_g19_c03.avi 224 0\n",
            "input/v_Punch_g19_c03.avi 240 0\n",
            "input/v_Punch_g19_c03.avi 256 0\n",
            "input/v_Punch_g19_c03.avi 272 0\n",
            "input/v_Punch_g21_c05.avi 0 0\n",
            "input/v_Punch_g21_c05.avi 16 0\n",
            "input/v_Punch_g21_c05.avi 32 0\n",
            "input/v_Punch_g21_c05.avi 48 0\n",
            "input/v_Punch_g21_c05.avi 64 0\n",
            "input/v_Punch_g21_c05.avi 80 0\n",
            "input/v_Punch_g21_c05.avi 96 0\n",
            "input/v_Punch_g21_c05.avi 112 0\n",
            "input/v_Punch_g21_c05.avi 128 0\n",
            "input/v_Punch_g21_c05.avi 144 0\n",
            "input/v_Punch_g21_c05.avi 160 0\n",
            "input/v_Punch_g21_c05.avi 176 0\n",
            "input/v_Punch_g21_c05.avi 192 0\n",
            "input/v_Punch_g21_c05.avi 208 0\n",
            "input/v_Punch_g21_c05.avi 224 0\n",
            "input/v_Punch_g21_c05.avi 240 0\n",
            "input/v_Punch_g21_c05.avi 256 0\n",
            "input/v_Punch_g21_c05.avi 272 0\n",
            "input/v_SalsaSpin_g03_c06.avi 0 0\n",
            "input/v_SalsaSpin_g03_c06.avi 16 0\n",
            "input/v_SalsaSpin_g03_c06.avi 32 0\n",
            "input/v_SalsaSpin_g03_c06.avi 48 0\n",
            "input/v_SalsaSpin_g03_c06.avi 64 0\n",
            "input/v_SalsaSpin_g03_c06.avi 80 0\n",
            "input/v_SalsaSpin_g03_c06.avi 96 0\n",
            "input/v_SalsaSpin_g03_c06.avi 112 0\n",
            "input/v_SalsaSpin_g03_c06.avi 128 0\n",
            "input/v_SalsaSpin_g03_c06.avi 144 0\n",
            "input/v_SalsaSpin_g04_c05.avi 0 0\n",
            "input/v_SalsaSpin_g04_c05.avi 16 0\n",
            "input/v_SalsaSpin_g04_c05.avi 32 0\n",
            "input/v_SalsaSpin_g04_c05.avi 48 0\n",
            "input/v_SalsaSpin_g04_c05.avi 64 0\n",
            "input/v_SalsaSpin_g04_c05.avi 80 0\n",
            "input/v_SalsaSpin_g04_c05.avi 96 0\n",
            "input/v_SalsaSpin_g04_c05.avi 112 0\n",
            "input/v_SalsaSpin_g04_c05.avi 128 0\n",
            "input/v_SalsaSpin_g04_c05.avi 144 0\n",
            "input/v_SalsaSpin_g04_c05.avi 160 0\n",
            "input/v_SalsaSpin_g04_c05.avi 176 0\n",
            "input/v_SalsaSpin_g04_c05.avi 192 0\n",
            "input/v_SalsaSpin_g04_c05.avi 208 0\n",
            "input/v_SalsaSpin_g04_c05.avi 224 0\n",
            "input/v_SalsaSpin_g04_c05.avi 240 0\n",
            "input/v_SalsaSpin_g04_c05.avi 256 0\n",
            "input/v_SalsaSpin_g04_c05.avi 272 0\n",
            "input/v_SalsaSpin_g04_c05.avi 288 0\n",
            "input/v_SalsaSpin_g04_c05.avi 304 0\n",
            "input/v_SalsaSpin_g10_c05.avi 0 0\n",
            "input/v_SalsaSpin_g10_c05.avi 16 0\n",
            "input/v_SalsaSpin_g10_c05.avi 32 0\n",
            "input/v_SalsaSpin_g10_c05.avi 48 0\n",
            "input/v_SalsaSpin_g10_c05.avi 64 0\n",
            "input/v_SalsaSpin_g10_c05.avi 80 0\n",
            "input/v_SalsaSpin_g10_c05.avi 96 0\n",
            "input/v_SalsaSpin_g10_c05.avi 112 0\n",
            "input/v_SalsaSpin_g10_c05.avi 128 0\n",
            "input/v_SalsaSpin_g10_c05.avi 144 0\n",
            "input/v_SalsaSpin_g18_c02.avi 0 0\n",
            "input/v_SalsaSpin_g18_c02.avi 16 0\n",
            "input/v_SalsaSpin_g18_c02.avi 32 0\n",
            "input/v_SalsaSpin_g18_c02.avi 48 0\n",
            "input/v_SalsaSpin_g18_c02.avi 64 0\n",
            "input/v_SalsaSpin_g18_c02.avi 80 0\n",
            "input/v_SalsaSpin_g18_c02.avi 96 0\n",
            "input/v_SalsaSpin_g18_c02.avi 112 0\n",
            "input/v_SalsaSpin_g18_c02.avi 128 0\n",
            "input/v_SalsaSpin_g18_c02.avi 144 0\n"
          ],
          "name": "stdout"
        }
      ]
    },
    {
      "cell_type": "code",
      "metadata": {
        "colab_type": "code",
        "id": "J57yYZS3RKh-",
        "outputId": "a315f3f0-e006-4576-d23b-e6f285d76db6",
        "colab": {
          "base_uri": "https://localhost:8080/",
          "height": 1000
        }
      },
      "source": [
        "!cat /content/gdrive/My\\ Drive/C3D/C3D-v1.0/examples/c3d_feature_extraction/prototxt/output_list_video_prefix.txt"
      ],
      "execution_count": 33,
      "outputs": [
        {
          "output_type": "stream",
          "text": [
            "output/c3d/v_JumpRope_g09_c06/000000\n",
            "output/c3d/v_JumpRope_g09_c06/000016\n",
            "output/c3d/v_JumpRope_g09_c06/000032\n",
            "output/c3d/v_JumpRope_g09_c06/000048\n",
            "output/c3d/v_JumpRope_g09_c06/000064\n",
            "output/c3d/v_JumpRope_g09_c06/000080\n",
            "output/c3d/v_JumpRope_g09_c06/000096\n",
            "output/c3d/v_JumpRope_g09_c06/000112\n",
            "output/c3d/v_JumpRope_g09_c06/000128\n",
            "output/c3d/v_JumpRope_g09_c06/000144\n",
            "output/c3d/v_JumpRope_g09_c06/000160\n",
            "output/c3d/v_JumpRope_g09_c06/000176\n",
            "output/c3d/v_JumpRope_g09_c06/000192\n",
            "output/c3d/v_JumpRope_g09_c06/000208\n",
            "output/c3d/v_JumpRope_g09_c06/000224\n",
            "output/c3d/v_JumpRope_g09_c06/000240\n",
            "output/c3d/v_JumpRope_g09_c06/000256\n",
            "output/c3d/v_JumpRope_g09_c06/000272\n",
            "output/c3d/v_JumpRope_g09_c06/000288\n",
            "output/c3d/v_JumpRope_g09_c06/000304\n",
            "output/c3d/v_JumpRope_g09_c06/000320\n",
            "output/c3d/v_JumpRope_g09_c06/000336\n",
            "output/c3d/v_JumpRope_g09_c06/000352\n",
            "output/c3d/v_JumpRope_g09_c06/000368\n",
            "output/c3d/v_JumpRope_g09_c06/000384\n",
            "output/c3d/v_JumpRope_g09_c06/000400\n",
            "output/c3d/v_JumpRope_g09_c06/000416\n",
            "output/c3d/v_JumpRope_g09_c06/000432\n",
            "output/c3d/v_JumpRope_g09_c06/000448\n",
            "output/c3d/v_JumpRope_g09_c06/000464\n",
            "output/c3d/v_JumpRope_g16_c02/000000\n",
            "output/c3d/v_JumpRope_g16_c02/000016\n",
            "output/c3d/v_JumpRope_g16_c02/000032\n",
            "output/c3d/v_JumpRope_g16_c02/000048\n",
            "output/c3d/v_JumpRope_g16_c02/000064\n",
            "output/c3d/v_JumpRope_g16_c02/000080\n",
            "output/c3d/v_JumpRope_g16_c02/000096\n",
            "output/c3d/v_JumpRope_g16_c02/000112\n",
            "output/c3d/v_JumpRope_g16_c02/000128\n",
            "output/c3d/v_JumpRope_g16_c02/000144\n",
            "output/c3d/v_JumpRope_g16_c02/000160\n",
            "output/c3d/v_JumpRope_g16_c02/000176\n",
            "output/c3d/v_JumpRope_g16_c02/000192\n",
            "output/c3d/v_JumpRope_g16_c02/000208\n",
            "output/c3d/v_JumpRope_g16_c02/000224\n",
            "output/c3d/v_JumpRope_g16_c02/000240\n",
            "output/c3d/v_JumpRope_g16_c02/000256\n",
            "output/c3d/v_JumpRope_g16_c02/000272\n",
            "output/c3d/v_JumpRope_g16_c02/000288\n",
            "output/c3d/v_JumpRope_g16_c02/000304\n",
            "output/c3d/v_JumpRope_g16_c02/000320\n",
            "output/c3d/v_JumpRope_g16_c02/000336\n",
            "output/c3d/v_JumpRope_g16_c02/000352\n",
            "output/c3d/v_JumpRope_g16_c02/000368\n",
            "output/c3d/v_JumpRope_g16_c02/000384\n",
            "output/c3d/v_JumpRope_g16_c02/000400\n",
            "output/c3d/v_JumpRope_g16_c02/000416\n",
            "output/c3d/v_JumpRope_g16_c02/000432\n",
            "output/c3d/v_JumpRope_g16_c02/000448\n",
            "output/c3d/v_JumpRope_g16_c02/000464\n",
            "output/c3d/v_JumpRope_g22_c01/000000\n",
            "output/c3d/v_JumpRope_g22_c01/000016\n",
            "output/c3d/v_JumpRope_g22_c01/000032\n",
            "output/c3d/v_JumpRope_g22_c01/000048\n",
            "output/c3d/v_JumpRope_g22_c01/000064\n",
            "output/c3d/v_JumpRope_g22_c01/000080\n",
            "output/c3d/v_JumpRope_g22_c01/000096\n",
            "output/c3d/v_JumpRope_g22_c01/000112\n",
            "output/c3d/v_JumpRope_g22_c01/000128\n",
            "output/c3d/v_JumpRope_g22_c01/000144\n",
            "output/c3d/v_JumpRope_g22_c01/000160\n",
            "output/c3d/v_JumpRope_g22_c01/000176\n",
            "output/c3d/v_JumpRope_g23_c05/000000\n",
            "output/c3d/v_JumpRope_g23_c05/000016\n",
            "output/c3d/v_JumpRope_g23_c05/000032\n",
            "output/c3d/v_JumpRope_g23_c05/000048\n",
            "output/c3d/v_JumpRope_g23_c05/000064\n",
            "output/c3d/v_JumpRope_g23_c05/000080\n",
            "output/c3d/v_JumpRope_g23_c05/000096\n",
            "output/c3d/v_JumpRope_g23_c05/000112\n",
            "output/c3d/v_JumpRope_g23_c05/000128\n",
            "output/c3d/v_JumpRope_g23_c05/000144\n",
            "output/c3d/v_JumpRope_g23_c05/000160\n",
            "output/c3d/v_JumpRope_g23_c05/000176\n",
            "output/c3d/v_JumpRope_g23_c05/000192\n",
            "output/c3d/v_JumpRope_g23_c05/000208\n",
            "output/c3d/v_JumpRope_g23_c05/000224\n",
            "output/c3d/v_Punch_g19_c03/000000\n",
            "output/c3d/v_Punch_g19_c03/000016\n",
            "output/c3d/v_Punch_g19_c03/000032\n",
            "output/c3d/v_Punch_g19_c03/000048\n",
            "output/c3d/v_Punch_g19_c03/000064\n",
            "output/c3d/v_Punch_g19_c03/000080\n",
            "output/c3d/v_Punch_g19_c03/000096\n",
            "output/c3d/v_Punch_g19_c03/000112\n",
            "output/c3d/v_Punch_g19_c03/000128\n",
            "output/c3d/v_Punch_g19_c03/000144\n",
            "output/c3d/v_Punch_g19_c03/000160\n",
            "output/c3d/v_Punch_g19_c03/000176\n",
            "output/c3d/v_Punch_g19_c03/000192\n",
            "output/c3d/v_Punch_g19_c03/000208\n",
            "output/c3d/v_Punch_g19_c03/000224\n",
            "output/c3d/v_Punch_g19_c03/000240\n",
            "output/c3d/v_Punch_g19_c03/000256\n",
            "output/c3d/v_Punch_g19_c03/000272\n",
            "output/c3d/v_Punch_g21_c05/000000\n",
            "output/c3d/v_Punch_g21_c05/000016\n",
            "output/c3d/v_Punch_g21_c05/000032\n",
            "output/c3d/v_Punch_g21_c05/000048\n",
            "output/c3d/v_Punch_g21_c05/000064\n",
            "output/c3d/v_Punch_g21_c05/000080\n",
            "output/c3d/v_Punch_g21_c05/000096\n",
            "output/c3d/v_Punch_g21_c05/000112\n",
            "output/c3d/v_Punch_g21_c05/000128\n",
            "output/c3d/v_Punch_g21_c05/000144\n",
            "output/c3d/v_Punch_g21_c05/000160\n",
            "output/c3d/v_Punch_g21_c05/000176\n",
            "output/c3d/v_Punch_g21_c05/000192\n",
            "output/c3d/v_Punch_g21_c05/000208\n",
            "output/c3d/v_Punch_g21_c05/000224\n",
            "output/c3d/v_Punch_g21_c05/000240\n",
            "output/c3d/v_Punch_g21_c05/000256\n",
            "output/c3d/v_Punch_g21_c05/000272\n",
            "output/c3d/v_SalsaSpin_g03_c06/000000\n",
            "output/c3d/v_SalsaSpin_g03_c06/000016\n",
            "output/c3d/v_SalsaSpin_g03_c06/000032\n",
            "output/c3d/v_SalsaSpin_g03_c06/000048\n",
            "output/c3d/v_SalsaSpin_g03_c06/000064\n",
            "output/c3d/v_SalsaSpin_g03_c06/000080\n",
            "output/c3d/v_SalsaSpin_g03_c06/000096\n",
            "output/c3d/v_SalsaSpin_g03_c06/000112\n",
            "output/c3d/v_SalsaSpin_g03_c06/000128\n",
            "output/c3d/v_SalsaSpin_g03_c06/000144\n",
            "output/c3d/v_SalsaSpin_g04_c05/000000\n",
            "output/c3d/v_SalsaSpin_g04_c05/000016\n",
            "output/c3d/v_SalsaSpin_g04_c05/000032\n",
            "output/c3d/v_SalsaSpin_g04_c05/000048\n",
            "output/c3d/v_SalsaSpin_g04_c05/000064\n",
            "output/c3d/v_SalsaSpin_g04_c05/000080\n",
            "output/c3d/v_SalsaSpin_g04_c05/000096\n",
            "output/c3d/v_SalsaSpin_g04_c05/000112\n",
            "output/c3d/v_SalsaSpin_g04_c05/000128\n",
            "output/c3d/v_SalsaSpin_g04_c05/000144\n",
            "output/c3d/v_SalsaSpin_g04_c05/000160\n",
            "output/c3d/v_SalsaSpin_g04_c05/000176\n",
            "output/c3d/v_SalsaSpin_g04_c05/000192\n",
            "output/c3d/v_SalsaSpin_g04_c05/000208\n",
            "output/c3d/v_SalsaSpin_g04_c05/000224\n",
            "output/c3d/v_SalsaSpin_g04_c05/000240\n",
            "output/c3d/v_SalsaSpin_g04_c05/000256\n",
            "output/c3d/v_SalsaSpin_g04_c05/000272\n",
            "output/c3d/v_SalsaSpin_g04_c05/000288\n",
            "output/c3d/v_SalsaSpin_g04_c05/000304\n",
            "output/c3d/v_SalsaSpin_g10_c05/000000\n",
            "output/c3d/v_SalsaSpin_g10_c05/000016\n",
            "output/c3d/v_SalsaSpin_g10_c05/000032\n",
            "output/c3d/v_SalsaSpin_g10_c05/000048\n",
            "output/c3d/v_SalsaSpin_g10_c05/000064\n",
            "output/c3d/v_SalsaSpin_g10_c05/000080\n",
            "output/c3d/v_SalsaSpin_g10_c05/000096\n",
            "output/c3d/v_SalsaSpin_g10_c05/000112\n",
            "output/c3d/v_SalsaSpin_g10_c05/000128\n",
            "output/c3d/v_SalsaSpin_g10_c05/000144\n",
            "output/c3d/v_SalsaSpin_g18_c02/000000\n",
            "output/c3d/v_SalsaSpin_g18_c02/000016\n",
            "output/c3d/v_SalsaSpin_g18_c02/000032\n",
            "output/c3d/v_SalsaSpin_g18_c02/000048\n",
            "output/c3d/v_SalsaSpin_g18_c02/000064\n",
            "output/c3d/v_SalsaSpin_g18_c02/000080\n",
            "output/c3d/v_SalsaSpin_g18_c02/000096\n",
            "output/c3d/v_SalsaSpin_g18_c02/000112\n",
            "output/c3d/v_SalsaSpin_g18_c02/000128\n",
            "output/c3d/v_SalsaSpin_g18_c02/000144\n"
          ],
          "name": "stdout"
        }
      ]
    },
    {
      "cell_type": "code",
      "metadata": {
        "colab_type": "code",
        "id": "-QRx_nZJDj9U",
        "outputId": "4d603512-2f73-43e3-8c58-48281aec8905",
        "colab": {
          "base_uri": "https://localhost:8080/",
          "height": 415
        }
      },
      "source": [
        "!cat c3d_sport1m_feature_extraction_video.sh"
      ],
      "execution_count": 34,
      "outputs": [
        {
          "output_type": "stream",
          "text": [
            "rm -rf output/c3d/v_JumpRope_g09_c06\n",
            "mkdir -p output/c3d/v_JumpRope_g09_c06\n",
            "rm -rf output/c3d/v_JumpRope_g16_c02\n",
            "mkdir -p output/c3d/v_JumpRope_g16_c02\n",
            "rm -rf output/c3d/v_JumpRope_g22_c01\n",
            "mkdir -p output/c3d/v_JumpRope_g22_c01\n",
            "rm -rf output/c3d/v_JumpRope_g23_c05\n",
            "mkdir -p output/c3d/v_JumpRope_g23_c05\n",
            "rm -rf output/c3d/v_Punch_g19_c03\n",
            "mkdir -p output/c3d/v_Punch_g19_c03\n",
            "rm -rf output/c3d/v_Punch_g21_c05\n",
            "mkdir -p output/c3d/v_Punch_g21_c05\n",
            "rm -rf output/c3d/v_SalsaSpin_g03_c06\n",
            "mkdir -p output/c3d/v_SalsaSpin_g03_c06\n",
            "rm -rf output/c3d/v_SalsaSpin_g04_c05\n",
            "mkdir -p output/c3d/v_SalsaSpin_g04_c05\n",
            "rm -rf output/c3d/v_SalsaSpin_g10_c05\n",
            "mkdir -p output/c3d/v_SalsaSpin_g10_c05\n",
            "rm -rf output/c3d/v_SalsaSpin_g18_c02\n",
            "mkdir -p output/c3d/v_SalsaSpin_g18_c02\n",
            "time GLOG_logtosterr=1 ../../build/tools/extract_image_features.bin prototxt/c3d_sport1m_feature_extractor_video.prototxt conv3d_deepnetA_sport1m_iter_1900000 0 50 60 prototxt/output_list_video_prefix.txt fc6-1"
          ],
          "name": "stdout"
        }
      ]
    },
    {
      "cell_type": "markdown",
      "metadata": {
        "colab_type": "text",
        "id": "PsLQ1B6bUuPF"
      },
      "source": [
        "## Extract Features"
      ]
    },
    {
      "cell_type": "code",
      "metadata": {
        "colab_type": "code",
        "id": "Dn5dcP5jUtpJ",
        "outputId": "636d0296-8148-431a-83c8-9cc6538ce322",
        "colab": {
          "base_uri": "https://localhost:8080/",
          "height": 1000
        }
      },
      "source": [
        "# extract feature\n",
        "%cd /content/gdrive/My\\ Drive/C3D/C3D-v1.0/examples/c3d_feature_extraction\n",
        "!bash c3d_sport1m_feature_extraction_video.sh"
      ],
      "execution_count": 35,
      "outputs": [
        {
          "output_type": "stream",
          "text": [
            "/content/gdrive/My Drive/C3D/C3D-v1.0/examples/c3d_feature_extraction\n",
            "WARNING: Logging before InitGoogleLogging() is written to STDERR\n",
            "E0426 22:53:22.198750 11945 extract_image_features.cpp:64] Using GPU #0\n",
            "I0426 22:53:22.201416 11945 net.cpp:76] Creating Layer data\n",
            "I0426 22:53:22.201437 11945 net.cpp:112] data -> data\n",
            "I0426 22:53:22.201505 11945 net.cpp:112] data -> label\n",
            "I0426 22:53:22.201704 11945 video_data_layer.cpp:283] Opening file prototxt/input_list_video.txt\n",
            "I0426 22:53:22.202499 11945 video_data_layer.cpp:317] A total of 173 video chunks.\n",
            "I0426 22:53:22.357290 11945 video_data_layer.cpp:365] output data size: 50,3,16,112,112\n",
            "I0426 22:53:22.357321 11945 video_data_layer.cpp:387] Loading mean file from sport1m_train16_128_mean.binaryproto\n",
            "I0426 22:53:22.431941 11945 net.cpp:127] Top shape: 50 3 16 112 112 (30105600)\n",
            "I0426 22:53:22.432003 11945 net.cpp:127] Top shape: 50 1 1 1 1 (50)\n",
            "I0426 22:53:22.432013 11945 net.cpp:159] data does not need backward computation.\n",
            "I0426 22:53:22.432049 11945 net.cpp:76] Creating Layer conv1a\n",
            "I0426 22:53:22.432057 11945 net.cpp:86] conv1a <- data\n",
            "I0426 22:53:22.432067 11945 net.cpp:112] conv1a -> conv1a\n",
            "I0426 22:53:22.433030 11945 net.cpp:127] Top shape: 50 64 16 112 112 (642252800)\n",
            "I0426 22:53:22.433051 11945 net.cpp:154] conv1a needs backward computation.\n",
            "I0426 22:53:22.433065 11945 net.cpp:76] Creating Layer relu1a\n",
            "I0426 22:53:22.433080 11945 net.cpp:86] relu1a <- conv1a\n",
            "I0426 22:53:22.433089 11945 net.cpp:100] relu1a -> conv1a (in-place)\n",
            "I0426 22:53:22.433346 11945 net.cpp:127] Top shape: 50 64 16 112 112 (642252800)\n",
            "I0426 22:53:22.433365 11945 net.cpp:154] relu1a needs backward computation.\n",
            "I0426 22:53:22.433377 11945 net.cpp:76] Creating Layer pool1\n",
            "I0426 22:53:22.433385 11945 net.cpp:86] pool1 <- conv1a\n",
            "I0426 22:53:22.433393 11945 net.cpp:112] pool1 -> pool1\n",
            "I0426 22:53:22.433424 11945 net.cpp:127] Top shape: 50 64 16 56 56 (160563200)\n",
            "I0426 22:53:22.433435 11945 net.cpp:154] pool1 needs backward computation.\n",
            "I0426 22:53:22.433449 11945 net.cpp:76] Creating Layer conv2a\n",
            "I0426 22:53:22.433455 11945 net.cpp:86] conv2a <- pool1\n",
            "I0426 22:53:22.433463 11945 net.cpp:112] conv2a -> conv2a\n",
            "I0426 22:53:22.437448 11945 net.cpp:127] Top shape: 50 128 16 56 56 (321126400)\n",
            "I0426 22:53:22.437486 11945 net.cpp:154] conv2a needs backward computation.\n",
            "I0426 22:53:22.437503 11945 net.cpp:76] Creating Layer relu2a\n",
            "I0426 22:53:22.437512 11945 net.cpp:86] relu2a <- conv2a\n",
            "I0426 22:53:22.437520 11945 net.cpp:100] relu2a -> conv2a (in-place)\n",
            "I0426 22:53:22.437530 11945 net.cpp:127] Top shape: 50 128 16 56 56 (321126400)\n",
            "I0426 22:53:22.437537 11945 net.cpp:154] relu2a needs backward computation.\n",
            "I0426 22:53:22.437546 11945 net.cpp:76] Creating Layer pool2\n",
            "I0426 22:53:22.437554 11945 net.cpp:86] pool2 <- conv2a\n",
            "I0426 22:53:22.437562 11945 net.cpp:112] pool2 -> pool2\n",
            "I0426 22:53:22.437572 11945 net.cpp:127] Top shape: 50 128 8 28 28 (40140800)\n",
            "I0426 22:53:22.437579 11945 net.cpp:154] pool2 needs backward computation.\n",
            "I0426 22:53:22.437589 11945 net.cpp:76] Creating Layer conv3a\n",
            "I0426 22:53:22.437597 11945 net.cpp:86] conv3a <- pool2\n",
            "I0426 22:53:22.437605 11945 net.cpp:112] conv3a -> conv3a\n",
            "I0426 22:53:22.453009 11945 net.cpp:127] Top shape: 50 256 8 28 28 (80281600)\n",
            "I0426 22:53:22.453037 11945 net.cpp:154] conv3a needs backward computation.\n",
            "I0426 22:53:22.453048 11945 net.cpp:76] Creating Layer relu3a\n",
            "I0426 22:53:22.453056 11945 net.cpp:86] relu3a <- conv3a\n",
            "I0426 22:53:22.453065 11945 net.cpp:100] relu3a -> conv3a (in-place)\n",
            "I0426 22:53:22.453074 11945 net.cpp:127] Top shape: 50 256 8 28 28 (80281600)\n",
            "I0426 22:53:22.453083 11945 net.cpp:154] relu3a needs backward computation.\n",
            "I0426 22:53:22.453092 11945 net.cpp:76] Creating Layer conv3b\n",
            "I0426 22:53:22.453099 11945 net.cpp:86] conv3b <- conv3a\n",
            "I0426 22:53:22.453107 11945 net.cpp:112] conv3b -> conv3b\n",
            "I0426 22:53:22.485517 11945 net.cpp:127] Top shape: 50 256 8 28 28 (80281600)\n",
            "I0426 22:53:22.485558 11945 net.cpp:154] conv3b needs backward computation.\n",
            "I0426 22:53:22.485574 11945 net.cpp:76] Creating Layer relu3b\n",
            "I0426 22:53:22.485584 11945 net.cpp:86] relu3b <- conv3b\n",
            "I0426 22:53:22.485595 11945 net.cpp:100] relu3b -> conv3b (in-place)\n",
            "I0426 22:53:22.485605 11945 net.cpp:127] Top shape: 50 256 8 28 28 (80281600)\n",
            "I0426 22:53:22.485613 11945 net.cpp:154] relu3b needs backward computation.\n",
            "I0426 22:53:22.485621 11945 net.cpp:76] Creating Layer pool3\n",
            "I0426 22:53:22.485628 11945 net.cpp:86] pool3 <- conv3b\n",
            "I0426 22:53:22.485635 11945 net.cpp:112] pool3 -> pool3\n",
            "I0426 22:53:22.485657 11945 net.cpp:127] Top shape: 50 256 4 14 14 (10035200)\n",
            "I0426 22:53:22.485664 11945 net.cpp:154] pool3 needs backward computation.\n",
            "I0426 22:53:22.485673 11945 net.cpp:76] Creating Layer conv4a\n",
            "I0426 22:53:22.485682 11945 net.cpp:86] conv4a <- pool3\n",
            "I0426 22:53:22.485692 11945 net.cpp:112] conv4a -> conv4a\n",
            "I0426 22:53:22.553459 11945 net.cpp:127] Top shape: 50 512 4 14 14 (20070400)\n",
            "I0426 22:53:22.553503 11945 net.cpp:154] conv4a needs backward computation.\n",
            "I0426 22:53:22.553516 11945 net.cpp:76] Creating Layer relu4a\n",
            "I0426 22:53:22.553525 11945 net.cpp:86] relu4a <- conv4a\n",
            "I0426 22:53:22.553534 11945 net.cpp:100] relu4a -> conv4a (in-place)\n",
            "I0426 22:53:22.553544 11945 net.cpp:127] Top shape: 50 512 4 14 14 (20070400)\n",
            "I0426 22:53:22.553550 11945 net.cpp:154] relu4a needs backward computation.\n",
            "I0426 22:53:22.553560 11945 net.cpp:76] Creating Layer conv4b\n",
            "I0426 22:53:22.553568 11945 net.cpp:86] conv4b <- conv4a\n",
            "I0426 22:53:22.553575 11945 net.cpp:112] conv4b -> conv4b\n",
            "I0426 22:53:22.697304 11945 net.cpp:127] Top shape: 50 512 4 14 14 (20070400)\n",
            "I0426 22:53:22.697341 11945 net.cpp:154] conv4b needs backward computation.\n",
            "I0426 22:53:22.697355 11945 net.cpp:76] Creating Layer relu4b\n",
            "I0426 22:53:22.697363 11945 net.cpp:86] relu4b <- conv4b\n",
            "I0426 22:53:22.697376 11945 net.cpp:100] relu4b -> conv4b (in-place)\n",
            "I0426 22:53:22.697386 11945 net.cpp:127] Top shape: 50 512 4 14 14 (20070400)\n",
            "I0426 22:53:22.697392 11945 net.cpp:154] relu4b needs backward computation.\n",
            "I0426 22:53:22.697404 11945 net.cpp:76] Creating Layer pool4\n",
            "I0426 22:53:22.697410 11945 net.cpp:86] pool4 <- conv4b\n",
            "I0426 22:53:22.697417 11945 net.cpp:112] pool4 -> pool4\n",
            "I0426 22:53:22.697427 11945 net.cpp:127] Top shape: 50 512 2 7 7 (2508800)\n",
            "I0426 22:53:22.697434 11945 net.cpp:154] pool4 needs backward computation.\n",
            "I0426 22:53:22.697445 11945 net.cpp:76] Creating Layer conv5a\n",
            "I0426 22:53:22.697455 11945 net.cpp:86] conv5a <- pool4\n",
            "I0426 22:53:22.697464 11945 net.cpp:112] conv5a -> conv5a\n",
            "I0426 22:53:22.831018 11945 net.cpp:127] Top shape: 50 512 2 7 7 (2508800)\n",
            "I0426 22:53:22.831056 11945 net.cpp:154] conv5a needs backward computation.\n",
            "I0426 22:53:22.831071 11945 net.cpp:76] Creating Layer relu5a\n",
            "I0426 22:53:22.831081 11945 net.cpp:86] relu5a <- conv5a\n",
            "I0426 22:53:22.831091 11945 net.cpp:100] relu5a -> conv5a (in-place)\n",
            "I0426 22:53:22.831101 11945 net.cpp:127] Top shape: 50 512 2 7 7 (2508800)\n",
            "I0426 22:53:22.831110 11945 net.cpp:154] relu5a needs backward computation.\n",
            "I0426 22:53:22.831120 11945 net.cpp:76] Creating Layer conv5b\n",
            "I0426 22:53:22.831128 11945 net.cpp:86] conv5b <- conv5a\n",
            "I0426 22:53:22.831136 11945 net.cpp:112] conv5b -> conv5b\n",
            "I0426 22:53:22.964331 11945 net.cpp:127] Top shape: 50 512 2 7 7 (2508800)\n",
            "I0426 22:53:22.964375 11945 net.cpp:154] conv5b needs backward computation.\n",
            "I0426 22:53:22.964388 11945 net.cpp:76] Creating Layer relu5b\n",
            "I0426 22:53:22.964397 11945 net.cpp:86] relu5b <- conv5b\n",
            "I0426 22:53:22.964406 11945 net.cpp:100] relu5b -> conv5b (in-place)\n",
            "I0426 22:53:22.964413 11945 net.cpp:127] Top shape: 50 512 2 7 7 (2508800)\n",
            "I0426 22:53:22.964419 11945 net.cpp:154] relu5b needs backward computation.\n",
            "I0426 22:53:22.964428 11945 net.cpp:76] Creating Layer pool5\n",
            "I0426 22:53:22.964435 11945 net.cpp:86] pool5 <- conv5b\n",
            "I0426 22:53:22.964442 11945 net.cpp:112] pool5 -> pool5\n",
            "I0426 22:53:22.964450 11945 net.cpp:127] Top shape: 50 512 1 4 4 (409600)\n",
            "I0426 22:53:22.964457 11945 net.cpp:154] pool5 needs backward computation.\n",
            "I0426 22:53:22.964466 11945 net.cpp:76] Creating Layer fc6-1\n",
            "I0426 22:53:22.964481 11945 net.cpp:86] fc6-1 <- pool5\n",
            "I0426 22:53:22.964489 11945 net.cpp:112] fc6-1 -> fc6-1\n",
            "I0426 22:53:23.603152 11945 net.cpp:127] Top shape: 50 4096 1 1 1 (204800)\n",
            "I0426 22:53:23.603191 11945 net.cpp:154] fc6-1 needs backward computation.\n",
            "I0426 22:53:23.603204 11945 net.cpp:76] Creating Layer relu6\n",
            "I0426 22:53:23.603214 11945 net.cpp:86] relu6 <- fc6-1\n",
            "I0426 22:53:23.603224 11945 net.cpp:100] relu6 -> fc6-1 (in-place)\n",
            "I0426 22:53:23.603232 11945 net.cpp:127] Top shape: 50 4096 1 1 1 (204800)\n",
            "I0426 22:53:23.603240 11945 net.cpp:154] relu6 needs backward computation.\n",
            "I0426 22:53:23.603250 11945 net.cpp:76] Creating Layer drop6\n",
            "I0426 22:53:23.603257 11945 net.cpp:86] drop6 <- fc6-1\n",
            "I0426 22:53:23.603265 11945 net.cpp:100] drop6 -> fc6-1 (in-place)\n",
            "I0426 22:53:23.603333 11945 net.cpp:127] Top shape: 50 4096 1 1 1 (204800)\n",
            "I0426 22:53:23.603343 11945 net.cpp:154] drop6 needs backward computation.\n",
            "I0426 22:53:23.603353 11945 net.cpp:76] Creating Layer fc7-1\n",
            "I0426 22:53:23.603361 11945 net.cpp:86] fc7-1 <- fc6-1\n",
            "I0426 22:53:23.603368 11945 net.cpp:112] fc7-1 -> fc7-1\n",
            "I0426 22:53:23.914386 11945 net.cpp:127] Top shape: 50 4096 1 1 1 (204800)\n",
            "I0426 22:53:23.914424 11945 net.cpp:154] fc7-1 needs backward computation.\n",
            "I0426 22:53:23.914435 11945 net.cpp:76] Creating Layer relu7\n",
            "I0426 22:53:23.914444 11945 net.cpp:86] relu7 <- fc7-1\n",
            "I0426 22:53:23.914453 11945 net.cpp:100] relu7 -> fc7-1 (in-place)\n",
            "I0426 22:53:23.914459 11945 net.cpp:127] Top shape: 50 4096 1 1 1 (204800)\n",
            "I0426 22:53:23.914466 11945 net.cpp:154] relu7 needs backward computation.\n",
            "I0426 22:53:23.914475 11945 net.cpp:76] Creating Layer drop7\n",
            "I0426 22:53:23.914481 11945 net.cpp:86] drop7 <- fc7-1\n",
            "I0426 22:53:23.914489 11945 net.cpp:100] drop7 -> fc7-1 (in-place)\n",
            "I0426 22:53:23.914496 11945 net.cpp:127] Top shape: 50 4096 1 1 1 (204800)\n",
            "I0426 22:53:23.914503 11945 net.cpp:154] drop7 needs backward computation.\n",
            "I0426 22:53:23.914515 11945 net.cpp:76] Creating Layer fc8-1\n",
            "I0426 22:53:23.914521 11945 net.cpp:86] fc8-1 <- fc7-1\n",
            "I0426 22:53:23.914528 11945 net.cpp:112] fc8-1 -> fc8-1\n",
            "I0426 22:53:23.945842 11945 net.cpp:127] Top shape: 50 487 1 1 1 (24350)\n",
            "I0426 22:53:23.945888 11945 net.cpp:154] fc8-1 needs backward computation.\n",
            "I0426 22:53:23.945901 11945 net.cpp:76] Creating Layer prob\n",
            "I0426 22:53:23.945910 11945 net.cpp:86] prob <- fc8-1\n",
            "I0426 22:53:23.945920 11945 net.cpp:112] prob -> prob\n",
            "I0426 22:53:23.945930 11945 net.cpp:127] Top shape: 50 487 1 1 1 (24350)\n",
            "I0426 22:53:23.945937 11945 net.cpp:154] prob needs backward computation.\n",
            "I0426 22:53:23.945945 11945 net.cpp:76] Creating Layer accuracy\n",
            "I0426 22:53:23.945951 11945 net.cpp:86] accuracy <- prob\n",
            "I0426 22:53:23.945972 11945 net.cpp:86] accuracy <- label\n",
            "I0426 22:53:23.945981 11945 net.cpp:112] accuracy -> accuracy\n",
            "I0426 22:53:23.945991 11945 net.cpp:127] Top shape: 1 2 1 1 1 (2)\n",
            "I0426 22:53:23.949983 11945 net.cpp:154] accuracy needs backward computation.\n",
            "I0426 22:53:23.950008 11945 net.cpp:165] This network produces output accuracy\n",
            "I0426 22:53:23.950029 11945 net.cpp:183] Collecting Learning Rate and Weight Decay.\n",
            "I0426 22:53:23.950047 11945 net.cpp:176] Network initialization done.\n",
            "I0426 22:53:23.950053 11945 net.cpp:177] Memory required for Data 5653289408\n",
            "E0426 22:53:24.984915 11945 extract_image_features.cpp:81] Extracting features for 60 batches\n",
            "E0426 22:53:28.856309 11945 extract_image_features.cpp:117] Extracted features of 50 images.\n",
            "E0426 22:53:44.526764 11945 extract_image_features.cpp:121] Successfully extracted 173 features!\n",
            "\n",
            "real\t0m25.501s\n",
            "user\t0m25.614s\n",
            "sys\t0m7.645s\n"
          ],
          "name": "stdout"
        }
      ]
    },
    {
      "cell_type": "markdown",
      "metadata": {
        "id": "9kGT0kVE9ojX",
        "colab_type": "text"
      },
      "source": [
        "A saída deve ser semelhante as linhas abaixo:\n",
        "\n",
        "`I0426 21:00:39.326395  5841 net.cpp:177] Memory required for Data 5653289408`\n",
        "\n",
        "`E0426 21:00:40.377143  5841 extract_image_features.cpp:81] Extracting features for 60 batches`\n",
        "\n",
        "`E0426 21:00:43.330047  5841 extract_image_features.cpp:117] Extracted features of 50 images.`\n",
        "\n",
        "`E0426 21:00:58.617430  5841 extract_image_features.cpp:121] Successfully extracted 173 features!`\n",
        "\n",
        "`real\t0m24.586s`\n",
        "\n",
        "`user\t0m23.430s`\n",
        "\n",
        "`sys\t0m5.933s`"
      ]
    },
    {
      "cell_type": "code",
      "metadata": {
        "colab_type": "code",
        "id": "w6-fiWD-I8-g",
        "outputId": "cdb53ea4-b679-4054-9c78-e0ab775cc934",
        "colab": {
          "base_uri": "https://localhost:8080/",
          "height": 89
        }
      },
      "source": [
        "!ls output/c3d"
      ],
      "execution_count": 36,
      "outputs": [
        {
          "output_type": "stream",
          "text": [
            "v_ApplyEyeMakeup_g01_c01  v_JumpRope_g22_c01  v_SalsaSpin_g03_c06\n",
            "v_BaseballPitch_g01_c01   v_JumpRope_g23_c05  v_SalsaSpin_g04_c05\n",
            "v_JumpRope_g09_c06\t  v_Punch_g19_c03     v_SalsaSpin_g10_c05\n",
            "v_JumpRope_g16_c02\t  v_Punch_g21_c05     v_SalsaSpin_g18_c02\n"
          ],
          "name": "stdout"
        }
      ]
    },
    {
      "cell_type": "markdown",
      "metadata": {
        "id": "L-rXgMsT-R-t",
        "colab_type": "text"
      },
      "source": [
        "Escolha um diretório correspondente a um vídeo e confira se os arquivos foram gerados"
      ]
    },
    {
      "cell_type": "code",
      "metadata": {
        "colab_type": "code",
        "id": "lTkP-22tVVlt",
        "outputId": "ff9d6a34-0b25-42a3-b914-f6b2debd4ebd",
        "colab": {
          "base_uri": "https://localhost:8080/",
          "height": 575
        }
      },
      "source": [
        "!ls -la output/c3d/v_JumpRope_g09_c06\t  "
      ],
      "execution_count": 37,
      "outputs": [
        {
          "output_type": "stream",
          "text": [
            "total 495\n",
            "-rw------- 1 root root 16404 Apr 26 22:53 000000.fc6-1\n",
            "-rw------- 1 root root 16404 Apr 26 22:53 000016.fc6-1\n",
            "-rw------- 1 root root 16404 Apr 26 22:53 000032.fc6-1\n",
            "-rw------- 1 root root 16404 Apr 26 22:53 000048.fc6-1\n",
            "-rw------- 1 root root 16404 Apr 26 22:53 000064.fc6-1\n",
            "-rw------- 1 root root 16404 Apr 26 22:53 000080.fc6-1\n",
            "-rw------- 1 root root 16404 Apr 26 22:53 000096.fc6-1\n",
            "-rw------- 1 root root 16404 Apr 26 22:53 000112.fc6-1\n",
            "-rw------- 1 root root 16404 Apr 26 22:53 000128.fc6-1\n",
            "-rw------- 1 root root 16404 Apr 26 22:53 000144.fc6-1\n",
            "-rw------- 1 root root 16404 Apr 26 22:53 000160.fc6-1\n",
            "-rw------- 1 root root 16404 Apr 26 22:53 000176.fc6-1\n",
            "-rw------- 1 root root 16404 Apr 26 22:53 000192.fc6-1\n",
            "-rw------- 1 root root 16404 Apr 26 22:53 000208.fc6-1\n",
            "-rw------- 1 root root 16404 Apr 26 22:53 000224.fc6-1\n",
            "-rw------- 1 root root 16404 Apr 26 22:53 000240.fc6-1\n",
            "-rw------- 1 root root 16404 Apr 26 22:53 000256.fc6-1\n",
            "-rw------- 1 root root 16404 Apr 26 22:53 000272.fc6-1\n",
            "-rw------- 1 root root 16404 Apr 26 22:53 000288.fc6-1\n",
            "-rw------- 1 root root 16404 Apr 26 22:53 000304.fc6-1\n",
            "-rw------- 1 root root 16404 Apr 26 22:53 000320.fc6-1\n",
            "-rw------- 1 root root 16404 Apr 26 22:53 000336.fc6-1\n",
            "-rw------- 1 root root 16404 Apr 26 22:53 000352.fc6-1\n",
            "-rw------- 1 root root 16404 Apr 26 22:53 000368.fc6-1\n",
            "-rw------- 1 root root 16404 Apr 26 22:53 000384.fc6-1\n",
            "-rw------- 1 root root 16404 Apr 26 22:53 000400.fc6-1\n",
            "-rw------- 1 root root 16404 Apr 26 22:53 000416.fc6-1\n",
            "-rw------- 1 root root 16404 Apr 26 22:53 000432.fc6-1\n",
            "-rw------- 1 root root 16404 Apr 26 22:53 000448.fc6-1\n",
            "-rw------- 1 root root 16404 Apr 26 22:53 000464.fc6-1\n"
          ],
          "name": "stdout"
        }
      ]
    },
    {
      "cell_type": "markdown",
      "metadata": {
        "id": "zWZqthiAsxzL",
        "colab_type": "text"
      },
      "source": [
        "Features Extraídas! :D"
      ]
    },
    {
      "cell_type": "markdown",
      "metadata": {
        "colab_type": "text",
        "id": "80VKcs8NKLKv"
      },
      "source": [
        "## Zip"
      ]
    },
    {
      "cell_type": "code",
      "metadata": {
        "colab_type": "code",
        "id": "Wq19vcGZKJSH",
        "outputId": "01c9cad0-940c-405f-a36a-095703ce753f",
        "colab": {
          "base_uri": "https://localhost:8080/",
          "height": 1000
        }
      },
      "source": [
        "!zip -r output_novelty_features_c3d_extract.zip output/c3d/"
      ],
      "execution_count": 38,
      "outputs": [
        {
          "output_type": "stream",
          "text": [
            "  adding: output/c3d/ (stored 0%)\n",
            "  adding: output/c3d/v_ApplyEyeMakeup_g01_c01/ (stored 0%)\n",
            "  adding: output/c3d/v_ApplyEyeMakeup_g01_c01/000000.fc7-1 (deflated 80%)\n",
            "  adding: output/c3d/v_ApplyEyeMakeup_g01_c01/000016.fc7-1 (deflated 79%)\n",
            "  adding: output/c3d/v_ApplyEyeMakeup_g01_c01/000032.fc7-1 (deflated 78%)\n",
            "  adding: output/c3d/v_ApplyEyeMakeup_g01_c01/000048.fc7-1 (deflated 77%)\n",
            "  adding: output/c3d/v_ApplyEyeMakeup_g01_c01/000064.fc7-1 (deflated 79%)\n",
            "  adding: output/c3d/v_ApplyEyeMakeup_g01_c01/000080.fc7-1 (deflated 79%)\n",
            "  adding: output/c3d/v_ApplyEyeMakeup_g01_c01/000096.fc7-1 (deflated 83%)\n",
            "  adding: output/c3d/v_ApplyEyeMakeup_g01_c01/000112.fc7-1 (deflated 80%)\n",
            "  adding: output/c3d/v_ApplyEyeMakeup_g01_c01/000128.fc7-1 (deflated 79%)\n",
            "  adding: output/c3d/v_ApplyEyeMakeup_g01_c01/000144.fc7-1 (deflated 81%)\n",
            "  adding: output/c3d/v_ApplyEyeMakeup_g01_c01/000000.fc6-1 (deflated 56%)\n",
            "  adding: output/c3d/v_ApplyEyeMakeup_g01_c01/000016.fc6-1 (deflated 56%)\n",
            "  adding: output/c3d/v_ApplyEyeMakeup_g01_c01/000032.fc6-1 (deflated 56%)\n",
            "  adding: output/c3d/v_ApplyEyeMakeup_g01_c01/000048.fc6-1 (deflated 57%)\n",
            "  adding: output/c3d/v_ApplyEyeMakeup_g01_c01/000064.fc6-1 (deflated 55%)\n",
            "  adding: output/c3d/v_ApplyEyeMakeup_g01_c01/000080.fc6-1 (deflated 53%)\n",
            "  adding: output/c3d/v_ApplyEyeMakeup_g01_c01/000096.fc6-1 (deflated 56%)\n",
            "  adding: output/c3d/v_ApplyEyeMakeup_g01_c01/000112.fc6-1 (deflated 58%)\n",
            "  adding: output/c3d/v_ApplyEyeMakeup_g01_c01/000128.fc6-1 (deflated 58%)\n",
            "  adding: output/c3d/v_ApplyEyeMakeup_g01_c01/000144.fc6-1 (deflated 56%)\n",
            "  adding: output/c3d/v_ApplyEyeMakeup_g01_c01/000000.prob (deflated 6%)\n",
            "  adding: output/c3d/v_ApplyEyeMakeup_g01_c01/000016.prob (deflated 7%)\n",
            "  adding: output/c3d/v_ApplyEyeMakeup_g01_c01/000032.prob (deflated 7%)\n",
            "  adding: output/c3d/v_ApplyEyeMakeup_g01_c01/000048.prob (deflated 7%)\n",
            "  adding: output/c3d/v_ApplyEyeMakeup_g01_c01/000064.prob (deflated 7%)\n",
            "  adding: output/c3d/v_ApplyEyeMakeup_g01_c01/000080.prob (deflated 7%)\n",
            "  adding: output/c3d/v_ApplyEyeMakeup_g01_c01/000096.prob (deflated 7%)\n",
            "  adding: output/c3d/v_ApplyEyeMakeup_g01_c01/000112.prob (deflated 7%)\n",
            "  adding: output/c3d/v_ApplyEyeMakeup_g01_c01/000128.prob (deflated 7%)\n",
            "  adding: output/c3d/v_ApplyEyeMakeup_g01_c01/000144.prob (deflated 7%)\n",
            "  adding: output/c3d/v_BaseballPitch_g01_c01/ (stored 0%)\n",
            "  adding: output/c3d/v_BaseballPitch_g01_c01/000000.fc7-1 (deflated 69%)\n",
            "  adding: output/c3d/v_BaseballPitch_g01_c01/000016.fc7-1 (deflated 71%)\n",
            "  adding: output/c3d/v_BaseballPitch_g01_c01/000032.fc7-1 (deflated 65%)\n",
            "  adding: output/c3d/v_BaseballPitch_g01_c01/000048.fc7-1 (deflated 67%)\n",
            "  adding: output/c3d/v_BaseballPitch_g01_c01/000064.fc7-1 (deflated 64%)\n",
            "  adding: output/c3d/v_BaseballPitch_g01_c01/000080.fc7-1 (deflated 62%)\n",
            "  adding: output/c3d/v_BaseballPitch_g01_c01/000000.fc6-1 (deflated 69%)\n",
            "  adding: output/c3d/v_BaseballPitch_g01_c01/000016.fc6-1 (deflated 68%)\n",
            "  adding: output/c3d/v_BaseballPitch_g01_c01/000032.fc6-1 (deflated 72%)\n",
            "  adding: output/c3d/v_BaseballPitch_g01_c01/000048.fc6-1 (deflated 74%)\n",
            "  adding: output/c3d/v_BaseballPitch_g01_c01/000064.fc6-1 (deflated 76%)\n",
            "  adding: output/c3d/v_BaseballPitch_g01_c01/000080.fc6-1 (deflated 76%)\n",
            "  adding: output/c3d/v_BaseballPitch_g01_c01/000000.prob (deflated 5%)\n",
            "  adding: output/c3d/v_BaseballPitch_g01_c01/000016.prob (deflated 5%)\n",
            "  adding: output/c3d/v_BaseballPitch_g01_c01/000032.prob (deflated 5%)\n",
            "  adding: output/c3d/v_BaseballPitch_g01_c01/000048.prob (deflated 4%)\n",
            "  adding: output/c3d/v_BaseballPitch_g01_c01/000064.prob (deflated 5%)\n",
            "  adding: output/c3d/v_BaseballPitch_g01_c01/000080.prob (deflated 5%)\n",
            "  adding: output/c3d/v_JumpRope_g09_c06/ (stored 0%)\n",
            "  adding: output/c3d/v_JumpRope_g09_c06/000000.fc6-1 (deflated 68%)\n",
            "  adding: output/c3d/v_JumpRope_g09_c06/000016.fc6-1 (deflated 69%)\n",
            "  adding: output/c3d/v_JumpRope_g09_c06/000032.fc6-1 (deflated 70%)\n",
            "  adding: output/c3d/v_JumpRope_g09_c06/000048.fc6-1 (deflated 70%)\n",
            "  adding: output/c3d/v_JumpRope_g09_c06/000064.fc6-1 (deflated 69%)\n",
            "  adding: output/c3d/v_JumpRope_g09_c06/000080.fc6-1 (deflated 67%)\n",
            "  adding: output/c3d/v_JumpRope_g09_c06/000096.fc6-1 (deflated 70%)\n",
            "  adding: output/c3d/v_JumpRope_g09_c06/000112.fc6-1 (deflated 70%)\n",
            "  adding: output/c3d/v_JumpRope_g09_c06/000128.fc6-1 (deflated 71%)\n",
            "  adding: output/c3d/v_JumpRope_g09_c06/000144.fc6-1 (deflated 70%)\n",
            "  adding: output/c3d/v_JumpRope_g09_c06/000160.fc6-1 (deflated 71%)\n",
            "  adding: output/c3d/v_JumpRope_g09_c06/000176.fc6-1 (deflated 70%)\n",
            "  adding: output/c3d/v_JumpRope_g09_c06/000192.fc6-1 (deflated 69%)\n",
            "  adding: output/c3d/v_JumpRope_g09_c06/000208.fc6-1 (deflated 69%)\n",
            "  adding: output/c3d/v_JumpRope_g09_c06/000224.fc6-1 (deflated 69%)\n",
            "  adding: output/c3d/v_JumpRope_g09_c06/000240.fc6-1 (deflated 70%)\n",
            "  adding: output/c3d/v_JumpRope_g09_c06/000256.fc6-1 (deflated 70%)\n",
            "  adding: output/c3d/v_JumpRope_g09_c06/000272.fc6-1 (deflated 71%)\n",
            "  adding: output/c3d/v_JumpRope_g09_c06/000288.fc6-1 (deflated 70%)\n",
            "  adding: output/c3d/v_JumpRope_g09_c06/000304.fc6-1 (deflated 70%)\n",
            "  adding: output/c3d/v_JumpRope_g09_c06/000320.fc6-1 (deflated 70%)\n",
            "  adding: output/c3d/v_JumpRope_g09_c06/000336.fc6-1 (deflated 69%)\n",
            "  adding: output/c3d/v_JumpRope_g09_c06/000352.fc6-1 (deflated 70%)\n",
            "  adding: output/c3d/v_JumpRope_g09_c06/000368.fc6-1 (deflated 71%)\n",
            "  adding: output/c3d/v_JumpRope_g09_c06/000384.fc6-1 (deflated 69%)\n",
            "  adding: output/c3d/v_JumpRope_g09_c06/000400.fc6-1 (deflated 70%)\n",
            "  adding: output/c3d/v_JumpRope_g09_c06/000416.fc6-1 (deflated 71%)\n",
            "  adding: output/c3d/v_JumpRope_g09_c06/000432.fc6-1 (deflated 69%)\n",
            "  adding: output/c3d/v_JumpRope_g09_c06/000448.fc6-1 (deflated 69%)\n",
            "  adding: output/c3d/v_JumpRope_g09_c06/000464.fc6-1 (deflated 70%)\n",
            "  adding: output/c3d/v_JumpRope_g16_c02/ (stored 0%)\n",
            "  adding: output/c3d/v_JumpRope_g16_c02/000000.fc6-1 (deflated 75%)\n",
            "  adding: output/c3d/v_JumpRope_g16_c02/000016.fc6-1 (deflated 75%)\n",
            "  adding: output/c3d/v_JumpRope_g16_c02/000032.fc6-1 (deflated 75%)\n",
            "  adding: output/c3d/v_JumpRope_g16_c02/000048.fc6-1 (deflated 75%)\n",
            "  adding: output/c3d/v_JumpRope_g16_c02/000064.fc6-1 (deflated 74%)\n",
            "  adding: output/c3d/v_JumpRope_g16_c02/000080.fc6-1 (deflated 74%)\n",
            "  adding: output/c3d/v_JumpRope_g16_c02/000096.fc6-1 (deflated 75%)\n",
            "  adding: output/c3d/v_JumpRope_g16_c02/000112.fc6-1 (deflated 75%)\n",
            "  adding: output/c3d/v_JumpRope_g16_c02/000128.fc6-1 (deflated 75%)\n",
            "  adding: output/c3d/v_JumpRope_g16_c02/000144.fc6-1 (deflated 74%)\n",
            "  adding: output/c3d/v_JumpRope_g16_c02/000160.fc6-1 (deflated 74%)\n",
            "  adding: output/c3d/v_JumpRope_g16_c02/000176.fc6-1 (deflated 74%)\n",
            "  adding: output/c3d/v_JumpRope_g16_c02/000192.fc6-1 (deflated 75%)\n",
            "  adding: output/c3d/v_JumpRope_g16_c02/000208.fc6-1 (deflated 75%)\n",
            "  adding: output/c3d/v_JumpRope_g16_c02/000224.fc6-1 (deflated 74%)\n",
            "  adding: output/c3d/v_JumpRope_g16_c02/000240.fc6-1 (deflated 75%)\n",
            "  adding: output/c3d/v_JumpRope_g16_c02/000256.fc6-1 (deflated 75%)\n",
            "  adding: output/c3d/v_JumpRope_g16_c02/000272.fc6-1 (deflated 75%)\n",
            "  adding: output/c3d/v_JumpRope_g16_c02/000288.fc6-1 (deflated 75%)\n",
            "  adding: output/c3d/v_JumpRope_g16_c02/000304.fc6-1 (deflated 75%)\n",
            "  adding: output/c3d/v_JumpRope_g16_c02/000320.fc6-1 (deflated 75%)\n",
            "  adding: output/c3d/v_JumpRope_g16_c02/000336.fc6-1 (deflated 75%)\n",
            "  adding: output/c3d/v_JumpRope_g16_c02/000352.fc6-1 (deflated 75%)\n",
            "  adding: output/c3d/v_JumpRope_g16_c02/000368.fc6-1 (deflated 75%)\n",
            "  adding: output/c3d/v_JumpRope_g16_c02/000384.fc6-1 (deflated 74%)\n",
            "  adding: output/c3d/v_JumpRope_g16_c02/000400.fc6-1 (deflated 74%)\n",
            "  adding: output/c3d/v_JumpRope_g16_c02/000416.fc6-1 (deflated 75%)\n",
            "  adding: output/c3d/v_JumpRope_g16_c02/000432.fc6-1 (deflated 75%)\n",
            "  adding: output/c3d/v_JumpRope_g16_c02/000448.fc6-1 (deflated 76%)\n",
            "  adding: output/c3d/v_JumpRope_g16_c02/000464.fc6-1 (deflated 75%)\n",
            "  adding: output/c3d/v_JumpRope_g22_c01/ (stored 0%)\n",
            "  adding: output/c3d/v_JumpRope_g22_c01/000000.fc6-1 (deflated 77%)\n",
            "  adding: output/c3d/v_JumpRope_g22_c01/000016.fc6-1 (deflated 78%)\n",
            "  adding: output/c3d/v_JumpRope_g22_c01/000032.fc6-1 (deflated 78%)\n",
            "  adding: output/c3d/v_JumpRope_g22_c01/000048.fc6-1 (deflated 78%)\n",
            "  adding: output/c3d/v_JumpRope_g22_c01/000064.fc6-1 (deflated 78%)\n",
            "  adding: output/c3d/v_JumpRope_g22_c01/000080.fc6-1 (deflated 78%)\n",
            "  adding: output/c3d/v_JumpRope_g22_c01/000096.fc6-1 (deflated 78%)\n",
            "  adding: output/c3d/v_JumpRope_g22_c01/000112.fc6-1 (deflated 79%)\n",
            "  adding: output/c3d/v_JumpRope_g22_c01/000128.fc6-1 (deflated 77%)\n",
            "  adding: output/c3d/v_JumpRope_g22_c01/000144.fc6-1 (deflated 79%)\n",
            "  adding: output/c3d/v_JumpRope_g22_c01/000160.fc6-1 (deflated 78%)\n",
            "  adding: output/c3d/v_JumpRope_g22_c01/000176.fc6-1 (deflated 77%)\n",
            "  adding: output/c3d/v_JumpRope_g23_c05/ (stored 0%)\n",
            "  adding: output/c3d/v_JumpRope_g23_c05/000000.fc6-1 (deflated 75%)\n",
            "  adding: output/c3d/v_JumpRope_g23_c05/000016.fc6-1 (deflated 76%)\n",
            "  adding: output/c3d/v_JumpRope_g23_c05/000032.fc6-1 (deflated 75%)\n",
            "  adding: output/c3d/v_JumpRope_g23_c05/000048.fc6-1 (deflated 75%)\n",
            "  adding: output/c3d/v_JumpRope_g23_c05/000064.fc6-1 (deflated 77%)\n",
            "  adding: output/c3d/v_JumpRope_g23_c05/000080.fc6-1 (deflated 76%)\n",
            "  adding: output/c3d/v_JumpRope_g23_c05/000096.fc6-1 (deflated 76%)\n",
            "  adding: output/c3d/v_JumpRope_g23_c05/000112.fc6-1 (deflated 76%)\n",
            "  adding: output/c3d/v_JumpRope_g23_c05/000128.fc6-1 (deflated 76%)\n",
            "  adding: output/c3d/v_JumpRope_g23_c05/000144.fc6-1 (deflated 76%)\n",
            "  adding: output/c3d/v_JumpRope_g23_c05/000160.fc6-1 (deflated 76%)\n",
            "  adding: output/c3d/v_JumpRope_g23_c05/000176.fc6-1 (deflated 75%)\n",
            "  adding: output/c3d/v_JumpRope_g23_c05/000192.fc6-1 (deflated 76%)\n",
            "  adding: output/c3d/v_JumpRope_g23_c05/000208.fc6-1 (deflated 77%)\n",
            "  adding: output/c3d/v_JumpRope_g23_c05/000224.fc6-1 (deflated 75%)\n",
            "  adding: output/c3d/v_Punch_g19_c03/ (stored 0%)\n",
            "  adding: output/c3d/v_Punch_g19_c03/000000.fc6-1 (deflated 75%)\n",
            "  adding: output/c3d/v_Punch_g19_c03/000016.fc6-1 (deflated 76%)\n",
            "  adding: output/c3d/v_Punch_g19_c03/000032.fc6-1 (deflated 76%)\n",
            "  adding: output/c3d/v_Punch_g19_c03/000048.fc6-1 (deflated 79%)\n",
            "  adding: output/c3d/v_Punch_g19_c03/000064.fc6-1 (deflated 75%)\n",
            "  adding: output/c3d/v_Punch_g19_c03/000080.fc6-1 (deflated 74%)\n",
            "  adding: output/c3d/v_Punch_g19_c03/000096.fc6-1 (deflated 77%)\n",
            "  adding: output/c3d/v_Punch_g19_c03/000112.fc6-1 (deflated 78%)\n",
            "  adding: output/c3d/v_Punch_g19_c03/000128.fc6-1 (deflated 78%)\n",
            "  adding: output/c3d/v_Punch_g19_c03/000144.fc6-1 (deflated 79%)\n",
            "  adding: output/c3d/v_Punch_g19_c03/000160.fc6-1 (deflated 78%)\n",
            "  adding: output/c3d/v_Punch_g19_c03/000176.fc6-1 (deflated 79%)\n",
            "  adding: output/c3d/v_Punch_g19_c03/000192.fc6-1 (deflated 80%)\n",
            "  adding: output/c3d/v_Punch_g19_c03/000208.fc6-1 (deflated 80%)\n",
            "  adding: output/c3d/v_Punch_g19_c03/000224.fc6-1 (deflated 80%)\n",
            "  adding: output/c3d/v_Punch_g19_c03/000240.fc6-1 (deflated 78%)\n",
            "  adding: output/c3d/v_Punch_g19_c03/000256.fc6-1 (deflated 80%)\n",
            "  adding: output/c3d/v_Punch_g19_c03/000272.fc6-1 (deflated 79%)\n",
            "  adding: output/c3d/v_Punch_g21_c05/ (stored 0%)\n",
            "  adding: output/c3d/v_Punch_g21_c05/000000.fc6-1 (deflated 82%)\n",
            "  adding: output/c3d/v_Punch_g21_c05/000016.fc6-1 (deflated 80%)\n",
            "  adding: output/c3d/v_Punch_g21_c05/000032.fc6-1 (deflated 78%)\n",
            "  adding: output/c3d/v_Punch_g21_c05/000048.fc6-1 (deflated 77%)\n",
            "  adding: output/c3d/v_Punch_g21_c05/000064.fc6-1 (deflated 76%)\n",
            "  adding: output/c3d/v_Punch_g21_c05/000080.fc6-1 (deflated 78%)\n",
            "  adding: output/c3d/v_Punch_g21_c05/000096.fc6-1 (deflated 78%)\n",
            "  adding: output/c3d/v_Punch_g21_c05/000112.fc6-1 (deflated 79%)\n",
            "  adding: output/c3d/v_Punch_g21_c05/000128.fc6-1 (deflated 79%)\n",
            "  adding: output/c3d/v_Punch_g21_c05/000144.fc6-1 (deflated 78%)\n",
            "  adding: output/c3d/v_Punch_g21_c05/000160.fc6-1 (deflated 78%)\n",
            "  adding: output/c3d/v_Punch_g21_c05/000176.fc6-1 (deflated 79%)\n",
            "  adding: output/c3d/v_Punch_g21_c05/000192.fc6-1 (deflated 79%)\n",
            "  adding: output/c3d/v_Punch_g21_c05/000208.fc6-1 (deflated 80%)\n",
            "  adding: output/c3d/v_Punch_g21_c05/000224.fc6-1 (deflated 80%)\n",
            "  adding: output/c3d/v_Punch_g21_c05/000240.fc6-1 (deflated 78%)\n",
            "  adding: output/c3d/v_Punch_g21_c05/000256.fc6-1 (deflated 78%)\n",
            "  adding: output/c3d/v_Punch_g21_c05/000272.fc6-1 (deflated 79%)\n",
            "  adding: output/c3d/v_SalsaSpin_g03_c06/ (stored 0%)\n",
            "  adding: output/c3d/v_SalsaSpin_g03_c06/000000.fc6-1 (deflated 79%)\n",
            "  adding: output/c3d/v_SalsaSpin_g03_c06/000016.fc6-1 (deflated 79%)\n",
            "  adding: output/c3d/v_SalsaSpin_g03_c06/000032.fc6-1 (deflated 76%)\n",
            "  adding: output/c3d/v_SalsaSpin_g03_c06/000048.fc6-1 (deflated 76%)\n",
            "  adding: output/c3d/v_SalsaSpin_g03_c06/000064.fc6-1 (deflated 78%)\n",
            "  adding: output/c3d/v_SalsaSpin_g03_c06/000080.fc6-1 (deflated 78%)\n",
            "  adding: output/c3d/v_SalsaSpin_g03_c06/000096.fc6-1 (deflated 76%)\n",
            "  adding: output/c3d/v_SalsaSpin_g03_c06/000112.fc6-1 (deflated 79%)\n",
            "  adding: output/c3d/v_SalsaSpin_g03_c06/000128.fc6-1 (deflated 78%)\n",
            "  adding: output/c3d/v_SalsaSpin_g03_c06/000144.fc6-1 (deflated 78%)\n",
            "  adding: output/c3d/v_SalsaSpin_g04_c05/ (stored 0%)\n",
            "  adding: output/c3d/v_SalsaSpin_g04_c05/000000.fc6-1 (deflated 72%)\n",
            "  adding: output/c3d/v_SalsaSpin_g04_c05/000016.fc6-1 (deflated 72%)\n",
            "  adding: output/c3d/v_SalsaSpin_g04_c05/000032.fc6-1 (deflated 71%)\n",
            "  adding: output/c3d/v_SalsaSpin_g04_c05/000048.fc6-1 (deflated 71%)\n",
            "  adding: output/c3d/v_SalsaSpin_g04_c05/000064.fc6-1 (deflated 70%)\n",
            "  adding: output/c3d/v_SalsaSpin_g04_c05/000080.fc6-1 (deflated 70%)\n",
            "  adding: output/c3d/v_SalsaSpin_g04_c05/000096.fc6-1 (deflated 72%)\n",
            "  adding: output/c3d/v_SalsaSpin_g04_c05/000112.fc6-1 (deflated 73%)\n",
            "  adding: output/c3d/v_SalsaSpin_g04_c05/000128.fc6-1 (deflated 73%)\n",
            "  adding: output/c3d/v_SalsaSpin_g04_c05/000144.fc6-1 (deflated 73%)\n",
            "  adding: output/c3d/v_SalsaSpin_g04_c05/000160.fc6-1 (deflated 73%)\n",
            "  adding: output/c3d/v_SalsaSpin_g04_c05/000176.fc6-1 (deflated 75%)\n",
            "  adding: output/c3d/v_SalsaSpin_g04_c05/000192.fc6-1 (deflated 75%)\n",
            "  adding: output/c3d/v_SalsaSpin_g04_c05/000208.fc6-1 (deflated 73%)\n",
            "  adding: output/c3d/v_SalsaSpin_g04_c05/000224.fc6-1 (deflated 72%)\n",
            "  adding: output/c3d/v_SalsaSpin_g04_c05/000240.fc6-1 (deflated 73%)\n",
            "  adding: output/c3d/v_SalsaSpin_g04_c05/000256.fc6-1 (deflated 72%)\n",
            "  adding: output/c3d/v_SalsaSpin_g04_c05/000272.fc6-1 (deflated 71%)\n",
            "  adding: output/c3d/v_SalsaSpin_g04_c05/000288.fc6-1 (deflated 75%)\n",
            "  adding: output/c3d/v_SalsaSpin_g04_c05/000304.fc6-1 (deflated 72%)\n",
            "  adding: output/c3d/v_SalsaSpin_g10_c05/ (stored 0%)\n",
            "  adding: output/c3d/v_SalsaSpin_g10_c05/000000.fc6-1 (deflated 70%)\n",
            "  adding: output/c3d/v_SalsaSpin_g10_c05/000016.fc6-1 (deflated 68%)\n",
            "  adding: output/c3d/v_SalsaSpin_g10_c05/000032.fc6-1 (deflated 70%)\n",
            "  adding: output/c3d/v_SalsaSpin_g10_c05/000048.fc6-1 (deflated 71%)\n",
            "  adding: output/c3d/v_SalsaSpin_g10_c05/000064.fc6-1 (deflated 71%)\n",
            "  adding: output/c3d/v_SalsaSpin_g10_c05/000080.fc6-1 (deflated 69%)\n",
            "  adding: output/c3d/v_SalsaSpin_g10_c05/000096.fc6-1 (deflated 70%)\n",
            "  adding: output/c3d/v_SalsaSpin_g10_c05/000112.fc6-1 (deflated 71%)\n",
            "  adding: output/c3d/v_SalsaSpin_g10_c05/000128.fc6-1 (deflated 72%)\n",
            "  adding: output/c3d/v_SalsaSpin_g10_c05/000144.fc6-1 (deflated 70%)\n",
            "  adding: output/c3d/v_SalsaSpin_g18_c02/ (stored 0%)\n",
            "  adding: output/c3d/v_SalsaSpin_g18_c02/000000.fc6-1 (deflated 74%)\n",
            "  adding: output/c3d/v_SalsaSpin_g18_c02/000016.fc6-1 (deflated 75%)\n",
            "  adding: output/c3d/v_SalsaSpin_g18_c02/000032.fc6-1 (deflated 76%)\n",
            "  adding: output/c3d/v_SalsaSpin_g18_c02/000048.fc6-1 (deflated 77%)\n",
            "  adding: output/c3d/v_SalsaSpin_g18_c02/000064.fc6-1 (deflated 77%)\n",
            "  adding: output/c3d/v_SalsaSpin_g18_c02/000080.fc6-1 (deflated 77%)\n",
            "  adding: output/c3d/v_SalsaSpin_g18_c02/000096.fc6-1 (deflated 77%)\n",
            "  adding: output/c3d/v_SalsaSpin_g18_c02/000112.fc6-1 (deflated 77%)\n",
            "  adding: output/c3d/v_SalsaSpin_g18_c02/000128.fc6-1 (deflated 76%)\n",
            "  adding: output/c3d/v_SalsaSpin_g18_c02/000144.fc6-1 (deflated 74%)\n"
          ],
          "name": "stdout"
        }
      ]
    },
    {
      "cell_type": "markdown",
      "metadata": {
        "colab_type": "text",
        "id": "77bj_hAOK3iH"
      },
      "source": [
        "## Download"
      ]
    },
    {
      "cell_type": "code",
      "metadata": {
        "colab_type": "code",
        "id": "dK4I_ZS8La8W",
        "outputId": "32f26242-1387-465f-bd92-1acd317adc75",
        "colab": {
          "base_uri": "https://localhost:8080/",
          "height": 35
        }
      },
      "source": [
        "!pwd"
      ],
      "execution_count": 39,
      "outputs": [
        {
          "output_type": "stream",
          "text": [
            "/content/gdrive/My Drive/C3D/C3D-v1.0/examples/c3d_feature_extraction\n"
          ],
          "name": "stdout"
        }
      ]
    },
    {
      "cell_type": "code",
      "metadata": {
        "colab_type": "code",
        "id": "ics8KQdsKp5Q",
        "colab": {}
      },
      "source": [
        "from google.colab import files\n",
        "files.download('output_novelty_features_c3d_extract.zip') "
      ],
      "execution_count": 0,
      "outputs": []
    },
    {
      "cell_type": "markdown",
      "metadata": {
        "id": "29Dwy_uVs7l_",
        "colab_type": "text"
      },
      "source": [
        "Faça download do arquivo zipado com as features e bom trabalho!"
      ]
    }
  ]
}